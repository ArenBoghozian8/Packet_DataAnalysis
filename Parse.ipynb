{
 "cells": [
  {
   "cell_type": "code",
   "execution_count": 55,
   "metadata": {
    "collapsed": true
   },
   "outputs": [],
   "source": [
    "import csv\n",
    "import matplotlib\n",
    "import pandas as pd\n",
    "import numpy as np\n",
    "import datetime\n",
    "import random\n",
    "import matplotlib.pyplot as plt"
   ]
  },
  {
   "cell_type": "code",
   "execution_count": 56,
   "metadata": {
    "collapsed": true
   },
   "outputs": [],
   "source": [
    "data = pd.read_csv(\"CompressionAggregatesAllIPs.csv\")"
   ]
  },
  {
   "cell_type": "code",
   "execution_count": 57,
   "metadata": {},
   "outputs": [],
   "source": [
    "x = np.array(data[data['host_ip'] == '165.242.90.129']['test_date'])\n",
    "y = np.array(data[data['host_ip'] == '165.242.90.129']['discrimination_losses_str'])\n",
    "z = np.array(data[data['host_ip'] == '165.242.90.129']['base_losses_str'])"
   ]
  },
  {
   "cell_type": "code",
   "execution_count": 82,
   "metadata": {
    "collapsed": true
   },
   "outputs": [],
   "source": [
    "x_axis = []\n",
    "y_axis = []\n",
    "z_axis = []\n",
    "for i in range(0, len(x), 2):\n",
    "    x_axis.append(str(x[i][:][6:16]))\n",
    "    y_axis.append(str((y[i]/5000) * 100))\n",
    "    z_axis.append(str((z[i]/5000) * 100))"
   ]
  },
  {
   "cell_type": "code",
   "execution_count": 83,
   "metadata": {},
   "outputs": [
    {
     "data": {
      "text/plain": [
       "['4-20 16:49',\n",
       " '4-20 17:49',\n",
       " '4-20 18:49',\n",
       " '4-20 19:48',\n",
       " '4-20 20:48',\n",
       " '4-20 21:48',\n",
       " '4-20 22:48',\n",
       " '4-20 23:48',\n",
       " '4-21 00:48',\n",
       " '4-21 01:48',\n",
       " '4-21 02:48',\n",
       " '4-21 03:48',\n",
       " '4-21 05:16',\n",
       " '4-21 16:12',\n",
       " '4-21 17:12',\n",
       " '4-21 18:12',\n",
       " '4-21 19:12',\n",
       " '4-21 20:12',\n",
       " '4-21 21:12',\n",
       " '4-21 22:12',\n",
       " '4-22 00:12',\n",
       " '4-22 01:12',\n",
       " '4-22 02:12',\n",
       " '4-22 03:12',\n",
       " '4-22 04:12',\n",
       " '4-22 05:12',\n",
       " '4-22 06:12',\n",
       " '4-22 07:12',\n",
       " '4-22 08:12',\n",
       " '4-22 09:12',\n",
       " '4-22 10:12',\n",
       " '4-22 11:12',\n",
       " '4-22 12:12',\n",
       " '4-22 13:12',\n",
       " '4-22 14:12',\n",
       " '4-22 15:12',\n",
       " '4-22 16:12',\n",
       " '4-22 17:12',\n",
       " '4-22 18:12',\n",
       " '4-22 19:12',\n",
       " '4-22 20:12',\n",
       " '4-22 21:12',\n",
       " '4-22 22:12',\n",
       " '4-22 23:12']"
      ]
     },
     "execution_count": 83,
     "metadata": {},
     "output_type": "execute_result"
    }
   ],
   "source": [
    "x_axis"
   ]
  },
  {
   "cell_type": "code",
   "execution_count": 84,
   "metadata": {},
   "outputs": [
    {
     "data": {
      "image/png": "[encoded data removed]",
      "text/plain": [
       "<matplotlib.figure.Figure at 0x7fbed0a12b38>"
      ]
     },
     "metadata": {},
     "output_type": "display_data"
    }
   ],
   "source": [
    "xn = range(len(x_axis))\n",
    "plt.plot(xn, y_axis, 'ro')\n",
    "plt.plot(xn, z_axis, 'go')\n",
    "plt.xticks(xn, x_axis)\n",
    "\n",
    "plt.plot()\n",
    "ax = plt.gca()\n",
    "#plt.axis([-1,32,-2,41])\n",
    "\n",
    "plt.xlabel('Time of the day')\n",
    "plt.ylabel('Percent of Losses')\n",
    "plt.title(\"Discrimination Losses\")\n",
    "\n",
    "plt.xticks(rotation=90)\n",
    "for label in ax.get_xaxis().get_ticklabels()[::2]:\n",
    "    label.set_visible(False)\n",
    "    \n",
    "plt.tight_layout()\n",
    "\n",
    "\n",
    "plt.show()"
   ]
  },
  {
   "cell_type": "markdown",
   "metadata": {
    "collapsed": true
   },
   "source": [
    "Plotly"
   ]
  },
  {
   "cell_type": "code",
   "execution_count": 76,
   "metadata": {},
   "outputs": [
    {
     "data": {
      "text/html": [
       "<script>requirejs.config({paths: { 'plotly': ['https://cdn.plot.ly/plotly-latest.min']},});if(!window.Plotly) {{require(['plotly'],function(plotly) {window.Plotly=plotly;});}}</script>"
      ],
      "text/vnd.plotly.v1+html": [
       "<script>requirejs.config({paths: { 'plotly': ['https://cdn.plot.ly/plotly-latest.min']},});if(!window.Plotly) {{require(['plotly'],function(plotly) {window.Plotly=plotly;});}}</script>"
      ]
     },
     "metadata": {},
     "output_type": "display_data"
    }
   ],
   "source": [
    "import plotly\n",
    "plotly.offline.init_notebook_mode(connected=True)\n",
    "import plotly.offline as py\n",
    "import plotly.graph_objs as go"
   ]
  },
  {
   "cell_type": "code",
   "execution_count": 121,
   "metadata": {},
   "outputs": [
    {
     "data": {
      "application/vnd.plotly.v1+json": {
       "data": [
        {
         "marker": {
          "color": "red",
          "size": 12
         },
         "mode": "markers",
         "name": "Discriminated",
         "type": "scatter",
         "x": [
          "4-20 16:49",
          "4-20 17:49",
          "4-20 18:49",
          "4-20 19:48",
          "4-20 20:48",
          "4-20 21:48",
          "4-20 22:48",
          "4-20 23:48",
          "4-21 00:48",
          "4-21 01:48",
          "4-21 02:48",
          "4-21 03:48",
          "4-21 05:16",
          "4-21 16:12",
          "4-21 17:12",
          "4-21 18:12",
          "4-21 19:12",
          "4-21 20:12",
          "4-21 21:12",
          "4-21 22:12",
          "4-22 00:12",
          "4-22 01:12",
          "4-22 02:12",
          "4-22 03:12",
          "4-22 04:12",
          "4-22 05:12",
          "4-22 06:12",
          "4-22 07:12",
          "4-22 08:12",
          "4-22 09:12",
          "4-22 10:12",
          "4-22 11:12",
          "4-22 12:12",
          "4-22 13:12",
          "4-22 14:12",
          "4-22 15:12",
          "4-22 16:12",
          "4-22 17:12",
          "4-22 18:12",
          "4-22 19:12",
          "4-22 20:12",
          "4-22 21:12",
          "4-22 22:12",
          "4-22 23:12"
         ],
         "y": [
          "0.0",
          "4.94",
          "0.0",
          "50.22",
          "50.06",
          "49.76",
          "47.9",
          "48.5",
          "48.78",
          "49.2",
          "48.58",
          "48.48",
          "0.0",
          "49.06",
          "49.02",
          "49.86",
          "49.12",
          "49.86",
          "48.3",
          "49.32",
          "50.06",
          "49.12",
          "49.6",
          "48.88",
          "49.38",
          "49.76",
          "48.74",
          "48.88",
          "48.58",
          "48.3",
          "47.78",
          "48.04",
          "50.64",
          "49.2",
          "49.66",
          "48.78",
          "49.36",
          "50.44",
          "50.72",
          "48.52",
          "50.36",
          "49.76",
          "50.3",
          "48.58"
         ]
        },
        {
         "marker": {
          "color": "green",
          "size": 12
         },
         "mode": "markers",
         "name": "Base",
         "type": "scatter",
         "x": [
          "4-20 16:49",
          "4-20 17:49",
          "4-20 18:49",
          "4-20 19:48",
          "4-20 20:48",
          "4-20 21:48",
          "4-20 22:48",
          "4-20 23:48",
          "4-21 00:48",
          "4-21 01:48",
          "4-21 02:48",
          "4-21 03:48",
          "4-21 05:16",
          "4-21 16:12",
          "4-21 17:12",
          "4-21 18:12",
          "4-21 19:12",
          "4-21 20:12",
          "4-21 21:12",
          "4-21 22:12",
          "4-22 00:12",
          "4-22 01:12",
          "4-22 02:12",
          "4-22 03:12",
          "4-22 04:12",
          "4-22 05:12",
          "4-22 06:12",
          "4-22 07:12",
          "4-22 08:12",
          "4-22 09:12",
          "4-22 10:12",
          "4-22 11:12",
          "4-22 12:12",
          "4-22 13:12",
          "4-22 14:12",
          "4-22 15:12",
          "4-22 16:12",
          "4-22 17:12",
          "4-22 18:12",
          "4-22 19:12",
          "4-22 20:12",
          "4-22 21:12",
          "4-22 22:12",
          "4-22 23:12"
         ],
         "y": [
          "1.32",
          "1.34",
          "1.3",
          "1.3",
          "1.32",
          "1.32",
          "1.3",
          "1.32",
          "1.3",
          "1.32",
          "1.3",
          "1.32",
          "0.0",
          "1.3",
          "1.3",
          "5.94",
          "1.3",
          "1.3",
          "1.34",
          "1.32",
          "1.32",
          "1.32",
          "1.3",
          "1.32",
          "1.3",
          "1.3",
          "1.3",
          "1.3",
          "1.3",
          "0.0",
          "0.0",
          "1.0",
          "0.02",
          "0.0",
          "0.0",
          "0.0",
          "1.44",
          "35.36",
          "32.14",
          "31.76",
          "31.34",
          "32.64",
          "31.54",
          "32.2"
         ]
        }
       ],
       "layout": {
        "height": 2500,
        "title": "Packet Loss (pl2.sos.info.hiroshima-cu.ac.jp)",
        "width": 2500,
        "xaxis": {
         "range": [
          16.5,
          40.5
         ],
         "title": "Time"
        },
        "yaxis": {
         "title": "Percent of Loss"
        }
       }
      },
      "text/html": [
       "<div id=\"a9484ff4-47ef-479d-a020-4169ef255277\" style=\"height: 2500px; width: 2500px;\" class=\"plotly-graph-div\"></div><script type=\"text/javascript\">require([\"plotly\"], function(Plotly) { window.PLOTLYENV=window.PLOTLYENV || {};window.PLOTLYENV.BASE_URL=\"https://plot.ly\";Plotly.newPlot(\"a9484ff4-47ef-479d-a020-4169ef255277\", [{\"type\": \"scatter\", \"x\": [\"4-20 16:49\", \"4-20 17:49\", \"4-20 18:49\", \"4-20 19:48\", \"4-20 20:48\", \"4-20 21:48\", \"4-20 22:48\", \"4-20 23:48\", \"4-21 00:48\", \"4-21 01:48\", \"4-21 02:48\", \"4-21 03:48\", \"4-21 05:16\", \"4-21 16:12\", \"4-21 17:12\", \"4-21 18:12\", \"4-21 19:12\", \"4-21 20:12\", \"4-21 21:12\", \"4-21 22:12\", \"4-22 00:12\", \"4-22 01:12\", \"4-22 02:12\", \"4-22 03:12\", \"4-22 04:12\", \"4-22 05:12\", \"4-22 06:12\", \"4-22 07:12\", \"4-22 08:12\", \"4-22 09:12\", \"4-22 10:12\", \"4-22 11:12\", \"4-22 12:12\", \"4-22 13:12\", \"4-22 14:12\", \"4-22 15:12\", \"4-22 16:12\", \"4-22 17:12\", \"4-22 18:12\", \"4-22 19:12\", \"4-22 20:12\", \"4-22 21:12\", \"4-22 22:12\", \"4-22 23:12\"], \"y\": [\"0.0\", \"4.94\", \"0.0\", \"50.22\", \"50.06\", \"49.76\", \"47.9\", \"48.5\", \"48.78\", \"49.2\", \"48.58\", \"48.48\", \"0.0\", \"49.06\", \"49.02\", \"49.86\", \"49.12\", \"49.86\", \"48.3\", \"49.32\", \"50.06\", \"49.12\", \"49.6\", \"48.88\", \"49.38\", \"49.76\", \"48.74\", \"48.88\", \"48.58\", \"48.3\", \"47.78\", \"48.04\", \"50.64\", \"49.2\", \"49.66\", \"48.78\", \"49.36\", \"50.44\", \"50.72\", \"48.52\", \"50.36\", \"49.76\", \"50.3\", \"48.58\"], \"marker\": {\"color\": \"red\", \"size\": 12}, \"mode\": \"markers\", \"name\": \"Discriminated\"}, {\"type\": \"scatter\", \"x\": [\"4-20 16:49\", \"4-20 17:49\", \"4-20 18:49\", \"4-20 19:48\", \"4-20 20:48\", \"4-20 21:48\", \"4-20 22:48\", \"4-20 23:48\", \"4-21 00:48\", \"4-21 01:48\", \"4-21 02:48\", \"4-21 03:48\", \"4-21 05:16\", \"4-21 16:12\", \"4-21 17:12\", \"4-21 18:12\", \"4-21 19:12\", \"4-21 20:12\", \"4-21 21:12\", \"4-21 22:12\", \"4-22 00:12\", \"4-22 01:12\", \"4-22 02:12\", \"4-22 03:12\", \"4-22 04:12\", \"4-22 05:12\", \"4-22 06:12\", \"4-22 07:12\", \"4-22 08:12\", \"4-22 09:12\", \"4-22 10:12\", \"4-22 11:12\", \"4-22 12:12\", \"4-22 13:12\", \"4-22 14:12\", \"4-22 15:12\", \"4-22 16:12\", \"4-22 17:12\", \"4-22 18:12\", \"4-22 19:12\", \"4-22 20:12\", \"4-22 21:12\", \"4-22 22:12\", \"4-22 23:12\"], \"y\": [\"1.32\", \"1.34\", \"1.3\", \"1.3\", \"1.32\", \"1.32\", \"1.3\", \"1.32\", \"1.3\", \"1.32\", \"1.3\", \"1.32\", \"0.0\", \"1.3\", \"1.3\", \"5.94\", \"1.3\", \"1.3\", \"1.34\", \"1.32\", \"1.32\", \"1.32\", \"1.3\", \"1.32\", \"1.3\", \"1.3\", \"1.3\", \"1.3\", \"1.3\", \"0.0\", \"0.0\", \"1.0\", \"0.02\", \"0.0\", \"0.0\", \"0.0\", \"1.44\", \"35.36\", \"32.14\", \"31.76\", \"31.34\", \"32.64\", \"31.54\", \"32.2\"], \"marker\": {\"color\": \"green\", \"size\": 12}, \"mode\": \"markers\", \"name\": \"Base\"}], {\"width\": 2500, \"height\": 2500, \"xaxis\": {\"title\": \"Time\", \"range\": [16.5, 40.5]}, \"yaxis\": {\"title\": \"Percent of Loss\"}, \"title\": \"Packet Loss (pl2.sos.info.hiroshima-cu.ac.jp)\"}, {\"showLink\": true, \"linkText\": \"Export to plot.ly\"})});</script>"
      ],
      "text/vnd.plotly.v1+html": [
       "<div id=\"a9484ff4-47ef-479d-a020-4169ef255277\" style=\"height: 2500px; width: 2500px;\" class=\"plotly-graph-div\"></div><script type=\"text/javascript\">require([\"plotly\"], function(Plotly) { window.PLOTLYENV=window.PLOTLYENV || {};window.PLOTLYENV.BASE_URL=\"https://plot.ly\";Plotly.newPlot(\"a9484ff4-47ef-479d-a020-4169ef255277\", [{\"type\": \"scatter\", \"x\": [\"4-20 16:49\", \"4-20 17:49\", \"4-20 18:49\", \"4-20 19:48\", \"4-20 20:48\", \"4-20 21:48\", \"4-20 22:48\", \"4-20 23:48\", \"4-21 00:48\", \"4-21 01:48\", \"4-21 02:48\", \"4-21 03:48\", \"4-21 05:16\", \"4-21 16:12\", \"4-21 17:12\", \"4-21 18:12\", \"4-21 19:12\", \"4-21 20:12\", \"4-21 21:12\", \"4-21 22:12\", \"4-22 00:12\", \"4-22 01:12\", \"4-22 02:12\", \"4-22 03:12\", \"4-22 04:12\", \"4-22 05:12\", \"4-22 06:12\", \"4-22 07:12\", \"4-22 08:12\", \"4-22 09:12\", \"4-22 10:12\", \"4-22 11:12\", \"4-22 12:12\", \"4-22 13:12\", \"4-22 14:12\", \"4-22 15:12\", \"4-22 16:12\", \"4-22 17:12\", \"4-22 18:12\", \"4-22 19:12\", \"4-22 20:12\", \"4-22 21:12\", \"4-22 22:12\", \"4-22 23:12\"], \"y\": [\"0.0\", \"4.94\", \"0.0\", \"50.22\", \"50.06\", \"49.76\", \"47.9\", \"48.5\", \"48.78\", \"49.2\", \"48.58\", \"48.48\", \"0.0\", \"49.06\", \"49.02\", \"49.86\", \"49.12\", \"49.86\", \"48.3\", \"49.32\", \"50.06\", \"49.12\", \"49.6\", \"48.88\", \"49.38\", \"49.76\", \"48.74\", \"48.88\", \"48.58\", \"48.3\", \"47.78\", \"48.04\", \"50.64\", \"49.2\", \"49.66\", \"48.78\", \"49.36\", \"50.44\", \"50.72\", \"48.52\", \"50.36\", \"49.76\", \"50.3\", \"48.58\"], \"marker\": {\"color\": \"red\", \"size\": 12}, \"mode\": \"markers\", \"name\": \"Discriminated\"}, {\"type\": \"scatter\", \"x\": [\"4-20 16:49\", \"4-20 17:49\", \"4-20 18:49\", \"4-20 19:48\", \"4-20 20:48\", \"4-20 21:48\", \"4-20 22:48\", \"4-20 23:48\", \"4-21 00:48\", \"4-21 01:48\", \"4-21 02:48\", \"4-21 03:48\", \"4-21 05:16\", \"4-21 16:12\", \"4-21 17:12\", \"4-21 18:12\", \"4-21 19:12\", \"4-21 20:12\", \"4-21 21:12\", \"4-21 22:12\", \"4-22 00:12\", \"4-22 01:12\", \"4-22 02:12\", \"4-22 03:12\", \"4-22 04:12\", \"4-22 05:12\", \"4-22 06:12\", \"4-22 07:12\", \"4-22 08:12\", \"4-22 09:12\", \"4-22 10:12\", \"4-22 11:12\", \"4-22 12:12\", \"4-22 13:12\", \"4-22 14:12\", \"4-22 15:12\", \"4-22 16:12\", \"4-22 17:12\", \"4-22 18:12\", \"4-22 19:12\", \"4-22 20:12\", \"4-22 21:12\", \"4-22 22:12\", \"4-22 23:12\"], \"y\": [\"1.32\", \"1.34\", \"1.3\", \"1.3\", \"1.32\", \"1.32\", \"1.3\", \"1.32\", \"1.3\", \"1.32\", \"1.3\", \"1.32\", \"0.0\", \"1.3\", \"1.3\", \"5.94\", \"1.3\", \"1.3\", \"1.34\", \"1.32\", \"1.32\", \"1.32\", \"1.3\", \"1.32\", \"1.3\", \"1.3\", \"1.3\", \"1.3\", \"1.3\", \"0.0\", \"0.0\", \"1.0\", \"0.02\", \"0.0\", \"0.0\", \"0.0\", \"1.44\", \"35.36\", \"32.14\", \"31.76\", \"31.34\", \"32.64\", \"31.54\", \"32.2\"], \"marker\": {\"color\": \"green\", \"size\": 12}, \"mode\": \"markers\", \"name\": \"Base\"}], {\"width\": 2500, \"height\": 2500, \"xaxis\": {\"title\": \"Time\", \"range\": [16.5, 40.5]}, \"yaxis\": {\"title\": \"Percent of Loss\"}, \"title\": \"Packet Loss (pl2.sos.info.hiroshima-cu.ac.jp)\"}, {\"showLink\": true, \"linkText\": \"Export to plot.ly\"})});</script>"
      ]
     },
     "metadata": {},
     "output_type": "display_data"
    },
    {
     "data": {
      "text/html": [
       "<script>function downloadimage(format, height, width, filename) {var p = document.getElementById('a9484ff4-47ef-479d-a020-4169ef255277');Plotly.downloadImage(p, {format: format, height: height, width: width, filename: filename});};if(document.readyState == 'complete') {{downloadimage('png', 600, 800, 'basic_dot-plot');}}</script>"
      ],
      "text/plain": [
       "<IPython.core.display.HTML object>"
      ]
     },
     "metadata": {},
     "output_type": "display_data"
    }
   ],
   "source": [
    "trace1 = {\"x\":x_axis, \"y\":y_axis, \"marker\": {\"color\": \"red\", \"size\": 12},\n",
    "          \"mode\": \"markers\",\n",
    "          \"name\": \"Discriminated\",\n",
    "          \"type\": \"scatter\"}\n",
    "\n",
    "\n",
    "trace2 = {\"x\":x_axis, \"y\":z_axis, \"marker\": {\"color\": \"green\", \"size\": 12},\n",
    "          \"mode\": \"markers\",\n",
    "          \"name\": \"Base\",\n",
    "          \"type\": \"scatter\"}\n",
    "\n",
    "\n",
    "\n",
    "data = [trace1, trace2]\n",
    "\n",
    "layout = {\"title\": \"Packet Loss (pl2.sos.info.hiroshima-cu.ac.jp)\",\n",
    "          \"xaxis\": {\"title\": \"Time\", },\n",
    "          \"yaxis\": {\"title\": \"Percent of Loss\"}}\n",
    "\n",
    "layout = go.Layout(\n",
    "    width = 2500,\n",
    "    height = 2500,\n",
    "    xaxis=dict(\n",
    "        title = \"Time\",\n",
    "        range=[16.5, 40.5]\n",
    "    ),\n",
    "    yaxis=dict(title=\"Percent of Loss\"),\n",
    "    \n",
    "    title='Packet Loss (pl2.sos.info.hiroshima-cu.ac.jp)',\n",
    ")\n",
    "\n",
    "fig = go.Figure(data=data, layout=layout)\n",
    "\n",
    "py.iplot(fig, filename='basic_dot-plot',image='png')"
   ]
  }
 ],
 "metadata": {
  "kernelspec": {
   "display_name": "Python 3",
   "language": "python",
   "name": "python3"
  },
  "language_info": {
   "codemirror_mode": {
    "name": "ipython",
    "version": 3
   },
   "file_extension": ".py",
   "mimetype": "text/x-python",
   "name": "python",
   "nbconvert_exporter": "python",
   "pygments_lexer": "ipython3",
   "version": "3.6.2"
  }
 },
 "nbformat": 4,
 "nbformat_minor": 2
}
