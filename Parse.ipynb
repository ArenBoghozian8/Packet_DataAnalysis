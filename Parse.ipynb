{
 "cells": [
  {
   "cell_type": "code",
   "execution_count": 2,
   "metadata": {},
   "outputs": [
    {
     "data": {
      "text/html": [
       "<script>requirejs.config({paths: { 'plotly': ['https://cdn.plot.ly/plotly-latest.min']},});if(!window.Plotly) {{require(['plotly'],function(plotly) {window.Plotly=plotly;});}}</script>"
      ],
      "text/vnd.plotly.v1+html": [
       "<script>requirejs.config({paths: { 'plotly': ['https://cdn.plot.ly/plotly-latest.min']},});if(!window.Plotly) {{require(['plotly'],function(plotly) {window.Plotly=plotly;});}}</script>"
      ]
     },
     "metadata": {},
     "output_type": "display_data"
    }
   ],
   "source": [
    "import csv\n",
    "import matplotlib\n",
    "import pandas as pd\n",
    "import numpy as np\n",
    "import datetime\n",
    "import random\n",
    "import matplotlib.pyplot as plt\n",
    "import os\n",
    "\n",
    "import plotly\n",
    "plotly.offline.init_notebook_mode(connected=True)\n",
    "import plotly.offline as py\n",
    "import plotly.graph_objs as go\n",
    "\n",
    "from ggplot import *"
   ]
  },
  {
   "cell_type": "markdown",
   "metadata": {},
   "source": [
    "# For Live Experiment"
   ]
  },
  {
   "cell_type": "code",
   "execution_count": 8,
   "metadata": {},
   "outputs": [],
   "source": [
    "\n",
    "def parse(ip, data):\n",
    "\n",
    "    x = np.array(data[data['host_ip'] == ip]['test_date'])\n",
    "    y = np.array(data[data['host_ip'] == ip]['discrimination_losses_str'])\n",
    "    z = np.array(data[data['host_ip'] == ip]['base_losses_str'])\n",
    "\n",
    "    x_ax = []\n",
    "    y_ax = []\n",
    "    z_ax = []\n",
    "    diff = []\n",
    "    for i in range(0, len(x)):\n",
    "        #x_ax.append(str(x[i][:][6:16]))\n",
    "        if i <= len(x) - 13:\n",
    "            x_ax.append(i+1)\n",
    "        if (i >= 5 and i < 11) or i >= 19:\n",
    "            y_ax.append(str((y[i]/5000) * 100))\n",
    "            z_ax.append(str((z[i]/5000) * 100))\n",
    "            diff.append( str(abs(((y[i]/5000) * 100) - ((z[i]/5000) * 100))))\n",
    "        \n",
    "    return x_ax, y_ax, z_ax, diff"
   ]
  },
  {
   "cell_type": "code",
   "execution_count": 37,
   "metadata": {},
   "outputs": [],
   "source": [
    "def draw(x_axis, y_axis, z_axis, diff, t, place ,isSecondDay):\n",
    "    \n",
    "    threshold  = []\n",
    "    for i in range(50):\n",
    "        threshold.append(20)\n",
    "        \n",
    "    # use below code to generate graphs with markrs only, or markers+line\n",
    "    trace1 = {\"x\":x_axis, \"y\":y_axis, \"marker\": {\"color\": \"#CD5C5C\", \"size\": 6, \"symbol\":\"x\"},\n",
    "              \"name\": \"Discriminated\",\n",
    "              \"type\": \"scatter\",\n",
    "              \"mode\": \"lines+markers\",\n",
    "              \"line\":{\"width\":1}\n",
    "              }\n",
    "\n",
    "    trace2 = {\"x\":x_axis, \"y\":z_axis, \"marker\": {\"color\": \"#3cb371\", \"size\": 6, \"symbol\":\"circle\"},\n",
    "              \"name\": \"Base\",\n",
    "              \"type\": \"scatter\",\n",
    "              \"mode\": \"lines+markers\",\n",
    "              \"line\":{\"width\":1}\n",
    "             }\n",
    "\n",
    "\n",
    "    trace3 = {\"x\":x_axis, \"y\":diff, \"marker\": {\"color\": \"#87cefa\", \"size\": 6, \"symbol\":\"triangle-up\"},\n",
    "              \"name\": chr(9651),\n",
    "              \"type\": \"scatter\",\n",
    "              \"mode\": \"lines+markers\", #lines+markers\n",
    "              \"line\":{\"width\":1}\n",
    "             }\n",
    "    \n",
    "    \n",
    "    # uncomment below code to generate dash lines only\n",
    "    \n",
    "#     trace1 = go.Scatter(\n",
    "#         x = x_axis,\n",
    "#         y = y_axis,\n",
    "#         marker={\"symbol\":\"x\"},\n",
    "#         name = 'Discriminated', \n",
    "#         line = dict(\n",
    "#             color = ('#CD5C5C'),\n",
    "#             width = 1,\n",
    "#             dash = 'dash')\n",
    "#     )\n",
    "\n",
    "#     trace2 = go.Scatter(\n",
    "#         x = x_axis,\n",
    "#         y = z_axis,\n",
    "#         marker={\"symbol\":\"circle\"}, \n",
    "#         name = 'Base', \n",
    "#         line = dict(\n",
    "#             color = ('#3cb371'),\n",
    "#             width = 1,\n",
    "#             dash = 'dash')\n",
    "#     )\n",
    "\n",
    "#     trace3 = go.Scatter(\n",
    "#         x = x_axis,\n",
    "#         y = diff,\n",
    "#         marker={\"symbol\":\"triangle-up\"}, \n",
    "#         name = chr(9651), \n",
    "#         line = dict(\n",
    "#             color = ('#87cefa'),\n",
    "#             width = 1,\n",
    "#             dash = 'dash')\n",
    "#     )\n",
    "\n",
    "    \n",
    "    #Trace 4 is only used for 20Percent threshold\n",
    "    trace4 = go.Scatter(\n",
    "        x = x_axis,\n",
    "        y = threshold,\n",
    "        showlegend=False,\n",
    "        line = dict(\n",
    "            color = ('grey'),\n",
    "            width = 1,\n",
    "            dash = 'dash')\n",
    "    )\n",
    "\n",
    "\n",
    "    data = [trace1, trace2, trace3, trace4]\n",
    "\n",
    "    \n",
    "    layout = go.Layout(\n",
    "        width = 2500,   # width and height of the image it self\n",
    "        height = 2500 ,\n",
    "        legend=dict(\n",
    "            x=1.01,        # x position of legend\n",
    "            y=.5,          # y position of legend\n",
    "            font=dict(\n",
    "                size=18   # Size of legend\n",
    "            )        \n",
    "        ),\n",
    "        \n",
    "        # Cosmetics for X axis\n",
    "        xaxis=dict(\n",
    "            title = \"Experiment ID\",    #title\n",
    "            showgrid=True,              # turn grid on or off\n",
    "            showticklabels=True,\n",
    "            #tickangle=45,  # Angle\n",
    "            showline=True,\n",
    "            mirror='ticks',\n",
    "            linewidth=1,       # size of border, up and down\n",
    "            range=[0,11.5], \n",
    "            titlefont=dict(\n",
    "                size=21           # size of xaxis title\n",
    "            )            \n",
    "            \n",
    "        ),\n",
    "        yaxis=dict(\n",
    "            title=\"Loss Rate (%)\",\n",
    "            range=[0,102],\n",
    "            showgrid=True,\n",
    "            showline=True,\n",
    "            mirror='ticks',\n",
    "            linewidth=1,      #size of border, left and right\n",
    "            titlefont=dict(\n",
    "                size=21        #size of yaxis title\n",
    "            )               \n",
    "        ),\n",
    "        \n",
    "        annotations=[\n",
    "            dict(\n",
    "                x=10,            #x position of 20percent threshold writing #30\n",
    "                y=21.5,         # y position of \"   \"\"       \"\"     \"\"\"\"\n",
    "                xref='x',\n",
    "                yref='y',\n",
    "                text='20% Threshold',    # The writing\n",
    "                showarrow=False,\n",
    "            )\n",
    "        ]        \n",
    "\n",
    "        #title = t + ' (' + place + ')',           #graph title\n",
    "    )\n",
    "\n",
    "    fig = go.Figure(data=data, layout=layout)\n",
    "\n",
    "    py.iplot(fig, filename = t ,image='svg')"
   ]
  },
  {
   "cell_type": "code",
   "execution_count": 38,
   "metadata": {},
   "outputs": [
    {
     "data": {
      "application/vnd.plotly.v1+json": {
       "data": [
        {
         "line": {
          "width": 1
         },
         "marker": {
          "color": "#CD5C5C",
          "size": 6,
          "symbol": "x"
         },
         "mode": "lines+markers",
         "name": "Discriminated",
         "type": "scatter",
         "uid": "899c4cd8-9c60-11e8-afcf-c8f733c0a0e9",
         "x": [
          1,
          2,
          3,
          4,
          5,
          6,
          7,
          8,
          9,
          10,
          11,
          12
         ],
         "y": [
          "92.52",
          "93.0",
          "83.72",
          "86.6",
          "93.04",
          "91.88",
          "82.0",
          "69.28",
          "91.8",
          "69.08",
          "92.80000000000001"
         ]
        },
        {
         "line": {
          "width": 1
         },
         "marker": {
          "color": "#3cb371",
          "size": 6,
          "symbol": "circle"
         },
         "mode": "lines+markers",
         "name": "Base",
         "type": "scatter",
         "uid": "899c4cd9-9c60-11e8-afcf-c8f733c0a0e9",
         "x": [
          1,
          2,
          3,
          4,
          5,
          6,
          7,
          8,
          9,
          10,
          11,
          12
         ],
         "y": [
          "0.52",
          "0.44",
          "0.8",
          "0.88",
          "0.5599999999999999",
          "0.44",
          "0.44",
          "0.44",
          "0.44",
          "0.44",
          "0.76"
         ]
        },
        {
         "line": {
          "width": 1
         },
         "marker": {
          "color": "#87cefa",
          "size": 6,
          "symbol": "triangle-up"
         },
         "mode": "lines+markers",
         "name": "△",
         "type": "scatter",
         "uid": "899c4cda-9c60-11e8-afcf-c8f733c0a0e9",
         "x": [
          1,
          2,
          3,
          4,
          5,
          6,
          7,
          8,
          9,
          10,
          11,
          12
         ],
         "y": [
          "92.0",
          "92.56",
          "82.92",
          "85.72",
          "92.48",
          "91.44",
          "81.56",
          "68.84",
          "91.36",
          "68.64",
          "92.04"
         ]
        },
        {
         "line": {
          "color": "grey",
          "dash": "dash",
          "width": 1
         },
         "showlegend": false,
         "type": "scatter",
         "uid": "899c4cdb-9c60-11e8-afcf-c8f733c0a0e9",
         "x": [
          1,
          2,
          3,
          4,
          5,
          6,
          7,
          8,
          9,
          10,
          11,
          12
         ],
         "y": [
          20,
          20,
          20,
          20,
          20,
          20,
          20,
          20,
          20,
          20,
          20,
          20,
          20,
          20,
          20,
          20,
          20,
          20,
          20,
          20,
          20,
          20,
          20,
          20,
          20,
          20,
          20,
          20,
          20,
          20,
          20,
          20,
          20,
          20,
          20,
          20,
          20,
          20,
          20,
          20,
          20,
          20,
          20,
          20,
          20,
          20,
          20,
          20,
          20,
          20
         ]
        }
       ],
       "layout": {
        "annotations": [
         {
          "showarrow": false,
          "text": "20% Threshold",
          "x": 10,
          "xref": "x",
          "y": 21.5,
          "yref": "y"
         }
        ],
        "height": 2500,
        "legend": {
         "font": {
          "size": 18
         },
         "x": 1.01,
         "y": 0.5
        },
        "width": 2500,
        "xaxis": {
         "linewidth": 1,
         "mirror": "ticks",
         "range": [
          0,
          11.5
         ],
         "showgrid": true,
         "showline": true,
         "showticklabels": true,
         "title": "Experiment ID",
         "titlefont": {
          "size": 21
         }
        },
        "yaxis": {
         "linewidth": 1,
         "mirror": "ticks",
         "range": [
          0,
          102
         ],
         "showgrid": true,
         "showline": true,
         "title": "Loss Rate (%)",
         "titlefont": {
          "size": 21
         }
        }
       }
      },
      "text/html": [
       "<div id=\"87c3a874-7aab-46d3-8e21-a8b3c0ba464d\" style=\"height: 2500px; width: 2500px;\" class=\"plotly-graph-div\"></div><script type=\"text/javascript\">require([\"plotly\"], function(Plotly) { window.PLOTLYENV=window.PLOTLYENV || {};window.PLOTLYENV.BASE_URL=\"https://plot.ly\";\n",
       "        Plotly.plot(\n",
       "            '87c3a874-7aab-46d3-8e21-a8b3c0ba464d',\n",
       "            [{\"line\": {\"width\": 1}, \"marker\": {\"color\": \"#CD5C5C\", \"size\": 6, \"symbol\": \"x\"}, \"mode\": \"lines+markers\", \"name\": \"Discriminated\", \"x\": [1, 2, 3, 4, 5, 6, 7, 8, 9, 10, 11, 12], \"y\": [\"92.52\", \"93.0\", \"83.72\", \"86.6\", \"93.04\", \"91.88\", \"82.0\", \"69.28\", \"91.8\", \"69.08\", \"92.80000000000001\"], \"type\": \"scatter\", \"uid\": \"899c4cd8-9c60-11e8-afcf-c8f733c0a0e9\"}, {\"line\": {\"width\": 1}, \"marker\": {\"color\": \"#3cb371\", \"size\": 6, \"symbol\": \"circle\"}, \"mode\": \"lines+markers\", \"name\": \"Base\", \"x\": [1, 2, 3, 4, 5, 6, 7, 8, 9, 10, 11, 12], \"y\": [\"0.52\", \"0.44\", \"0.8\", \"0.88\", \"0.5599999999999999\", \"0.44\", \"0.44\", \"0.44\", \"0.44\", \"0.44\", \"0.76\"], \"type\": \"scatter\", \"uid\": \"899c4cd9-9c60-11e8-afcf-c8f733c0a0e9\"}, {\"line\": {\"width\": 1}, \"marker\": {\"color\": \"#87cefa\", \"size\": 6, \"symbol\": \"triangle-up\"}, \"mode\": \"lines+markers\", \"name\": \"\\u25b3\", \"x\": [1, 2, 3, 4, 5, 6, 7, 8, 9, 10, 11, 12], \"y\": [\"92.0\", \"92.56\", \"82.92\", \"85.72\", \"92.48\", \"91.44\", \"81.56\", \"68.84\", \"91.36\", \"68.64\", \"92.04\"], \"type\": \"scatter\", \"uid\": \"899c4cda-9c60-11e8-afcf-c8f733c0a0e9\"}, {\"line\": {\"color\": \"grey\", \"dash\": \"dash\", \"width\": 1}, \"showlegend\": false, \"x\": [1, 2, 3, 4, 5, 6, 7, 8, 9, 10, 11, 12], \"y\": [20, 20, 20, 20, 20, 20, 20, 20, 20, 20, 20, 20, 20, 20, 20, 20, 20, 20, 20, 20, 20, 20, 20, 20, 20, 20, 20, 20, 20, 20, 20, 20, 20, 20, 20, 20, 20, 20, 20, 20, 20, 20, 20, 20, 20, 20, 20, 20, 20, 20], \"type\": \"scatter\", \"uid\": \"899c4cdb-9c60-11e8-afcf-c8f733c0a0e9\"}],\n",
       "            {\"annotations\": [{\"showarrow\": false, \"text\": \"20% Threshold\", \"x\": 10, \"xref\": \"x\", \"y\": 21.5, \"yref\": \"y\"}], \"height\": 2500, \"legend\": {\"font\": {\"size\": 18}, \"x\": 1.01, \"y\": 0.5}, \"width\": 2500, \"xaxis\": {\"linewidth\": 1, \"mirror\": \"ticks\", \"range\": [0, 11.5], \"showgrid\": true, \"showline\": true, \"showticklabels\": true, \"title\": \"Experiment ID\", \"titlefont\": {\"size\": 21}}, \"yaxis\": {\"linewidth\": 1, \"mirror\": \"ticks\", \"range\": [0, 102], \"showgrid\": true, \"showline\": true, \"title\": \"Loss Rate (%)\", \"titlefont\": {\"size\": 21}}},\n",
       "            {\"showLink\": true, \"linkText\": \"Export to plot.ly\"}\n",
       "        ).then(function () {return Plotly.addFrames('87c3a874-7aab-46d3-8e21-a8b3c0ba464d',{});}).then(function(){Plotly.animate('87c3a874-7aab-46d3-8e21-a8b3c0ba464d');})\n",
       "        });</script>"
      ],
      "text/vnd.plotly.v1+html": [
       "<div id=\"87c3a874-7aab-46d3-8e21-a8b3c0ba464d\" style=\"height: 2500px; width: 2500px;\" class=\"plotly-graph-div\"></div><script type=\"text/javascript\">require([\"plotly\"], function(Plotly) { window.PLOTLYENV=window.PLOTLYENV || {};window.PLOTLYENV.BASE_URL=\"https://plot.ly\";\n",
       "        Plotly.plot(\n",
       "            '87c3a874-7aab-46d3-8e21-a8b3c0ba464d',\n",
       "            [{\"line\": {\"width\": 1}, \"marker\": {\"color\": \"#CD5C5C\", \"size\": 6, \"symbol\": \"x\"}, \"mode\": \"lines+markers\", \"name\": \"Discriminated\", \"x\": [1, 2, 3, 4, 5, 6, 7, 8, 9, 10, 11, 12], \"y\": [\"92.52\", \"93.0\", \"83.72\", \"86.6\", \"93.04\", \"91.88\", \"82.0\", \"69.28\", \"91.8\", \"69.08\", \"92.80000000000001\"], \"type\": \"scatter\", \"uid\": \"899c4cd8-9c60-11e8-afcf-c8f733c0a0e9\"}, {\"line\": {\"width\": 1}, \"marker\": {\"color\": \"#3cb371\", \"size\": 6, \"symbol\": \"circle\"}, \"mode\": \"lines+markers\", \"name\": \"Base\", \"x\": [1, 2, 3, 4, 5, 6, 7, 8, 9, 10, 11, 12], \"y\": [\"0.52\", \"0.44\", \"0.8\", \"0.88\", \"0.5599999999999999\", \"0.44\", \"0.44\", \"0.44\", \"0.44\", \"0.44\", \"0.76\"], \"type\": \"scatter\", \"uid\": \"899c4cd9-9c60-11e8-afcf-c8f733c0a0e9\"}, {\"line\": {\"width\": 1}, \"marker\": {\"color\": \"#87cefa\", \"size\": 6, \"symbol\": \"triangle-up\"}, \"mode\": \"lines+markers\", \"name\": \"\\u25b3\", \"x\": [1, 2, 3, 4, 5, 6, 7, 8, 9, 10, 11, 12], \"y\": [\"92.0\", \"92.56\", \"82.92\", \"85.72\", \"92.48\", \"91.44\", \"81.56\", \"68.84\", \"91.36\", \"68.64\", \"92.04\"], \"type\": \"scatter\", \"uid\": \"899c4cda-9c60-11e8-afcf-c8f733c0a0e9\"}, {\"line\": {\"color\": \"grey\", \"dash\": \"dash\", \"width\": 1}, \"showlegend\": false, \"x\": [1, 2, 3, 4, 5, 6, 7, 8, 9, 10, 11, 12], \"y\": [20, 20, 20, 20, 20, 20, 20, 20, 20, 20, 20, 20, 20, 20, 20, 20, 20, 20, 20, 20, 20, 20, 20, 20, 20, 20, 20, 20, 20, 20, 20, 20, 20, 20, 20, 20, 20, 20, 20, 20, 20, 20, 20, 20, 20, 20, 20, 20, 20, 20], \"type\": \"scatter\", \"uid\": \"899c4cdb-9c60-11e8-afcf-c8f733c0a0e9\"}],\n",
       "            {\"annotations\": [{\"showarrow\": false, \"text\": \"20% Threshold\", \"x\": 10, \"xref\": \"x\", \"y\": 21.5, \"yref\": \"y\"}], \"height\": 2500, \"legend\": {\"font\": {\"size\": 18}, \"x\": 1.01, \"y\": 0.5}, \"width\": 2500, \"xaxis\": {\"linewidth\": 1, \"mirror\": \"ticks\", \"range\": [0, 11.5], \"showgrid\": true, \"showline\": true, \"showticklabels\": true, \"title\": \"Experiment ID\", \"titlefont\": {\"size\": 21}}, \"yaxis\": {\"linewidth\": 1, \"mirror\": \"ticks\", \"range\": [0, 102], \"showgrid\": true, \"showline\": true, \"title\": \"Loss Rate (%)\", \"titlefont\": {\"size\": 21}}},\n",
       "            {\"showLink\": true, \"linkText\": \"Export to plot.ly\"}\n",
       "        ).then(function () {return Plotly.addFrames('87c3a874-7aab-46d3-8e21-a8b3c0ba464d',{});}).then(function(){Plotly.animate('87c3a874-7aab-46d3-8e21-a8b3c0ba464d');})\n",
       "        });</script>"
      ]
     },
     "metadata": {},
     "output_type": "display_data"
    },
    {
     "data": {
      "text/html": [
       "<script>function downloadimage(format, height, width, filename) {var p = document.getElementById('87c3a874-7aab-46d3-8e21-a8b3c0ba464d');Plotly.downloadImage(p, {format: format, height: height, width: width, filename: filename});};if(document.readyState == 'complete') {{downloadimage('svg', 600, 800, 'planetlab2.cs.ucla.edu');}}</script>"
      ],
      "text/plain": [
       "<IPython.core.display.HTML object>"
      ]
     },
     "metadata": {},
     "output_type": "display_data"
    },
    {
     "data": {
      "application/vnd.plotly.v1+json": {
       "data": [
        {
         "line": {
          "width": 1
         },
         "marker": {
          "color": "#CD5C5C",
          "size": 6,
          "symbol": "x"
         },
         "mode": "lines+markers",
         "name": "Discriminated",
         "type": "scatter",
         "uid": "899c4cdc-9c60-11e8-afcf-c8f733c0a0e9",
         "x": [
          1,
          2,
          3,
          4,
          5,
          6,
          7,
          8,
          9,
          10,
          11,
          12
         ],
         "y": [
          "73.68",
          "74.16",
          "72.92",
          "73.48",
          "71.56",
          "73.08",
          "60.040000000000006",
          "75.28",
          "0.44",
          "74.8",
          "74.16"
         ]
        },
        {
         "line": {
          "width": 1
         },
         "marker": {
          "color": "#3cb371",
          "size": 6,
          "symbol": "circle"
         },
         "mode": "lines+markers",
         "name": "Base",
         "type": "scatter",
         "uid": "899c4cdd-9c60-11e8-afcf-c8f733c0a0e9",
         "x": [
          1,
          2,
          3,
          4,
          5,
          6,
          7,
          8,
          9,
          10,
          11,
          12
         ],
         "y": [
          "0.8",
          "0.52",
          "0.76",
          "0.64",
          "0.72",
          "0.44",
          "0.44",
          "1.48",
          "0.44",
          "2.8400000000000003",
          "2.0"
         ]
        },
        {
         "line": {
          "width": 1
         },
         "marker": {
          "color": "#87cefa",
          "size": 6,
          "symbol": "triangle-up"
         },
         "mode": "lines+markers",
         "name": "△",
         "type": "scatter",
         "uid": "899c4cde-9c60-11e8-afcf-c8f733c0a0e9",
         "x": [
          1,
          2,
          3,
          4,
          5,
          6,
          7,
          8,
          9,
          10,
          11,
          12
         ],
         "y": [
          "72.88000000000001",
          "73.64",
          "72.16",
          "72.84",
          "70.84",
          "72.64",
          "59.60000000000001",
          "73.8",
          "0.0",
          "71.96",
          "72.16"
         ]
        },
        {
         "line": {
          "color": "grey",
          "dash": "dash",
          "width": 1
         },
         "showlegend": false,
         "type": "scatter",
         "uid": "899c4cdf-9c60-11e8-afcf-c8f733c0a0e9",
         "x": [
          1,
          2,
          3,
          4,
          5,
          6,
          7,
          8,
          9,
          10,
          11,
          12
         ],
         "y": [
          20,
          20,
          20,
          20,
          20,
          20,
          20,
          20,
          20,
          20,
          20,
          20,
          20,
          20,
          20,
          20,
          20,
          20,
          20,
          20,
          20,
          20,
          20,
          20,
          20,
          20,
          20,
          20,
          20,
          20,
          20,
          20,
          20,
          20,
          20,
          20,
          20,
          20,
          20,
          20,
          20,
          20,
          20,
          20,
          20,
          20,
          20,
          20,
          20,
          20
         ]
        }
       ],
       "layout": {
        "annotations": [
         {
          "showarrow": false,
          "text": "20% Threshold",
          "x": 10,
          "xref": "x",
          "y": 21.5,
          "yref": "y"
         }
        ],
        "height": 2500,
        "legend": {
         "font": {
          "size": 18
         },
         "x": 1.01,
         "y": 0.5
        },
        "width": 2500,
        "xaxis": {
         "linewidth": 1,
         "mirror": "ticks",
         "range": [
          0,
          11.5
         ],
         "showgrid": true,
         "showline": true,
         "showticklabels": true,
         "title": "Experiment ID",
         "titlefont": {
          "size": 21
         }
        },
        "yaxis": {
         "linewidth": 1,
         "mirror": "ticks",
         "range": [
          0,
          102
         ],
         "showgrid": true,
         "showline": true,
         "title": "Loss Rate (%)",
         "titlefont": {
          "size": 21
         }
        }
       }
      },
      "text/html": [
       "<div id=\"4128076b-0d10-4106-b283-7a1380706ffd\" style=\"height: 2500px; width: 2500px;\" class=\"plotly-graph-div\"></div><script type=\"text/javascript\">require([\"plotly\"], function(Plotly) { window.PLOTLYENV=window.PLOTLYENV || {};window.PLOTLYENV.BASE_URL=\"https://plot.ly\";\n",
       "        Plotly.plot(\n",
       "            '4128076b-0d10-4106-b283-7a1380706ffd',\n",
       "            [{\"line\": {\"width\": 1}, \"marker\": {\"color\": \"#CD5C5C\", \"size\": 6, \"symbol\": \"x\"}, \"mode\": \"lines+markers\", \"name\": \"Discriminated\", \"x\": [1, 2, 3, 4, 5, 6, 7, 8, 9, 10, 11, 12], \"y\": [\"73.68\", \"74.16\", \"72.92\", \"73.48\", \"71.56\", \"73.08\", \"60.040000000000006\", \"75.28\", \"0.44\", \"74.8\", \"74.16\"], \"type\": \"scatter\", \"uid\": \"899c4cdc-9c60-11e8-afcf-c8f733c0a0e9\"}, {\"line\": {\"width\": 1}, \"marker\": {\"color\": \"#3cb371\", \"size\": 6, \"symbol\": \"circle\"}, \"mode\": \"lines+markers\", \"name\": \"Base\", \"x\": [1, 2, 3, 4, 5, 6, 7, 8, 9, 10, 11, 12], \"y\": [\"0.8\", \"0.52\", \"0.76\", \"0.64\", \"0.72\", \"0.44\", \"0.44\", \"1.48\", \"0.44\", \"2.8400000000000003\", \"2.0\"], \"type\": \"scatter\", \"uid\": \"899c4cdd-9c60-11e8-afcf-c8f733c0a0e9\"}, {\"line\": {\"width\": 1}, \"marker\": {\"color\": \"#87cefa\", \"size\": 6, \"symbol\": \"triangle-up\"}, \"mode\": \"lines+markers\", \"name\": \"\\u25b3\", \"x\": [1, 2, 3, 4, 5, 6, 7, 8, 9, 10, 11, 12], \"y\": [\"72.88000000000001\", \"73.64\", \"72.16\", \"72.84\", \"70.84\", \"72.64\", \"59.60000000000001\", \"73.8\", \"0.0\", \"71.96\", \"72.16\"], \"type\": \"scatter\", \"uid\": \"899c4cde-9c60-11e8-afcf-c8f733c0a0e9\"}, {\"line\": {\"color\": \"grey\", \"dash\": \"dash\", \"width\": 1}, \"showlegend\": false, \"x\": [1, 2, 3, 4, 5, 6, 7, 8, 9, 10, 11, 12], \"y\": [20, 20, 20, 20, 20, 20, 20, 20, 20, 20, 20, 20, 20, 20, 20, 20, 20, 20, 20, 20, 20, 20, 20, 20, 20, 20, 20, 20, 20, 20, 20, 20, 20, 20, 20, 20, 20, 20, 20, 20, 20, 20, 20, 20, 20, 20, 20, 20, 20, 20], \"type\": \"scatter\", \"uid\": \"899c4cdf-9c60-11e8-afcf-c8f733c0a0e9\"}],\n",
       "            {\"annotations\": [{\"showarrow\": false, \"text\": \"20% Threshold\", \"x\": 10, \"xref\": \"x\", \"y\": 21.5, \"yref\": \"y\"}], \"height\": 2500, \"legend\": {\"font\": {\"size\": 18}, \"x\": 1.01, \"y\": 0.5}, \"width\": 2500, \"xaxis\": {\"linewidth\": 1, \"mirror\": \"ticks\", \"range\": [0, 11.5], \"showgrid\": true, \"showline\": true, \"showticklabels\": true, \"title\": \"Experiment ID\", \"titlefont\": {\"size\": 21}}, \"yaxis\": {\"linewidth\": 1, \"mirror\": \"ticks\", \"range\": [0, 102], \"showgrid\": true, \"showline\": true, \"title\": \"Loss Rate (%)\", \"titlefont\": {\"size\": 21}}},\n",
       "            {\"showLink\": true, \"linkText\": \"Export to plot.ly\"}\n",
       "        ).then(function () {return Plotly.addFrames('4128076b-0d10-4106-b283-7a1380706ffd',{});}).then(function(){Plotly.animate('4128076b-0d10-4106-b283-7a1380706ffd');})\n",
       "        });</script>"
      ],
      "text/vnd.plotly.v1+html": [
       "<div id=\"4128076b-0d10-4106-b283-7a1380706ffd\" style=\"height: 2500px; width: 2500px;\" class=\"plotly-graph-div\"></div><script type=\"text/javascript\">require([\"plotly\"], function(Plotly) { window.PLOTLYENV=window.PLOTLYENV || {};window.PLOTLYENV.BASE_URL=\"https://plot.ly\";\n",
       "        Plotly.plot(\n",
       "            '4128076b-0d10-4106-b283-7a1380706ffd',\n",
       "            [{\"line\": {\"width\": 1}, \"marker\": {\"color\": \"#CD5C5C\", \"size\": 6, \"symbol\": \"x\"}, \"mode\": \"lines+markers\", \"name\": \"Discriminated\", \"x\": [1, 2, 3, 4, 5, 6, 7, 8, 9, 10, 11, 12], \"y\": [\"73.68\", \"74.16\", \"72.92\", \"73.48\", \"71.56\", \"73.08\", \"60.040000000000006\", \"75.28\", \"0.44\", \"74.8\", \"74.16\"], \"type\": \"scatter\", \"uid\": \"899c4cdc-9c60-11e8-afcf-c8f733c0a0e9\"}, {\"line\": {\"width\": 1}, \"marker\": {\"color\": \"#3cb371\", \"size\": 6, \"symbol\": \"circle\"}, \"mode\": \"lines+markers\", \"name\": \"Base\", \"x\": [1, 2, 3, 4, 5, 6, 7, 8, 9, 10, 11, 12], \"y\": [\"0.8\", \"0.52\", \"0.76\", \"0.64\", \"0.72\", \"0.44\", \"0.44\", \"1.48\", \"0.44\", \"2.8400000000000003\", \"2.0\"], \"type\": \"scatter\", \"uid\": \"899c4cdd-9c60-11e8-afcf-c8f733c0a0e9\"}, {\"line\": {\"width\": 1}, \"marker\": {\"color\": \"#87cefa\", \"size\": 6, \"symbol\": \"triangle-up\"}, \"mode\": \"lines+markers\", \"name\": \"\\u25b3\", \"x\": [1, 2, 3, 4, 5, 6, 7, 8, 9, 10, 11, 12], \"y\": [\"72.88000000000001\", \"73.64\", \"72.16\", \"72.84\", \"70.84\", \"72.64\", \"59.60000000000001\", \"73.8\", \"0.0\", \"71.96\", \"72.16\"], \"type\": \"scatter\", \"uid\": \"899c4cde-9c60-11e8-afcf-c8f733c0a0e9\"}, {\"line\": {\"color\": \"grey\", \"dash\": \"dash\", \"width\": 1}, \"showlegend\": false, \"x\": [1, 2, 3, 4, 5, 6, 7, 8, 9, 10, 11, 12], \"y\": [20, 20, 20, 20, 20, 20, 20, 20, 20, 20, 20, 20, 20, 20, 20, 20, 20, 20, 20, 20, 20, 20, 20, 20, 20, 20, 20, 20, 20, 20, 20, 20, 20, 20, 20, 20, 20, 20, 20, 20, 20, 20, 20, 20, 20, 20, 20, 20, 20, 20], \"type\": \"scatter\", \"uid\": \"899c4cdf-9c60-11e8-afcf-c8f733c0a0e9\"}],\n",
       "            {\"annotations\": [{\"showarrow\": false, \"text\": \"20% Threshold\", \"x\": 10, \"xref\": \"x\", \"y\": 21.5, \"yref\": \"y\"}], \"height\": 2500, \"legend\": {\"font\": {\"size\": 18}, \"x\": 1.01, \"y\": 0.5}, \"width\": 2500, \"xaxis\": {\"linewidth\": 1, \"mirror\": \"ticks\", \"range\": [0, 11.5], \"showgrid\": true, \"showline\": true, \"showticklabels\": true, \"title\": \"Experiment ID\", \"titlefont\": {\"size\": 21}}, \"yaxis\": {\"linewidth\": 1, \"mirror\": \"ticks\", \"range\": [0, 102], \"showgrid\": true, \"showline\": true, \"title\": \"Loss Rate (%)\", \"titlefont\": {\"size\": 21}}},\n",
       "            {\"showLink\": true, \"linkText\": \"Export to plot.ly\"}\n",
       "        ).then(function () {return Plotly.addFrames('4128076b-0d10-4106-b283-7a1380706ffd',{});}).then(function(){Plotly.animate('4128076b-0d10-4106-b283-7a1380706ffd');})\n",
       "        });</script>"
      ]
     },
     "metadata": {},
     "output_type": "display_data"
    },
    {
     "data": {
      "text/html": [
       "<script>function downloadimage(format, height, width, filename) {var p = document.getElementById('4128076b-0d10-4106-b283-7a1380706ffd');Plotly.downloadImage(p, {format: format, height: height, width: width, filename: filename});};if(document.readyState == 'complete') {{downloadimage('svg', 600, 800, 'planetlab-2.ssvl.kth.se');}}</script>"
      ],
      "text/plain": [
       "<IPython.core.display.HTML object>"
      ]
     },
     "metadata": {},
     "output_type": "display_data"
    },
    {
     "data": {
      "application/vnd.plotly.v1+json": {
       "data": [
        {
         "line": {
          "width": 1
         },
         "marker": {
          "color": "#CD5C5C",
          "size": 6,
          "symbol": "x"
         },
         "mode": "lines+markers",
         "name": "Discriminated",
         "type": "scatter",
         "uid": "8afb718a-9c60-11e8-afcf-c8f733c0a0e9",
         "x": [
          1,
          2,
          3,
          4,
          5,
          6,
          7,
          8,
          9,
          10,
          11,
          12
         ],
         "y": [
          "75.68",
          "83.39999999999999",
          "83.44",
          "70.08",
          "8.88",
          "85.44",
          "74.52",
          "48.04",
          "77.8",
          "76.55999999999999",
          "53.44"
         ]
        },
        {
         "line": {
          "width": 1
         },
         "marker": {
          "color": "#3cb371",
          "size": 6,
          "symbol": "circle"
         },
         "mode": "lines+markers",
         "name": "Base",
         "type": "scatter",
         "uid": "8afb718b-9c60-11e8-afcf-c8f733c0a0e9",
         "x": [
          1,
          2,
          3,
          4,
          5,
          6,
          7,
          8,
          9,
          10,
          11,
          12
         ],
         "y": [
          "0.44",
          "0.44",
          "0.44",
          "0.44",
          "0.44",
          "0.44",
          "0.44",
          "0.44",
          "0.44",
          "0.44",
          "0.44"
         ]
        },
        {
         "line": {
          "width": 1
         },
         "marker": {
          "color": "#87cefa",
          "size": 6,
          "symbol": "triangle-up"
         },
         "mode": "lines+markers",
         "name": "△",
         "type": "scatter",
         "uid": "8afb718c-9c60-11e8-afcf-c8f733c0a0e9",
         "x": [
          1,
          2,
          3,
          4,
          5,
          6,
          7,
          8,
          9,
          10,
          11,
          12
         ],
         "y": [
          "75.24000000000001",
          "82.96",
          "83.0",
          "69.64",
          "8.440000000000001",
          "85.0",
          "74.08",
          "47.6",
          "77.36",
          "76.11999999999999",
          "53.0"
         ]
        },
        {
         "line": {
          "color": "grey",
          "dash": "dash",
          "width": 1
         },
         "showlegend": false,
         "type": "scatter",
         "uid": "8afb718d-9c60-11e8-afcf-c8f733c0a0e9",
         "x": [
          1,
          2,
          3,
          4,
          5,
          6,
          7,
          8,
          9,
          10,
          11,
          12
         ],
         "y": [
          20,
          20,
          20,
          20,
          20,
          20,
          20,
          20,
          20,
          20,
          20,
          20,
          20,
          20,
          20,
          20,
          20,
          20,
          20,
          20,
          20,
          20,
          20,
          20,
          20,
          20,
          20,
          20,
          20,
          20,
          20,
          20,
          20,
          20,
          20,
          20,
          20,
          20,
          20,
          20,
          20,
          20,
          20,
          20,
          20,
          20,
          20,
          20,
          20,
          20
         ]
        }
       ],
       "layout": {
        "annotations": [
         {
          "showarrow": false,
          "text": "20% Threshold",
          "x": 10,
          "xref": "x",
          "y": 21.5,
          "yref": "y"
         }
        ],
        "height": 2500,
        "legend": {
         "font": {
          "size": 18
         },
         "x": 1.01,
         "y": 0.5
        },
        "width": 2500,
        "xaxis": {
         "linewidth": 1,
         "mirror": "ticks",
         "range": [
          0,
          11.5
         ],
         "showgrid": true,
         "showline": true,
         "showticklabels": true,
         "title": "Experiment ID",
         "titlefont": {
          "size": 21
         }
        },
        "yaxis": {
         "linewidth": 1,
         "mirror": "ticks",
         "range": [
          0,
          102
         ],
         "showgrid": true,
         "showline": true,
         "title": "Loss Rate (%)",
         "titlefont": {
          "size": 21
         }
        }
       }
      },
      "text/html": [
       "<div id=\"df2e818e-c36b-4998-b9f4-30f4f29f9b35\" style=\"height: 2500px; width: 2500px;\" class=\"plotly-graph-div\"></div><script type=\"text/javascript\">require([\"plotly\"], function(Plotly) { window.PLOTLYENV=window.PLOTLYENV || {};window.PLOTLYENV.BASE_URL=\"https://plot.ly\";\n",
       "        Plotly.plot(\n",
       "            'df2e818e-c36b-4998-b9f4-30f4f29f9b35',\n",
       "            [{\"line\": {\"width\": 1}, \"marker\": {\"color\": \"#CD5C5C\", \"size\": 6, \"symbol\": \"x\"}, \"mode\": \"lines+markers\", \"name\": \"Discriminated\", \"x\": [1, 2, 3, 4, 5, 6, 7, 8, 9, 10, 11, 12], \"y\": [\"75.68\", \"83.39999999999999\", \"83.44\", \"70.08\", \"8.88\", \"85.44\", \"74.52\", \"48.04\", \"77.8\", \"76.55999999999999\", \"53.44\"], \"type\": \"scatter\", \"uid\": \"8afb718a-9c60-11e8-afcf-c8f733c0a0e9\"}, {\"line\": {\"width\": 1}, \"marker\": {\"color\": \"#3cb371\", \"size\": 6, \"symbol\": \"circle\"}, \"mode\": \"lines+markers\", \"name\": \"Base\", \"x\": [1, 2, 3, 4, 5, 6, 7, 8, 9, 10, 11, 12], \"y\": [\"0.44\", \"0.44\", \"0.44\", \"0.44\", \"0.44\", \"0.44\", \"0.44\", \"0.44\", \"0.44\", \"0.44\", \"0.44\"], \"type\": \"scatter\", \"uid\": \"8afb718b-9c60-11e8-afcf-c8f733c0a0e9\"}, {\"line\": {\"width\": 1}, \"marker\": {\"color\": \"#87cefa\", \"size\": 6, \"symbol\": \"triangle-up\"}, \"mode\": \"lines+markers\", \"name\": \"\\u25b3\", \"x\": [1, 2, 3, 4, 5, 6, 7, 8, 9, 10, 11, 12], \"y\": [\"75.24000000000001\", \"82.96\", \"83.0\", \"69.64\", \"8.440000000000001\", \"85.0\", \"74.08\", \"47.6\", \"77.36\", \"76.11999999999999\", \"53.0\"], \"type\": \"scatter\", \"uid\": \"8afb718c-9c60-11e8-afcf-c8f733c0a0e9\"}, {\"line\": {\"color\": \"grey\", \"dash\": \"dash\", \"width\": 1}, \"showlegend\": false, \"x\": [1, 2, 3, 4, 5, 6, 7, 8, 9, 10, 11, 12], \"y\": [20, 20, 20, 20, 20, 20, 20, 20, 20, 20, 20, 20, 20, 20, 20, 20, 20, 20, 20, 20, 20, 20, 20, 20, 20, 20, 20, 20, 20, 20, 20, 20, 20, 20, 20, 20, 20, 20, 20, 20, 20, 20, 20, 20, 20, 20, 20, 20, 20, 20], \"type\": \"scatter\", \"uid\": \"8afb718d-9c60-11e8-afcf-c8f733c0a0e9\"}],\n",
       "            {\"annotations\": [{\"showarrow\": false, \"text\": \"20% Threshold\", \"x\": 10, \"xref\": \"x\", \"y\": 21.5, \"yref\": \"y\"}], \"height\": 2500, \"legend\": {\"font\": {\"size\": 18}, \"x\": 1.01, \"y\": 0.5}, \"width\": 2500, \"xaxis\": {\"linewidth\": 1, \"mirror\": \"ticks\", \"range\": [0, 11.5], \"showgrid\": true, \"showline\": true, \"showticklabels\": true, \"title\": \"Experiment ID\", \"titlefont\": {\"size\": 21}}, \"yaxis\": {\"linewidth\": 1, \"mirror\": \"ticks\", \"range\": [0, 102], \"showgrid\": true, \"showline\": true, \"title\": \"Loss Rate (%)\", \"titlefont\": {\"size\": 21}}},\n",
       "            {\"showLink\": true, \"linkText\": \"Export to plot.ly\"}\n",
       "        ).then(function () {return Plotly.addFrames('df2e818e-c36b-4998-b9f4-30f4f29f9b35',{});}).then(function(){Plotly.animate('df2e818e-c36b-4998-b9f4-30f4f29f9b35');})\n",
       "        });</script>"
      ],
      "text/vnd.plotly.v1+html": [
       "<div id=\"df2e818e-c36b-4998-b9f4-30f4f29f9b35\" style=\"height: 2500px; width: 2500px;\" class=\"plotly-graph-div\"></div><script type=\"text/javascript\">require([\"plotly\"], function(Plotly) { window.PLOTLYENV=window.PLOTLYENV || {};window.PLOTLYENV.BASE_URL=\"https://plot.ly\";\n",
       "        Plotly.plot(\n",
       "            'df2e818e-c36b-4998-b9f4-30f4f29f9b35',\n",
       "            [{\"line\": {\"width\": 1}, \"marker\": {\"color\": \"#CD5C5C\", \"size\": 6, \"symbol\": \"x\"}, \"mode\": \"lines+markers\", \"name\": \"Discriminated\", \"x\": [1, 2, 3, 4, 5, 6, 7, 8, 9, 10, 11, 12], \"y\": [\"75.68\", \"83.39999999999999\", \"83.44\", \"70.08\", \"8.88\", \"85.44\", \"74.52\", \"48.04\", \"77.8\", \"76.55999999999999\", \"53.44\"], \"type\": \"scatter\", \"uid\": \"8afb718a-9c60-11e8-afcf-c8f733c0a0e9\"}, {\"line\": {\"width\": 1}, \"marker\": {\"color\": \"#3cb371\", \"size\": 6, \"symbol\": \"circle\"}, \"mode\": \"lines+markers\", \"name\": \"Base\", \"x\": [1, 2, 3, 4, 5, 6, 7, 8, 9, 10, 11, 12], \"y\": [\"0.44\", \"0.44\", \"0.44\", \"0.44\", \"0.44\", \"0.44\", \"0.44\", \"0.44\", \"0.44\", \"0.44\", \"0.44\"], \"type\": \"scatter\", \"uid\": \"8afb718b-9c60-11e8-afcf-c8f733c0a0e9\"}, {\"line\": {\"width\": 1}, \"marker\": {\"color\": \"#87cefa\", \"size\": 6, \"symbol\": \"triangle-up\"}, \"mode\": \"lines+markers\", \"name\": \"\\u25b3\", \"x\": [1, 2, 3, 4, 5, 6, 7, 8, 9, 10, 11, 12], \"y\": [\"75.24000000000001\", \"82.96\", \"83.0\", \"69.64\", \"8.440000000000001\", \"85.0\", \"74.08\", \"47.6\", \"77.36\", \"76.11999999999999\", \"53.0\"], \"type\": \"scatter\", \"uid\": \"8afb718c-9c60-11e8-afcf-c8f733c0a0e9\"}, {\"line\": {\"color\": \"grey\", \"dash\": \"dash\", \"width\": 1}, \"showlegend\": false, \"x\": [1, 2, 3, 4, 5, 6, 7, 8, 9, 10, 11, 12], \"y\": [20, 20, 20, 20, 20, 20, 20, 20, 20, 20, 20, 20, 20, 20, 20, 20, 20, 20, 20, 20, 20, 20, 20, 20, 20, 20, 20, 20, 20, 20, 20, 20, 20, 20, 20, 20, 20, 20, 20, 20, 20, 20, 20, 20, 20, 20, 20, 20, 20, 20], \"type\": \"scatter\", \"uid\": \"8afb718d-9c60-11e8-afcf-c8f733c0a0e9\"}],\n",
       "            {\"annotations\": [{\"showarrow\": false, \"text\": \"20% Threshold\", \"x\": 10, \"xref\": \"x\", \"y\": 21.5, \"yref\": \"y\"}], \"height\": 2500, \"legend\": {\"font\": {\"size\": 18}, \"x\": 1.01, \"y\": 0.5}, \"width\": 2500, \"xaxis\": {\"linewidth\": 1, \"mirror\": \"ticks\", \"range\": [0, 11.5], \"showgrid\": true, \"showline\": true, \"showticklabels\": true, \"title\": \"Experiment ID\", \"titlefont\": {\"size\": 21}}, \"yaxis\": {\"linewidth\": 1, \"mirror\": \"ticks\", \"range\": [0, 102], \"showgrid\": true, \"showline\": true, \"title\": \"Loss Rate (%)\", \"titlefont\": {\"size\": 21}}},\n",
       "            {\"showLink\": true, \"linkText\": \"Export to plot.ly\"}\n",
       "        ).then(function () {return Plotly.addFrames('df2e818e-c36b-4998-b9f4-30f4f29f9b35',{});}).then(function(){Plotly.animate('df2e818e-c36b-4998-b9f4-30f4f29f9b35');})\n",
       "        });</script>"
      ]
     },
     "metadata": {},
     "output_type": "display_data"
    },
    {
     "data": {
      "text/html": [
       "<script>function downloadimage(format, height, width, filename) {var p = document.getElementById('df2e818e-c36b-4998-b9f4-30f4f29f9b35');Plotly.downloadImage(p, {format: format, height: height, width: width, filename: filename});};if(document.readyState == 'complete') {{downloadimage('svg', 600, 800, 'pl2.sos.info.hiroshima-cu.ac.jp');}}</script>"
      ],
      "text/plain": [
       "<IPython.core.display.HTML object>"
      ]
     },
     "metadata": {},
     "output_type": "display_data"
    },
    {
     "data": {
      "application/vnd.plotly.v1+json": {
       "data": [
        {
         "line": {
          "width": 1
         },
         "marker": {
          "color": "#CD5C5C",
          "size": 6,
          "symbol": "x"
         },
         "mode": "lines+markers",
         "name": "Discriminated",
         "type": "scatter",
         "uid": "8afb718e-9c60-11e8-afcf-c8f733c0a0e9",
         "x": [
          1,
          2,
          3,
          4,
          5,
          6,
          7,
          8,
          9,
          10,
          11,
          12
         ],
         "y": [
          "87.28",
          "81.92",
          "88.44",
          "86.88",
          "85.6",
          "84.76",
          "43.64",
          "84.11999999999999",
          "67.88",
          "82.12",
          "86.11999999999999"
         ]
        },
        {
         "line": {
          "width": 1
         },
         "marker": {
          "color": "#3cb371",
          "size": 6,
          "symbol": "circle"
         },
         "mode": "lines+markers",
         "name": "Base",
         "type": "scatter",
         "uid": "8afb718f-9c60-11e8-afcf-c8f733c0a0e9",
         "x": [
          1,
          2,
          3,
          4,
          5,
          6,
          7,
          8,
          9,
          10,
          11,
          12
         ],
         "y": [
          "0.44",
          "0.44",
          "0.44",
          "0.44",
          "0.44",
          "0.44",
          "0.44",
          "0.44",
          "0.44",
          "0.44",
          "0.44"
         ]
        },
        {
         "line": {
          "width": 1
         },
         "marker": {
          "color": "#87cefa",
          "size": 6,
          "symbol": "triangle-up"
         },
         "mode": "lines+markers",
         "name": "△",
         "type": "scatter",
         "uid": "8afb7190-9c60-11e8-afcf-c8f733c0a0e9",
         "x": [
          1,
          2,
          3,
          4,
          5,
          6,
          7,
          8,
          9,
          10,
          11,
          12
         ],
         "y": [
          "86.84",
          "81.48",
          "88.0",
          "86.44",
          "85.16",
          "84.32000000000001",
          "43.2",
          "83.67999999999999",
          "67.44",
          "81.68",
          "85.67999999999999"
         ]
        },
        {
         "line": {
          "color": "grey",
          "dash": "dash",
          "width": 1
         },
         "showlegend": false,
         "type": "scatter",
         "uid": "8afb7191-9c60-11e8-afcf-c8f733c0a0e9",
         "x": [
          1,
          2,
          3,
          4,
          5,
          6,
          7,
          8,
          9,
          10,
          11,
          12
         ],
         "y": [
          20,
          20,
          20,
          20,
          20,
          20,
          20,
          20,
          20,
          20,
          20,
          20,
          20,
          20,
          20,
          20,
          20,
          20,
          20,
          20,
          20,
          20,
          20,
          20,
          20,
          20,
          20,
          20,
          20,
          20,
          20,
          20,
          20,
          20,
          20,
          20,
          20,
          20,
          20,
          20,
          20,
          20,
          20,
          20,
          20,
          20,
          20,
          20,
          20,
          20
         ]
        }
       ],
       "layout": {
        "annotations": [
         {
          "showarrow": false,
          "text": "20% Threshold",
          "x": 10,
          "xref": "x",
          "y": 21.5,
          "yref": "y"
         }
        ],
        "height": 2500,
        "legend": {
         "font": {
          "size": 18
         },
         "x": 1.01,
         "y": 0.5
        },
        "width": 2500,
        "xaxis": {
         "linewidth": 1,
         "mirror": "ticks",
         "range": [
          0,
          11.5
         ],
         "showgrid": true,
         "showline": true,
         "showticklabels": true,
         "title": "Experiment ID",
         "titlefont": {
          "size": 21
         }
        },
        "yaxis": {
         "linewidth": 1,
         "mirror": "ticks",
         "range": [
          0,
          102
         ],
         "showgrid": true,
         "showline": true,
         "title": "Loss Rate (%)",
         "titlefont": {
          "size": 21
         }
        }
       }
      },
      "text/html": [
       "<div id=\"15fa455a-abd3-4a74-a2e9-5ff7b30e9914\" style=\"height: 2500px; width: 2500px;\" class=\"plotly-graph-div\"></div><script type=\"text/javascript\">require([\"plotly\"], function(Plotly) { window.PLOTLYENV=window.PLOTLYENV || {};window.PLOTLYENV.BASE_URL=\"https://plot.ly\";\n",
       "        Plotly.plot(\n",
       "            '15fa455a-abd3-4a74-a2e9-5ff7b30e9914',\n",
       "            [{\"line\": {\"width\": 1}, \"marker\": {\"color\": \"#CD5C5C\", \"size\": 6, \"symbol\": \"x\"}, \"mode\": \"lines+markers\", \"name\": \"Discriminated\", \"x\": [1, 2, 3, 4, 5, 6, 7, 8, 9, 10, 11, 12], \"y\": [\"87.28\", \"81.92\", \"88.44\", \"86.88\", \"85.6\", \"84.76\", \"43.64\", \"84.11999999999999\", \"67.88\", \"82.12\", \"86.11999999999999\"], \"type\": \"scatter\", \"uid\": \"8afb718e-9c60-11e8-afcf-c8f733c0a0e9\"}, {\"line\": {\"width\": 1}, \"marker\": {\"color\": \"#3cb371\", \"size\": 6, \"symbol\": \"circle\"}, \"mode\": \"lines+markers\", \"name\": \"Base\", \"x\": [1, 2, 3, 4, 5, 6, 7, 8, 9, 10, 11, 12], \"y\": [\"0.44\", \"0.44\", \"0.44\", \"0.44\", \"0.44\", \"0.44\", \"0.44\", \"0.44\", \"0.44\", \"0.44\", \"0.44\"], \"type\": \"scatter\", \"uid\": \"8afb718f-9c60-11e8-afcf-c8f733c0a0e9\"}, {\"line\": {\"width\": 1}, \"marker\": {\"color\": \"#87cefa\", \"size\": 6, \"symbol\": \"triangle-up\"}, \"mode\": \"lines+markers\", \"name\": \"\\u25b3\", \"x\": [1, 2, 3, 4, 5, 6, 7, 8, 9, 10, 11, 12], \"y\": [\"86.84\", \"81.48\", \"88.0\", \"86.44\", \"85.16\", \"84.32000000000001\", \"43.2\", \"83.67999999999999\", \"67.44\", \"81.68\", \"85.67999999999999\"], \"type\": \"scatter\", \"uid\": \"8afb7190-9c60-11e8-afcf-c8f733c0a0e9\"}, {\"line\": {\"color\": \"grey\", \"dash\": \"dash\", \"width\": 1}, \"showlegend\": false, \"x\": [1, 2, 3, 4, 5, 6, 7, 8, 9, 10, 11, 12], \"y\": [20, 20, 20, 20, 20, 20, 20, 20, 20, 20, 20, 20, 20, 20, 20, 20, 20, 20, 20, 20, 20, 20, 20, 20, 20, 20, 20, 20, 20, 20, 20, 20, 20, 20, 20, 20, 20, 20, 20, 20, 20, 20, 20, 20, 20, 20, 20, 20, 20, 20], \"type\": \"scatter\", \"uid\": \"8afb7191-9c60-11e8-afcf-c8f733c0a0e9\"}],\n",
       "            {\"annotations\": [{\"showarrow\": false, \"text\": \"20% Threshold\", \"x\": 10, \"xref\": \"x\", \"y\": 21.5, \"yref\": \"y\"}], \"height\": 2500, \"legend\": {\"font\": {\"size\": 18}, \"x\": 1.01, \"y\": 0.5}, \"width\": 2500, \"xaxis\": {\"linewidth\": 1, \"mirror\": \"ticks\", \"range\": [0, 11.5], \"showgrid\": true, \"showline\": true, \"showticklabels\": true, \"title\": \"Experiment ID\", \"titlefont\": {\"size\": 21}}, \"yaxis\": {\"linewidth\": 1, \"mirror\": \"ticks\", \"range\": [0, 102], \"showgrid\": true, \"showline\": true, \"title\": \"Loss Rate (%)\", \"titlefont\": {\"size\": 21}}},\n",
       "            {\"showLink\": true, \"linkText\": \"Export to plot.ly\"}\n",
       "        ).then(function () {return Plotly.addFrames('15fa455a-abd3-4a74-a2e9-5ff7b30e9914',{});}).then(function(){Plotly.animate('15fa455a-abd3-4a74-a2e9-5ff7b30e9914');})\n",
       "        });</script>"
      ],
      "text/vnd.plotly.v1+html": [
       "<div id=\"15fa455a-abd3-4a74-a2e9-5ff7b30e9914\" style=\"height: 2500px; width: 2500px;\" class=\"plotly-graph-div\"></div><script type=\"text/javascript\">require([\"plotly\"], function(Plotly) { window.PLOTLYENV=window.PLOTLYENV || {};window.PLOTLYENV.BASE_URL=\"https://plot.ly\";\n",
       "        Plotly.plot(\n",
       "            '15fa455a-abd3-4a74-a2e9-5ff7b30e9914',\n",
       "            [{\"line\": {\"width\": 1}, \"marker\": {\"color\": \"#CD5C5C\", \"size\": 6, \"symbol\": \"x\"}, \"mode\": \"lines+markers\", \"name\": \"Discriminated\", \"x\": [1, 2, 3, 4, 5, 6, 7, 8, 9, 10, 11, 12], \"y\": [\"87.28\", \"81.92\", \"88.44\", \"86.88\", \"85.6\", \"84.76\", \"43.64\", \"84.11999999999999\", \"67.88\", \"82.12\", \"86.11999999999999\"], \"type\": \"scatter\", \"uid\": \"8afb718e-9c60-11e8-afcf-c8f733c0a0e9\"}, {\"line\": {\"width\": 1}, \"marker\": {\"color\": \"#3cb371\", \"size\": 6, \"symbol\": \"circle\"}, \"mode\": \"lines+markers\", \"name\": \"Base\", \"x\": [1, 2, 3, 4, 5, 6, 7, 8, 9, 10, 11, 12], \"y\": [\"0.44\", \"0.44\", \"0.44\", \"0.44\", \"0.44\", \"0.44\", \"0.44\", \"0.44\", \"0.44\", \"0.44\", \"0.44\"], \"type\": \"scatter\", \"uid\": \"8afb718f-9c60-11e8-afcf-c8f733c0a0e9\"}, {\"line\": {\"width\": 1}, \"marker\": {\"color\": \"#87cefa\", \"size\": 6, \"symbol\": \"triangle-up\"}, \"mode\": \"lines+markers\", \"name\": \"\\u25b3\", \"x\": [1, 2, 3, 4, 5, 6, 7, 8, 9, 10, 11, 12], \"y\": [\"86.84\", \"81.48\", \"88.0\", \"86.44\", \"85.16\", \"84.32000000000001\", \"43.2\", \"83.67999999999999\", \"67.44\", \"81.68\", \"85.67999999999999\"], \"type\": \"scatter\", \"uid\": \"8afb7190-9c60-11e8-afcf-c8f733c0a0e9\"}, {\"line\": {\"color\": \"grey\", \"dash\": \"dash\", \"width\": 1}, \"showlegend\": false, \"x\": [1, 2, 3, 4, 5, 6, 7, 8, 9, 10, 11, 12], \"y\": [20, 20, 20, 20, 20, 20, 20, 20, 20, 20, 20, 20, 20, 20, 20, 20, 20, 20, 20, 20, 20, 20, 20, 20, 20, 20, 20, 20, 20, 20, 20, 20, 20, 20, 20, 20, 20, 20, 20, 20, 20, 20, 20, 20, 20, 20, 20, 20, 20, 20], \"type\": \"scatter\", \"uid\": \"8afb7191-9c60-11e8-afcf-c8f733c0a0e9\"}],\n",
       "            {\"annotations\": [{\"showarrow\": false, \"text\": \"20% Threshold\", \"x\": 10, \"xref\": \"x\", \"y\": 21.5, \"yref\": \"y\"}], \"height\": 2500, \"legend\": {\"font\": {\"size\": 18}, \"x\": 1.01, \"y\": 0.5}, \"width\": 2500, \"xaxis\": {\"linewidth\": 1, \"mirror\": \"ticks\", \"range\": [0, 11.5], \"showgrid\": true, \"showline\": true, \"showticklabels\": true, \"title\": \"Experiment ID\", \"titlefont\": {\"size\": 21}}, \"yaxis\": {\"linewidth\": 1, \"mirror\": \"ticks\", \"range\": [0, 102], \"showgrid\": true, \"showline\": true, \"title\": \"Loss Rate (%)\", \"titlefont\": {\"size\": 21}}},\n",
       "            {\"showLink\": true, \"linkText\": \"Export to plot.ly\"}\n",
       "        ).then(function () {return Plotly.addFrames('15fa455a-abd3-4a74-a2e9-5ff7b30e9914',{});}).then(function(){Plotly.animate('15fa455a-abd3-4a74-a2e9-5ff7b30e9914');})\n",
       "        });</script>"
      ]
     },
     "metadata": {},
     "output_type": "display_data"
    },
    {
     "data": {
      "text/html": [
       "<script>function downloadimage(format, height, width, filename) {var p = document.getElementById('15fa455a-abd3-4a74-a2e9-5ff7b30e9914');Plotly.downloadImage(p, {format: format, height: height, width: width, filename: filename});};if(document.readyState == 'complete') {{downloadimage('svg', 600, 800, 'pluto.cs.brown.edu');}}</script>"
      ],
      "text/plain": [
       "<IPython.core.display.HTML object>"
      ]
     },
     "metadata": {},
     "output_type": "display_data"
    }
   ],
   "source": [
    "# Insert the name of csv file inside read_csv function to produce graphs\n",
    "data = pd.read_csv(\"ShapingFinal.csv\")\n",
    "\n",
    "#Source Ip is a dictionary and Country is a list of coresponding IPS and Countries\n",
    "sourceIp = {'131.179.150.72':'planetlab2.cs.ucla.edu', '192.16.125.12':'planetlab-2.ssvl.kth.se', '165.242.90.129':'pl2.sos.info.hiroshima-cu.ac.jp', '192.91.235.230':'pluto.cs.brown.edu'}\n",
    "country = ['UCLA','Sweden','Japan','Brown Univeristy']\n",
    "\n",
    "\n",
    "count = 0\n",
    "for key in sourceIp.keys():\n",
    "    x ,y, z, diff = parse(key, data)\n",
    "    draw(x,y,z,diff,sourceIp[key], country[count] ,isSecondDay = False)\n",
    "    count = count + 1"
   ]
  },
  {
   "cell_type": "markdown",
   "metadata": {},
   "source": [
    "# Run for Experiment Without lines"
   ]
  },
  {
   "cell_type": "code",
   "execution_count": 3,
   "metadata": {},
   "outputs": [],
   "source": [
    "def drawSim(file, isCompression):\n",
    "    \n",
    "    df = pd.read_csv(file)\n",
    "    arr = []\n",
    "    columnNames = list(df.head(0))\n",
    "    axisTitle =''\n",
    "    \n",
    "    if columnNames[0] == 'Bottleneck':\n",
    "        axisTitle = 'Bottleneck'\n",
    "        for i in df[columnNames[0]]:\n",
    "            arr.append(i[:-4])\n",
    "    else:\n",
    "        axisTitle = 'Number of Packets'\n",
    "    \n",
    "    if isCompression:\n",
    "\n",
    "        trace1 = {\"x\":df[columnNames[0]], \"y\":df[columnNames[2]], \"marker\": {\"color\": \"red\", \"size\": 8, \"symbol\":\"diamond\"},\n",
    "                  \"mode\": \"markers\",\n",
    "                  \"name\": \"Discriminated\",\n",
    "                  \"type\": \"scatter\",\n",
    "                  \"mode\":\"markers\"\n",
    "                  }\n",
    "\n",
    "        trace2 = {\"x\":df[columnNames[0]], \"y\":df[columnNames[1]], \"marker\": {\"color\": \"green\", \"size\": 8, \"symbol\":\"square\"},\n",
    "                  \"mode\": \"markers\",\n",
    "                  \"name\": \"Base\",\n",
    "                  \"type\": \"scatter\",\n",
    "                  \"mode\":\"markers\"\n",
    "                 }\n",
    "\n",
    "\n",
    "        trace3 = {\"x\":df[columnNames[0]], \"y\":df[columnNames[3]], \"marker\": {\"color\": \"blue\", \"size\": 8},\n",
    "                  \"mode\": \"markers\",\n",
    "                  \"name\": chr(9651),\n",
    "                  \"type\": \"scatter\",\n",
    "                  \"mode\":\"markers\"\n",
    "                 }    \n",
    "        \n",
    "    else:\n",
    "        \n",
    "        trace1 = {\"x\":df[columnNames[0]], \"y\":df[columnNames[1]], \"marker\": {\"color\": \"red\", \"size\": 8, \"symbol\":\"x\"},\n",
    "                  \"mode\": \"markers\",\n",
    "                  \"name\": chr(9651) + columnNames[1],   #\"Base\",\n",
    "                  \"type\": \"scatter\",\n",
    "                  \"mode\":\"markers\"\n",
    "                  }\n",
    "\n",
    "        trace2 = {\"x\":df[columnNames[0]], \"y\":df[columnNames[2]], \"marker\": {\"color\": \"green\", \"size\": 8, \"symbol\":\"triangle-up-open\"},\n",
    "                  \"mode\": \"markers\",\n",
    "                  \"name\": \"name\": chr(9651) + columnNames[2], #\"Discriminated\",\n",
    "                  \"type\": \"scatter\",\n",
    "                  \"mode\":\"markers\"\n",
    "                 }\n",
    "\n",
    "\n",
    "        trace3 = {\"x\":df[columnNames[0]], \"y\":df[columnNames[3]], \"marker\": {\"color\": \"blue\", \"size\": 8,\"symbol\":\"circle-open\"},\n",
    "                  \"mode\": \"markers\",\n",
    "                  \"name\": \"name\": chr(9651) + columnNames[3], #chr(9651),\n",
    "                  \"type\": \"scatter\",\n",
    "                  \"mode\":\"markers\"\n",
    "                 }\n",
    "        trace4 = {\"x\":df[columnNames[0]], \"y\":df[columnNames[4]], \"marker\": {\"color\": \"black\", \"size\": 8, \"symbol\":\"triangle-up\"},\n",
    "                  \"mode\": \"markers\",\n",
    "                  \"name\": \"name\": chr(9651) + columnNames[4],,\n",
    "                  \"type\": \"scatter\",\n",
    "                  \"mode\":\"markers\"\n",
    "                 }\n",
    "\n",
    "\n",
    "        trace5 = {\"x\":df[columnNames[0]], \"y\":df[columnNames[5]], \"marker\": {\"color\": \"yellow\", \"size\": 8,\"symbol\":\"square\"},\n",
    "                  \"mode\": \"markers\",\n",
    "                  \"name\": chr(9651),\n",
    "                  \"type\": \"scatter\",\n",
    "                  \"mode\":\"markers\"\n",
    "                 }           \n",
    "\n",
    "    data = [trace1,trace2,trace3,trace4,trace5]\n",
    "\n",
    "\n",
    "    layout = go.Layout(\n",
    "        width = 2500,   # width and height of the image it self\n",
    "        height = 2500 ,\n",
    "        legend=dict(\n",
    "            x=1.01,        # x position of legend\n",
    "            y=.5,          # y position of legend\n",
    "            font=dict(\n",
    "                size=18   # Size of legend\n",
    "            )        \n",
    "        ),\n",
    "        \n",
    "        # Cosmetics for X axis\n",
    "        xaxis=dict(\n",
    "            title = axisTitle,    #title\n",
    "            showgrid=True,              # turn grid on or off\n",
    "            showticklabels=True,\n",
    "            #tickangle=45,  # Angle\n",
    "            showline=True,\n",
    "            mirror='ticks',\n",
    "            linewidth=1,       # size of border, up and down\n",
    "            #range=[0,10.5], \n",
    "            titlefont=dict(\n",
    "                size=21           # size of xaxis title\n",
    "            )            \n",
    "            \n",
    "        ),\n",
    "        yaxis=dict(\n",
    "            title=\"Loss Rate (%)\",\n",
    "            range=[0,102],\n",
    "            showgrid=True,\n",
    "            showline=True,\n",
    "            mirror='ticks',\n",
    "            linewidth=1,      #size of border, left and right\n",
    "            titlefont=dict(\n",
    "                size=21        #size of yaxis title\n",
    "            )               \n",
    "        ),     \n",
    "\n",
    "        #title = t + ' (' + place + ')',           #graph title\n",
    "    )\n",
    "\n",
    "    fig = go.Figure(data=data, layout=layout)\n",
    "\n",
    "    py.iplot(fig, filename = file ,image='svg')\n",
    "\n"
   ]
  },
  {
   "cell_type": "code",
   "execution_count": 18,
   "metadata": {},
   "outputs": [
    {
     "data": {
      "application/vnd.plotly.v1+json": {
       "data": [
        {
         "marker": {
          "color": "red",
          "size": 8,
          "symbol": "diamond"
         },
         "mode": "markers",
         "name": "Discriminated",
         "type": "scatter",
         "uid": "b6d85000-9dca-11e8-9574-c8f733c0a0e9",
         "x": [
          500,
          1000,
          1500,
          2000,
          2500,
          3000,
          3500,
          4000,
          4500,
          5000,
          5500,
          6000,
          6500,
          7000,
          7500,
          8000,
          8500,
          9000,
          9500,
          10000
         ],
         "y": [
          0,
          0,
          0,
          0,
          0,
          0,
          0,
          0,
          0.24,
          4.7,
          8.33,
          11.37,
          13.92,
          16.11,
          18.03,
          19.69,
          21.16,
          22.47,
          23.64,
          24.69
         ]
        },
        {
         "marker": {
          "color": "green",
          "size": 8,
          "symbol": "square"
         },
         "mode": "markers",
         "name": "Base",
         "type": "scatter",
         "uid": "b6d85001-9dca-11e8-9574-c8f733c0a0e9",
         "x": [
          500,
          1000,
          1500,
          2000,
          2500,
          3000,
          3500,
          4000,
          4500,
          5000,
          5500,
          6000,
          6500,
          7000,
          7500,
          8000,
          8500,
          9000,
          9500,
          10000
         ],
         "y": [
          45.4,
          52.9,
          55.4,
          56.65,
          57.4,
          57.87,
          58.23,
          58.5,
          58.82,
          60.74,
          62.33,
          63.63,
          64.74,
          65.7,
          66.52,
          67.25,
          67.88,
          68.46,
          68.96,
          69.42
         ]
        },
        {
         "marker": {
          "color": "blue",
          "size": 8
         },
         "mode": "markers",
         "name": "△",
         "type": "scatter",
         "uid": "b6d85002-9dca-11e8-9574-c8f733c0a0e9",
         "x": [
          500,
          1000,
          1500,
          2000,
          2500,
          3000,
          3500,
          4000,
          4500,
          5000,
          5500,
          6000,
          6500,
          7000,
          7500,
          8000,
          8500,
          9000,
          9500,
          10000
         ],
         "y": [
          45.4,
          52.9,
          55.4,
          56.65,
          57.4,
          57.87,
          58.23,
          58.5,
          58.58,
          56.04,
          54,
          52.26,
          50.82,
          49.59,
          48.49,
          47.56,
          46.72,
          45.99,
          45.32,
          44.73
         ]
        }
       ],
       "layout": {
        "height": 2500,
        "legend": {
         "font": {
          "size": 18
         },
         "x": 1.01,
         "y": 0.5
        },
        "width": 2500,
        "xaxis": {
         "linewidth": 1,
         "mirror": "ticks",
         "showgrid": true,
         "showline": true,
         "showticklabels": true,
         "title": "Number of Packets",
         "titlefont": {
          "size": 21
         }
        },
        "yaxis": {
         "linewidth": 1,
         "mirror": "ticks",
         "range": [
          0,
          102
         ],
         "showgrid": true,
         "showline": true,
         "title": "Loss Rate (%)",
         "titlefont": {
          "size": 21
         }
        }
       }
      },
      "text/html": [
       "<div id=\"91e3f7f7-1214-48ad-82d0-0334410a8f14\" style=\"height: 2500px; width: 2500px;\" class=\"plotly-graph-div\"></div><script type=\"text/javascript\">require([\"plotly\"], function(Plotly) { window.PLOTLYENV=window.PLOTLYENV || {};window.PLOTLYENV.BASE_URL=\"https://plot.ly\";\n",
       "        Plotly.plot(\n",
       "            '91e3f7f7-1214-48ad-82d0-0334410a8f14',\n",
       "            [{\"marker\": {\"color\": \"red\", \"size\": 8, \"symbol\": \"diamond\"}, \"mode\": \"markers\", \"name\": \"Discriminated\", \"x\": [500, 1000, 1500, 2000, 2500, 3000, 3500, 4000, 4500, 5000, 5500, 6000, 6500, 7000, 7500, 8000, 8500, 9000, 9500, 10000], \"y\": [0.0, 0.0, 0.0, 0.0, 0.0, 0.0, 0.0, 0.0, 0.24, 4.7, 8.33, 11.37, 13.92, 16.11, 18.03, 19.69, 21.16, 22.47, 23.64, 24.69], \"type\": \"scatter\", \"uid\": \"b6d85000-9dca-11e8-9574-c8f733c0a0e9\"}, {\"marker\": {\"color\": \"green\", \"size\": 8, \"symbol\": \"square\"}, \"mode\": \"markers\", \"name\": \"Base\", \"x\": [500, 1000, 1500, 2000, 2500, 3000, 3500, 4000, 4500, 5000, 5500, 6000, 6500, 7000, 7500, 8000, 8500, 9000, 9500, 10000], \"y\": [45.4, 52.9, 55.4, 56.65, 57.4, 57.87, 58.23, 58.5, 58.82, 60.74, 62.33, 63.63, 64.74, 65.7, 66.52, 67.25, 67.88, 68.46, 68.96, 69.42], \"type\": \"scatter\", \"uid\": \"b6d85001-9dca-11e8-9574-c8f733c0a0e9\"}, {\"marker\": {\"color\": \"blue\", \"size\": 8}, \"mode\": \"markers\", \"name\": \"\\u25b3\", \"x\": [500, 1000, 1500, 2000, 2500, 3000, 3500, 4000, 4500, 5000, 5500, 6000, 6500, 7000, 7500, 8000, 8500, 9000, 9500, 10000], \"y\": [45.4, 52.9, 55.4, 56.65, 57.4, 57.87, 58.23, 58.5, 58.58, 56.04, 54.0, 52.26, 50.82, 49.59, 48.49, 47.56, 46.72, 45.99, 45.32, 44.73], \"type\": \"scatter\", \"uid\": \"b6d85002-9dca-11e8-9574-c8f733c0a0e9\"}],\n",
       "            {\"height\": 2500, \"legend\": {\"font\": {\"size\": 18}, \"x\": 1.01, \"y\": 0.5}, \"width\": 2500, \"xaxis\": {\"linewidth\": 1, \"mirror\": \"ticks\", \"showgrid\": true, \"showline\": true, \"showticklabels\": true, \"title\": \"Number of Packets\", \"titlefont\": {\"size\": 21}}, \"yaxis\": {\"linewidth\": 1, \"mirror\": \"ticks\", \"range\": [0, 102], \"showgrid\": true, \"showline\": true, \"title\": \"Loss Rate (%)\", \"titlefont\": {\"size\": 21}}},\n",
       "            {\"showLink\": true, \"linkText\": \"Export to plot.ly\"}\n",
       "        ).then(function () {return Plotly.addFrames('91e3f7f7-1214-48ad-82d0-0334410a8f14',{});}).then(function(){Plotly.animate('91e3f7f7-1214-48ad-82d0-0334410a8f14');})\n",
       "        });</script>"
      ],
      "text/vnd.plotly.v1+html": [
       "<div id=\"91e3f7f7-1214-48ad-82d0-0334410a8f14\" style=\"height: 2500px; width: 2500px;\" class=\"plotly-graph-div\"></div><script type=\"text/javascript\">require([\"plotly\"], function(Plotly) { window.PLOTLYENV=window.PLOTLYENV || {};window.PLOTLYENV.BASE_URL=\"https://plot.ly\";\n",
       "        Plotly.plot(\n",
       "            '91e3f7f7-1214-48ad-82d0-0334410a8f14',\n",
       "            [{\"marker\": {\"color\": \"red\", \"size\": 8, \"symbol\": \"diamond\"}, \"mode\": \"markers\", \"name\": \"Discriminated\", \"x\": [500, 1000, 1500, 2000, 2500, 3000, 3500, 4000, 4500, 5000, 5500, 6000, 6500, 7000, 7500, 8000, 8500, 9000, 9500, 10000], \"y\": [0.0, 0.0, 0.0, 0.0, 0.0, 0.0, 0.0, 0.0, 0.24, 4.7, 8.33, 11.37, 13.92, 16.11, 18.03, 19.69, 21.16, 22.47, 23.64, 24.69], \"type\": \"scatter\", \"uid\": \"b6d85000-9dca-11e8-9574-c8f733c0a0e9\"}, {\"marker\": {\"color\": \"green\", \"size\": 8, \"symbol\": \"square\"}, \"mode\": \"markers\", \"name\": \"Base\", \"x\": [500, 1000, 1500, 2000, 2500, 3000, 3500, 4000, 4500, 5000, 5500, 6000, 6500, 7000, 7500, 8000, 8500, 9000, 9500, 10000], \"y\": [45.4, 52.9, 55.4, 56.65, 57.4, 57.87, 58.23, 58.5, 58.82, 60.74, 62.33, 63.63, 64.74, 65.7, 66.52, 67.25, 67.88, 68.46, 68.96, 69.42], \"type\": \"scatter\", \"uid\": \"b6d85001-9dca-11e8-9574-c8f733c0a0e9\"}, {\"marker\": {\"color\": \"blue\", \"size\": 8}, \"mode\": \"markers\", \"name\": \"\\u25b3\", \"x\": [500, 1000, 1500, 2000, 2500, 3000, 3500, 4000, 4500, 5000, 5500, 6000, 6500, 7000, 7500, 8000, 8500, 9000, 9500, 10000], \"y\": [45.4, 52.9, 55.4, 56.65, 57.4, 57.87, 58.23, 58.5, 58.58, 56.04, 54.0, 52.26, 50.82, 49.59, 48.49, 47.56, 46.72, 45.99, 45.32, 44.73], \"type\": \"scatter\", \"uid\": \"b6d85002-9dca-11e8-9574-c8f733c0a0e9\"}],\n",
       "            {\"height\": 2500, \"legend\": {\"font\": {\"size\": 18}, \"x\": 1.01, \"y\": 0.5}, \"width\": 2500, \"xaxis\": {\"linewidth\": 1, \"mirror\": \"ticks\", \"showgrid\": true, \"showline\": true, \"showticklabels\": true, \"title\": \"Number of Packets\", \"titlefont\": {\"size\": 21}}, \"yaxis\": {\"linewidth\": 1, \"mirror\": \"ticks\", \"range\": [0, 102], \"showgrid\": true, \"showline\": true, \"title\": \"Loss Rate (%)\", \"titlefont\": {\"size\": 21}}},\n",
       "            {\"showLink\": true, \"linkText\": \"Export to plot.ly\"}\n",
       "        ).then(function () {return Plotly.addFrames('91e3f7f7-1214-48ad-82d0-0334410a8f14',{});}).then(function(){Plotly.animate('91e3f7f7-1214-48ad-82d0-0334410a8f14');})\n",
       "        });</script>"
      ]
     },
     "metadata": {},
     "output_type": "display_data"
    },
    {
     "data": {
      "text/html": [
       "<script>function downloadimage(format, height, width, filename) {var p = document.getElementById('91e3f7f7-1214-48ad-82d0-0334410a8f14');Plotly.downloadImage(p, {format: format, height: height, width: width, filename: filename});};if(document.readyState == 'complete') {{downloadimage('svg', 600, 800, 'Simulation/compression/comp_loss_rate_without_ni_final_2Mbps.csv');}}</script>"
      ],
      "text/plain": [
       "<IPython.core.display.HTML object>"
      ]
     },
     "metadata": {},
     "output_type": "display_data"
    },
    {
     "data": {
      "application/vnd.plotly.v1+json": {
       "data": [
        {
         "marker": {
          "color": "red",
          "size": 8,
          "symbol": "diamond"
         },
         "mode": "markers",
         "name": "Discriminated",
         "type": "scatter",
         "uid": "b6d85003-9dca-11e8-9574-c8f733c0a0e9",
         "x": [
          500,
          1000,
          1500,
          2000,
          2500,
          3000,
          3500,
          4000,
          4500,
          5000,
          5500,
          6000,
          6500,
          7000,
          7500,
          8000,
          8500,
          9000,
          9500,
          10000
         ],
         "y": [
          0,
          0,
          0,
          0,
          0,
          0,
          0,
          0,
          45.83,
          44.85,
          44.73,
          44.75,
          44.71,
          44.69,
          44.71,
          44.69,
          44.71,
          44.69,
          44.71,
          44.7
         ]
        },
        {
         "marker": {
          "color": "green",
          "size": 8,
          "symbol": "square"
         },
         "mode": "markers",
         "name": "Base",
         "type": "scatter",
         "uid": "b6d85004-9dca-11e8-9574-c8f733c0a0e9",
         "x": [
          500,
          1000,
          1500,
          2000,
          2500,
          3000,
          3500,
          4000,
          4500,
          5000,
          5500,
          6000,
          6500,
          7000,
          7500,
          8000,
          8500,
          9000,
          9500,
          10000
         ],
         "y": [
          60.53,
          60.46,
          60.44,
          60.43,
          60.42,
          60.38,
          60.39,
          60.39,
          60.5,
          62.3,
          63.78,
          64.99,
          66.01,
          66.89,
          67.65,
          68.32,
          68.9,
          69.42,
          69.88,
          70.3
         ]
        },
        {
         "marker": {
          "color": "blue",
          "size": 8
         },
         "mode": "markers",
         "name": "△",
         "type": "scatter",
         "uid": "b6d85005-9dca-11e8-9574-c8f733c0a0e9",
         "x": [
          500,
          1000,
          1500,
          2000,
          2500,
          3000,
          3500,
          4000,
          4500,
          5000,
          5500,
          6000,
          6500,
          7000,
          7500,
          8000,
          8500,
          9000,
          9500,
          10000
         ],
         "y": [
          60.53,
          60.46,
          60.44,
          60.43,
          60.42,
          60.38,
          60.39,
          60.39,
          14.67,
          17.45,
          19.05,
          20.24,
          21.3,
          22.2,
          22.94,
          23.63,
          24.19,
          24.73,
          25.17,
          25.6
         ]
        }
       ],
       "layout": {
        "height": 2500,
        "legend": {
         "font": {
          "size": 18
         },
         "x": 1.01,
         "y": 0.5
        },
        "width": 2500,
        "xaxis": {
         "linewidth": 1,
         "mirror": "ticks",
         "showgrid": true,
         "showline": true,
         "showticklabels": true,
         "title": "Number of Packets",
         "titlefont": {
          "size": 21
         }
        },
        "yaxis": {
         "linewidth": 1,
         "mirror": "ticks",
         "range": [
          0,
          102
         ],
         "showgrid": true,
         "showline": true,
         "title": "Loss Rate (%)",
         "titlefont": {
          "size": 21
         }
        }
       }
      },
      "text/html": [
       "<div id=\"ea1b6ebc-3d85-454c-8295-f40aecd9aa8b\" style=\"height: 2500px; width: 2500px;\" class=\"plotly-graph-div\"></div><script type=\"text/javascript\">require([\"plotly\"], function(Plotly) { window.PLOTLYENV=window.PLOTLYENV || {};window.PLOTLYENV.BASE_URL=\"https://plot.ly\";\n",
       "        Plotly.plot(\n",
       "            'ea1b6ebc-3d85-454c-8295-f40aecd9aa8b',\n",
       "            [{\"marker\": {\"color\": \"red\", \"size\": 8, \"symbol\": \"diamond\"}, \"mode\": \"markers\", \"name\": \"Discriminated\", \"x\": [500, 1000, 1500, 2000, 2500, 3000, 3500, 4000, 4500, 5000, 5500, 6000, 6500, 7000, 7500, 8000, 8500, 9000, 9500, 10000], \"y\": [0.0, 0.0, 0.0, 0.0, 0.0, 0.0, 0.0, 0.0, 45.83, 44.85, 44.73, 44.75, 44.71, 44.69, 44.71, 44.69, 44.71, 44.69, 44.71, 44.7], \"type\": \"scatter\", \"uid\": \"b6d85003-9dca-11e8-9574-c8f733c0a0e9\"}, {\"marker\": {\"color\": \"green\", \"size\": 8, \"symbol\": \"square\"}, \"mode\": \"markers\", \"name\": \"Base\", \"x\": [500, 1000, 1500, 2000, 2500, 3000, 3500, 4000, 4500, 5000, 5500, 6000, 6500, 7000, 7500, 8000, 8500, 9000, 9500, 10000], \"y\": [60.53, 60.46, 60.44, 60.43, 60.42, 60.38, 60.39, 60.39, 60.5, 62.3, 63.78, 64.99, 66.01, 66.89, 67.65, 68.32, 68.9, 69.42, 69.88, 70.3], \"type\": \"scatter\", \"uid\": \"b6d85004-9dca-11e8-9574-c8f733c0a0e9\"}, {\"marker\": {\"color\": \"blue\", \"size\": 8}, \"mode\": \"markers\", \"name\": \"\\u25b3\", \"x\": [500, 1000, 1500, 2000, 2500, 3000, 3500, 4000, 4500, 5000, 5500, 6000, 6500, 7000, 7500, 8000, 8500, 9000, 9500, 10000], \"y\": [60.53, 60.46, 60.44, 60.43, 60.42, 60.38, 60.39, 60.39, 14.67, 17.45, 19.05, 20.24, 21.3, 22.2, 22.94, 23.63, 24.19, 24.73, 25.17, 25.6], \"type\": \"scatter\", \"uid\": \"b6d85005-9dca-11e8-9574-c8f733c0a0e9\"}],\n",
       "            {\"height\": 2500, \"legend\": {\"font\": {\"size\": 18}, \"x\": 1.01, \"y\": 0.5}, \"width\": 2500, \"xaxis\": {\"linewidth\": 1, \"mirror\": \"ticks\", \"showgrid\": true, \"showline\": true, \"showticklabels\": true, \"title\": \"Number of Packets\", \"titlefont\": {\"size\": 21}}, \"yaxis\": {\"linewidth\": 1, \"mirror\": \"ticks\", \"range\": [0, 102], \"showgrid\": true, \"showline\": true, \"title\": \"Loss Rate (%)\", \"titlefont\": {\"size\": 21}}},\n",
       "            {\"showLink\": true, \"linkText\": \"Export to plot.ly\"}\n",
       "        ).then(function () {return Plotly.addFrames('ea1b6ebc-3d85-454c-8295-f40aecd9aa8b',{});}).then(function(){Plotly.animate('ea1b6ebc-3d85-454c-8295-f40aecd9aa8b');})\n",
       "        });</script>"
      ],
      "text/vnd.plotly.v1+html": [
       "<div id=\"ea1b6ebc-3d85-454c-8295-f40aecd9aa8b\" style=\"height: 2500px; width: 2500px;\" class=\"plotly-graph-div\"></div><script type=\"text/javascript\">require([\"plotly\"], function(Plotly) { window.PLOTLYENV=window.PLOTLYENV || {};window.PLOTLYENV.BASE_URL=\"https://plot.ly\";\n",
       "        Plotly.plot(\n",
       "            'ea1b6ebc-3d85-454c-8295-f40aecd9aa8b',\n",
       "            [{\"marker\": {\"color\": \"red\", \"size\": 8, \"symbol\": \"diamond\"}, \"mode\": \"markers\", \"name\": \"Discriminated\", \"x\": [500, 1000, 1500, 2000, 2500, 3000, 3500, 4000, 4500, 5000, 5500, 6000, 6500, 7000, 7500, 8000, 8500, 9000, 9500, 10000], \"y\": [0.0, 0.0, 0.0, 0.0, 0.0, 0.0, 0.0, 0.0, 45.83, 44.85, 44.73, 44.75, 44.71, 44.69, 44.71, 44.69, 44.71, 44.69, 44.71, 44.7], \"type\": \"scatter\", \"uid\": \"b6d85003-9dca-11e8-9574-c8f733c0a0e9\"}, {\"marker\": {\"color\": \"green\", \"size\": 8, \"symbol\": \"square\"}, \"mode\": \"markers\", \"name\": \"Base\", \"x\": [500, 1000, 1500, 2000, 2500, 3000, 3500, 4000, 4500, 5000, 5500, 6000, 6500, 7000, 7500, 8000, 8500, 9000, 9500, 10000], \"y\": [60.53, 60.46, 60.44, 60.43, 60.42, 60.38, 60.39, 60.39, 60.5, 62.3, 63.78, 64.99, 66.01, 66.89, 67.65, 68.32, 68.9, 69.42, 69.88, 70.3], \"type\": \"scatter\", \"uid\": \"b6d85004-9dca-11e8-9574-c8f733c0a0e9\"}, {\"marker\": {\"color\": \"blue\", \"size\": 8}, \"mode\": \"markers\", \"name\": \"\\u25b3\", \"x\": [500, 1000, 1500, 2000, 2500, 3000, 3500, 4000, 4500, 5000, 5500, 6000, 6500, 7000, 7500, 8000, 8500, 9000, 9500, 10000], \"y\": [60.53, 60.46, 60.44, 60.43, 60.42, 60.38, 60.39, 60.39, 14.67, 17.45, 19.05, 20.24, 21.3, 22.2, 22.94, 23.63, 24.19, 24.73, 25.17, 25.6], \"type\": \"scatter\", \"uid\": \"b6d85005-9dca-11e8-9574-c8f733c0a0e9\"}],\n",
       "            {\"height\": 2500, \"legend\": {\"font\": {\"size\": 18}, \"x\": 1.01, \"y\": 0.5}, \"width\": 2500, \"xaxis\": {\"linewidth\": 1, \"mirror\": \"ticks\", \"showgrid\": true, \"showline\": true, \"showticklabels\": true, \"title\": \"Number of Packets\", \"titlefont\": {\"size\": 21}}, \"yaxis\": {\"linewidth\": 1, \"mirror\": \"ticks\", \"range\": [0, 102], \"showgrid\": true, \"showline\": true, \"title\": \"Loss Rate (%)\", \"titlefont\": {\"size\": 21}}},\n",
       "            {\"showLink\": true, \"linkText\": \"Export to plot.ly\"}\n",
       "        ).then(function () {return Plotly.addFrames('ea1b6ebc-3d85-454c-8295-f40aecd9aa8b',{});}).then(function(){Plotly.animate('ea1b6ebc-3d85-454c-8295-f40aecd9aa8b');})\n",
       "        });</script>"
      ]
     },
     "metadata": {},
     "output_type": "display_data"
    },
    {
     "data": {
      "text/html": [
       "<script>function downloadimage(format, height, width, filename) {var p = document.getElementById('ea1b6ebc-3d85-454c-8295-f40aecd9aa8b');Plotly.downloadImage(p, {format: format, height: height, width: width, filename: filename});};if(document.readyState == 'complete') {{downloadimage('svg', 600, 800, 'Simulation/compression/comp_loss_rate_with_ni_final_2Mbps.csv');}}</script>"
      ],
      "text/plain": [
       "<IPython.core.display.HTML object>"
      ]
     },
     "metadata": {},
     "output_type": "display_data"
    }
   ],
   "source": [
    "for root, dirs, filenames in os.walk(\"Simulation/\"):\n",
    "    for file in filenames:\n",
    "        drawSim('Simulation/'+file,True)\n"
   ]
  },
  {
   "cell_type": "markdown",
   "metadata": {},
   "source": [
    "# Run for Simulation With Lines"
   ]
  },
  {
   "cell_type": "code",
   "execution_count": 15,
   "metadata": {},
   "outputs": [],
   "source": [
    "def drawSimDash(file, isCompression):\n",
    "    \n",
    "    df = pd.read_csv(file)\n",
    "    arr = []\n",
    "    columnNames = list(df.head(0))\n",
    "    \n",
    "    if columnNames[0] == 'Bottleneck':\n",
    "        for i in df[columnNames[0]]:\n",
    "            arr.append(i[:-4])\n",
    "            \n",
    "    \n",
    "    if isCompression:\n",
    "\n",
    "        trace1 = go.Scatter(\n",
    "        x = df[columnNames[0]],\n",
    "        #x=arr,\n",
    "        y = df[columnNames[2]],\n",
    "        name = 'Discriminated', \n",
    "        line = dict(\n",
    "            color = ('red'),\n",
    "            width = 4,\n",
    "            dash = 'dash')\n",
    "        )\n",
    "            \n",
    "        trace2 = go.Scatter(\n",
    "        x = df[columnNames[0]],\n",
    "        #x=arr,\n",
    "        y = df[columnNames[1]],\n",
    "        name = 'Base', \n",
    "        line = dict(\n",
    "            color = ('green'),\n",
    "            width = 4,\n",
    "            dash = 'dash')    \n",
    "        )\n",
    "        \n",
    "        trace3 = go.Scatter(\n",
    "        x = df[columnNames[0]],\n",
    "        #x=arr,\n",
    "        y = df[columnNames[3]],\n",
    "        name = chr(9651), \n",
    "        line = dict(\n",
    "            color = ('blue'),\n",
    "            width = 4,\n",
    "            dash = 'dash')      \n",
    "        )\n",
    "\n",
    "\n",
    "        \n",
    "    else:\n",
    "            \n",
    "        trace1 = go.Scatter(\n",
    "        #x = df[columnNames[0]],\n",
    "        x = arr,\n",
    "        y = df[columnNames[1]],\n",
    "        marker={\"symbol\":\"x\"},     \n",
    "        name = 'Base', \n",
    "        line = dict(\n",
    "            color = ('green'),\n",
    "            width = 4,\n",
    "            dash = 'dash')\n",
    "        )\n",
    "            \n",
    "        trace2 = go.Scatter(\n",
    "        #x = df[columnNames[0]],\n",
    "        x = arr,    \n",
    "        y = df[columnNames[2]],\n",
    "        marker={\"symbol\":\"circle-open\"}, \n",
    "        name = 'Discriminated', \n",
    "        line = dict(\n",
    "            color = ('red'),\n",
    "            width = 4,\n",
    "            dash = 'dash')   \n",
    "        )\n",
    "        \n",
    "        trace3 = go.Scatter(\n",
    "        x = arr,    \n",
    "        #x = df[columnNames[0]],\n",
    "        y = df[columnNames[3]],\n",
    "        marker={\"symbol\":\"triangle-up-open\"},        \n",
    "        name = chr(9651),\n",
    "        line = dict(\n",
    "            color = ('blue'),\n",
    "            width = 4,\n",
    "            dash = 'dash')   \n",
    "        )\n",
    "\n",
    "    data = [trace1,trace2]\n",
    "\n",
    "\n",
    "    layout = go.Layout(\n",
    "        width = 2500,   # width and height of the image it self\n",
    "        height = 2500 ,\n",
    "        legend=dict(\n",
    "            x=1.01,        # x position of legend\n",
    "            y=.5,          # y position of legend\n",
    "            font=dict(\n",
    "                size=18   # Size of legend\n",
    "            )        \n",
    "        ),\n",
    "        \n",
    "        # Cosmetics for X axis\n",
    "        xaxis=dict(\n",
    "            title = \"Bottleneck (Mbps)\",    #title\n",
    "            showgrid=True,              # turn grid on or off\n",
    "            showticklabels=True,\n",
    "            #tickangle=45,  # Angle\n",
    "            showline=True,\n",
    "            mirror='ticks',\n",
    "            linewidth=1,       # size of border, up and down\n",
    "            #range=[0,32.5], \n",
    "            titlefont=dict(\n",
    "                size=21           # size of xaxis title\n",
    "            )            \n",
    "            \n",
    "        ),\n",
    "        yaxis=dict(\n",
    "            title=\"Loss Rate (%)\",\n",
    "            range=[0,102],\n",
    "            showgrid=True,\n",
    "            showline=True,\n",
    "            mirror='ticks',\n",
    "            linewidth=1,      #size of border, left and right\n",
    "            titlefont=dict(\n",
    "                size=21        #size of yaxis title\n",
    "            )               \n",
    "        ),     \n",
    "\n",
    "        #title = t + ' (' + place + ')',           #graph title\n",
    "    )\n",
    "\n",
    "\n",
    "    fig = go.Figure(data=data, layout=layout)\n",
    "\n",
    "    py.iplot(fig, filename = file ,image='svg')\n",
    "\n"
   ]
  },
  {
   "cell_type": "code",
   "execution_count": 16,
   "metadata": {},
   "outputs": [
    {
     "data": {
      "application/vnd.plotly.v1+json": {
       "data": [
        {
         "line": {
          "color": "green",
          "width": 4
         },
         "marker": {
          "symbol": "x"
         },
         "name": "Base",
         "type": "scatter",
         "uid": "cc9b9778-9ce7-11e8-bbc9-c8f733c0a0e9",
         "x": [
          "1",
          "1.5",
          "2",
          "2.5",
          "3",
          "3.5",
          "4",
          "4.5",
          "5",
          "5.5",
          "6",
          "6.5",
          "7",
          "7.5",
          "8",
          "8.5",
          "9",
          "9.5",
          "10"
         ],
         "y": [
          60,
          40.02,
          20,
          0.02,
          0,
          0.02,
          0.02,
          0.02,
          0.02,
          0,
          0,
          0,
          0,
          0,
          0,
          0,
          0,
          0,
          0
         ]
        },
        {
         "line": {
          "color": "red",
          "width": 4
         },
         "marker": {
          "symbol": "circle-open"
         },
         "name": "Discriminated",
         "type": "scatter",
         "uid": "cc9b9779-9ce7-11e8-bbc9-c8f733c0a0e9",
         "x": [
          "1",
          "1.5",
          "2",
          "2.5",
          "3",
          "3.5",
          "4",
          "4.5",
          "5",
          "5.5",
          "6",
          "6.5",
          "7",
          "7.5",
          "8",
          "8.5",
          "9",
          "9.5",
          "10"
         ],
         "y": [
          98.5,
          98.5,
          98.5,
          98.5,
          98.5,
          98.5,
          98.5,
          98.5,
          98.5,
          98.5,
          98.5,
          98.5,
          98.5,
          98.5,
          79.08,
          58.94,
          38.8,
          18.66,
          0
         ]
        }
       ],
       "layout": {
        "height": 2500,
        "legend": {
         "font": {
          "size": 18
         },
         "x": 1.01,
         "y": 0.5
        },
        "width": 2500,
        "xaxis": {
         "linewidth": 1,
         "mirror": "ticks",
         "showgrid": true,
         "showline": true,
         "showticklabels": true,
         "title": "Bottleneck (Mbps)",
         "titlefont": {
          "size": 21
         }
        },
        "yaxis": {
         "linewidth": 1,
         "mirror": "ticks",
         "range": [
          0,
          102
         ],
         "showgrid": true,
         "showline": true,
         "title": "Loss Rate (%)",
         "titlefont": {
          "size": 21
         }
        }
       }
      },
      "text/html": [
       "<div id=\"129184ce-0aa4-489a-a381-c4f9a9fcc555\" style=\"height: 2500px; width: 2500px;\" class=\"plotly-graph-div\"></div><script type=\"text/javascript\">require([\"plotly\"], function(Plotly) { window.PLOTLYENV=window.PLOTLYENV || {};window.PLOTLYENV.BASE_URL=\"https://plot.ly\";\n",
       "        Plotly.plot(\n",
       "            '129184ce-0aa4-489a-a381-c4f9a9fcc555',\n",
       "            [{\"line\": {\"color\": \"green\", \"width\": 4}, \"marker\": {\"symbol\": \"x\"}, \"name\": \"Base\", \"x\": [\"1\", \"1.5\", \"2\", \"2.5\", \"3\", \"3.5\", \"4\", \"4.5\", \"5\", \"5.5\", \"6\", \"6.5\", \"7\", \"7.5\", \"8\", \"8.5\", \"9\", \"9.5\", \"10\"], \"y\": [60.0, 40.02, 20.0, 0.02, 0.0, 0.02, 0.02, 0.02, 0.02, 0.0, 0.0, 0.0, 0.0, 0.0, 0.0, 0.0, 0.0, 0.0, 0.0], \"type\": \"scatter\", \"uid\": \"cc9b9778-9ce7-11e8-bbc9-c8f733c0a0e9\"}, {\"line\": {\"color\": \"red\", \"width\": 4}, \"marker\": {\"symbol\": \"circle-open\"}, \"name\": \"Discriminated\", \"x\": [\"1\", \"1.5\", \"2\", \"2.5\", \"3\", \"3.5\", \"4\", \"4.5\", \"5\", \"5.5\", \"6\", \"6.5\", \"7\", \"7.5\", \"8\", \"8.5\", \"9\", \"9.5\", \"10\"], \"y\": [98.5, 98.5, 98.5, 98.5, 98.5, 98.5, 98.5, 98.5, 98.5, 98.5, 98.5, 98.5, 98.5, 98.5, 79.08, 58.94, 38.8, 18.66, 0.0], \"type\": \"scatter\", \"uid\": \"cc9b9779-9ce7-11e8-bbc9-c8f733c0a0e9\"}],\n",
       "            {\"height\": 2500, \"legend\": {\"font\": {\"size\": 18}, \"x\": 1.01, \"y\": 0.5}, \"width\": 2500, \"xaxis\": {\"linewidth\": 1, \"mirror\": \"ticks\", \"showgrid\": true, \"showline\": true, \"showticklabels\": true, \"title\": \"Bottleneck (Mbps)\", \"titlefont\": {\"size\": 21}}, \"yaxis\": {\"linewidth\": 1, \"mirror\": \"ticks\", \"range\": [0, 102], \"showgrid\": true, \"showline\": true, \"title\": \"Loss Rate (%)\", \"titlefont\": {\"size\": 21}}},\n",
       "            {\"showLink\": true, \"linkText\": \"Export to plot.ly\"}\n",
       "        ).then(function () {return Plotly.addFrames('129184ce-0aa4-489a-a381-c4f9a9fcc555',{});}).then(function(){Plotly.animate('129184ce-0aa4-489a-a381-c4f9a9fcc555');})\n",
       "        });</script>"
      ],
      "text/vnd.plotly.v1+html": [
       "<div id=\"129184ce-0aa4-489a-a381-c4f9a9fcc555\" style=\"height: 2500px; width: 2500px;\" class=\"plotly-graph-div\"></div><script type=\"text/javascript\">require([\"plotly\"], function(Plotly) { window.PLOTLYENV=window.PLOTLYENV || {};window.PLOTLYENV.BASE_URL=\"https://plot.ly\";\n",
       "        Plotly.plot(\n",
       "            '129184ce-0aa4-489a-a381-c4f9a9fcc555',\n",
       "            [{\"line\": {\"color\": \"green\", \"width\": 4}, \"marker\": {\"symbol\": \"x\"}, \"name\": \"Base\", \"x\": [\"1\", \"1.5\", \"2\", \"2.5\", \"3\", \"3.5\", \"4\", \"4.5\", \"5\", \"5.5\", \"6\", \"6.5\", \"7\", \"7.5\", \"8\", \"8.5\", \"9\", \"9.5\", \"10\"], \"y\": [60.0, 40.02, 20.0, 0.02, 0.0, 0.02, 0.02, 0.02, 0.02, 0.0, 0.0, 0.0, 0.0, 0.0, 0.0, 0.0, 0.0, 0.0, 0.0], \"type\": \"scatter\", \"uid\": \"cc9b9778-9ce7-11e8-bbc9-c8f733c0a0e9\"}, {\"line\": {\"color\": \"red\", \"width\": 4}, \"marker\": {\"symbol\": \"circle-open\"}, \"name\": \"Discriminated\", \"x\": [\"1\", \"1.5\", \"2\", \"2.5\", \"3\", \"3.5\", \"4\", \"4.5\", \"5\", \"5.5\", \"6\", \"6.5\", \"7\", \"7.5\", \"8\", \"8.5\", \"9\", \"9.5\", \"10\"], \"y\": [98.5, 98.5, 98.5, 98.5, 98.5, 98.5, 98.5, 98.5, 98.5, 98.5, 98.5, 98.5, 98.5, 98.5, 79.08, 58.94, 38.8, 18.66, 0.0], \"type\": \"scatter\", \"uid\": \"cc9b9779-9ce7-11e8-bbc9-c8f733c0a0e9\"}],\n",
       "            {\"height\": 2500, \"legend\": {\"font\": {\"size\": 18}, \"x\": 1.01, \"y\": 0.5}, \"width\": 2500, \"xaxis\": {\"linewidth\": 1, \"mirror\": \"ticks\", \"showgrid\": true, \"showline\": true, \"showticklabels\": true, \"title\": \"Bottleneck (Mbps)\", \"titlefont\": {\"size\": 21}}, \"yaxis\": {\"linewidth\": 1, \"mirror\": \"ticks\", \"range\": [0, 102], \"showgrid\": true, \"showline\": true, \"title\": \"Loss Rate (%)\", \"titlefont\": {\"size\": 21}}},\n",
       "            {\"showLink\": true, \"linkText\": \"Export to plot.ly\"}\n",
       "        ).then(function () {return Plotly.addFrames('129184ce-0aa4-489a-a381-c4f9a9fcc555',{});}).then(function(){Plotly.animate('129184ce-0aa4-489a-a381-c4f9a9fcc555');})\n",
       "        });</script>"
      ]
     },
     "metadata": {},
     "output_type": "display_data"
    },
    {
     "data": {
      "text/html": [
       "<script>function downloadimage(format, height, width, filename) {var p = document.getElementById('129184ce-0aa4-489a-a381-c4f9a9fcc555');Plotly.downloadImage(p, {format: format, height: height, width: width, filename: filename});};if(document.readyState == 'complete') {{downloadimage('svg', 600, 800, 'Simulation/SPQNEW/spq_loss_rate_ratio_n_prime_3.csv');}}</script>"
      ],
      "text/plain": [
       "<IPython.core.display.HTML object>"
      ]
     },
     "metadata": {},
     "output_type": "display_data"
    },
    {
     "data": {
      "application/vnd.plotly.v1+json": {
       "data": [
        {
         "line": {
          "color": "green",
          "width": 4
         },
         "marker": {
          "symbol": "x"
         },
         "name": "Base",
         "type": "scatter",
         "uid": "cc9b977a-9ce7-11e8-bbc9-c8f733c0a0e9",
         "x": [
          "1",
          "1.5",
          "2",
          "2.5",
          "3",
          "3.5",
          "4",
          "4.5",
          "5",
          "5.5",
          "6",
          "6.5",
          "7",
          "7.5",
          "8",
          "8.5",
          "9",
          "9.5",
          "10"
         ],
         "y": [
          50,
          25.02,
          0.02,
          0.02,
          0,
          0.02,
          0.02,
          0.02,
          0.02,
          0,
          0,
          0,
          0,
          0,
          0,
          0,
          0,
          0,
          0
         ]
        },
        {
         "line": {
          "color": "red",
          "width": 4
         },
         "marker": {
          "symbol": "circle-open"
         },
         "name": "Discriminated",
         "type": "scatter",
         "uid": "cc9b977b-9ce7-11e8-bbc9-c8f733c0a0e9",
         "x": [
          "1",
          "1.5",
          "2",
          "2.5",
          "3",
          "3.5",
          "4",
          "4.5",
          "5",
          "5.5",
          "6",
          "6.5",
          "7",
          "7.5",
          "8",
          "8.5",
          "9",
          "9.5",
          "10"
         ],
         "y": [
          98.5,
          98.5,
          98.5,
          98.5,
          98.5,
          98.5,
          98.5,
          98.5,
          98.5,
          98.5,
          98.5,
          98.5,
          98.5,
          98.5,
          98.5,
          73.94,
          48.8,
          23.66,
          0
         ]
        }
       ],
       "layout": {
        "height": 2500,
        "legend": {
         "font": {
          "size": 18
         },
         "x": 1.01,
         "y": 0.5
        },
        "width": 2500,
        "xaxis": {
         "linewidth": 1,
         "mirror": "ticks",
         "showgrid": true,
         "showline": true,
         "showticklabels": true,
         "title": "Bottleneck (Mbps)",
         "titlefont": {
          "size": 21
         }
        },
        "yaxis": {
         "linewidth": 1,
         "mirror": "ticks",
         "range": [
          0,
          102
         ],
         "showgrid": true,
         "showline": true,
         "title": "Loss Rate (%)",
         "titlefont": {
          "size": 21
         }
        }
       }
      },
      "text/html": [
       "<div id=\"bc430e04-bb81-4ee8-b47d-96a3642eb411\" style=\"height: 2500px; width: 2500px;\" class=\"plotly-graph-div\"></div><script type=\"text/javascript\">require([\"plotly\"], function(Plotly) { window.PLOTLYENV=window.PLOTLYENV || {};window.PLOTLYENV.BASE_URL=\"https://plot.ly\";\n",
       "        Plotly.plot(\n",
       "            'bc430e04-bb81-4ee8-b47d-96a3642eb411',\n",
       "            [{\"line\": {\"color\": \"green\", \"width\": 4}, \"marker\": {\"symbol\": \"x\"}, \"name\": \"Base\", \"x\": [\"1\", \"1.5\", \"2\", \"2.5\", \"3\", \"3.5\", \"4\", \"4.5\", \"5\", \"5.5\", \"6\", \"6.5\", \"7\", \"7.5\", \"8\", \"8.5\", \"9\", \"9.5\", \"10\"], \"y\": [50.0, 25.02, 0.02, 0.02, 0.0, 0.02, 0.02, 0.02, 0.02, 0.0, 0.0, 0.0, 0.0, 0.0, 0.0, 0.0, 0.0, 0.0, 0.0], \"type\": \"scatter\", \"uid\": \"cc9b977a-9ce7-11e8-bbc9-c8f733c0a0e9\"}, {\"line\": {\"color\": \"red\", \"width\": 4}, \"marker\": {\"symbol\": \"circle-open\"}, \"name\": \"Discriminated\", \"x\": [\"1\", \"1.5\", \"2\", \"2.5\", \"3\", \"3.5\", \"4\", \"4.5\", \"5\", \"5.5\", \"6\", \"6.5\", \"7\", \"7.5\", \"8\", \"8.5\", \"9\", \"9.5\", \"10\"], \"y\": [98.5, 98.5, 98.5, 98.5, 98.5, 98.5, 98.5, 98.5, 98.5, 98.5, 98.5, 98.5, 98.5, 98.5, 98.5, 73.94, 48.8, 23.66, 0.0], \"type\": \"scatter\", \"uid\": \"cc9b977b-9ce7-11e8-bbc9-c8f733c0a0e9\"}],\n",
       "            {\"height\": 2500, \"legend\": {\"font\": {\"size\": 18}, \"x\": 1.01, \"y\": 0.5}, \"width\": 2500, \"xaxis\": {\"linewidth\": 1, \"mirror\": \"ticks\", \"showgrid\": true, \"showline\": true, \"showticklabels\": true, \"title\": \"Bottleneck (Mbps)\", \"titlefont\": {\"size\": 21}}, \"yaxis\": {\"linewidth\": 1, \"mirror\": \"ticks\", \"range\": [0, 102], \"showgrid\": true, \"showline\": true, \"title\": \"Loss Rate (%)\", \"titlefont\": {\"size\": 21}}},\n",
       "            {\"showLink\": true, \"linkText\": \"Export to plot.ly\"}\n",
       "        ).then(function () {return Plotly.addFrames('bc430e04-bb81-4ee8-b47d-96a3642eb411',{});}).then(function(){Plotly.animate('bc430e04-bb81-4ee8-b47d-96a3642eb411');})\n",
       "        });</script>"
      ],
      "text/vnd.plotly.v1+html": [
       "<div id=\"bc430e04-bb81-4ee8-b47d-96a3642eb411\" style=\"height: 2500px; width: 2500px;\" class=\"plotly-graph-div\"></div><script type=\"text/javascript\">require([\"plotly\"], function(Plotly) { window.PLOTLYENV=window.PLOTLYENV || {};window.PLOTLYENV.BASE_URL=\"https://plot.ly\";\n",
       "        Plotly.plot(\n",
       "            'bc430e04-bb81-4ee8-b47d-96a3642eb411',\n",
       "            [{\"line\": {\"color\": \"green\", \"width\": 4}, \"marker\": {\"symbol\": \"x\"}, \"name\": \"Base\", \"x\": [\"1\", \"1.5\", \"2\", \"2.5\", \"3\", \"3.5\", \"4\", \"4.5\", \"5\", \"5.5\", \"6\", \"6.5\", \"7\", \"7.5\", \"8\", \"8.5\", \"9\", \"9.5\", \"10\"], \"y\": [50.0, 25.02, 0.02, 0.02, 0.0, 0.02, 0.02, 0.02, 0.02, 0.0, 0.0, 0.0, 0.0, 0.0, 0.0, 0.0, 0.0, 0.0, 0.0], \"type\": \"scatter\", \"uid\": \"cc9b977a-9ce7-11e8-bbc9-c8f733c0a0e9\"}, {\"line\": {\"color\": \"red\", \"width\": 4}, \"marker\": {\"symbol\": \"circle-open\"}, \"name\": \"Discriminated\", \"x\": [\"1\", \"1.5\", \"2\", \"2.5\", \"3\", \"3.5\", \"4\", \"4.5\", \"5\", \"5.5\", \"6\", \"6.5\", \"7\", \"7.5\", \"8\", \"8.5\", \"9\", \"9.5\", \"10\"], \"y\": [98.5, 98.5, 98.5, 98.5, 98.5, 98.5, 98.5, 98.5, 98.5, 98.5, 98.5, 98.5, 98.5, 98.5, 98.5, 73.94, 48.8, 23.66, 0.0], \"type\": \"scatter\", \"uid\": \"cc9b977b-9ce7-11e8-bbc9-c8f733c0a0e9\"}],\n",
       "            {\"height\": 2500, \"legend\": {\"font\": {\"size\": 18}, \"x\": 1.01, \"y\": 0.5}, \"width\": 2500, \"xaxis\": {\"linewidth\": 1, \"mirror\": \"ticks\", \"showgrid\": true, \"showline\": true, \"showticklabels\": true, \"title\": \"Bottleneck (Mbps)\", \"titlefont\": {\"size\": 21}}, \"yaxis\": {\"linewidth\": 1, \"mirror\": \"ticks\", \"range\": [0, 102], \"showgrid\": true, \"showline\": true, \"title\": \"Loss Rate (%)\", \"titlefont\": {\"size\": 21}}},\n",
       "            {\"showLink\": true, \"linkText\": \"Export to plot.ly\"}\n",
       "        ).then(function () {return Plotly.addFrames('bc430e04-bb81-4ee8-b47d-96a3642eb411',{});}).then(function(){Plotly.animate('bc430e04-bb81-4ee8-b47d-96a3642eb411');})\n",
       "        });</script>"
      ]
     },
     "metadata": {},
     "output_type": "display_data"
    },
    {
     "data": {
      "text/html": [
       "<script>function downloadimage(format, height, width, filename) {var p = document.getElementById('bc430e04-bb81-4ee8-b47d-96a3642eb411');Plotly.downloadImage(p, {format: format, height: height, width: width, filename: filename});};if(document.readyState == 'complete') {{downloadimage('svg', 600, 800, 'Simulation/SPQNEW/spq_loss_rate_ratio_n_prime_4.csv');}}</script>"
      ],
      "text/plain": [
       "<IPython.core.display.HTML object>"
      ]
     },
     "metadata": {},
     "output_type": "display_data"
    },
    {
     "data": {
      "application/vnd.plotly.v1+json": {
       "data": [
        {
         "line": {
          "color": "green",
          "width": 4
         },
         "marker": {
          "symbol": "x"
         },
         "name": "Base",
         "type": "scatter",
         "uid": "cdf739ce-9ce7-11e8-bbc9-c8f733c0a0e9",
         "x": [
          "1",
          "1.5",
          "2",
          "2.5",
          "3",
          "3.5",
          "4",
          "4.5",
          "5",
          "5.5",
          "6",
          "6.5",
          "7",
          "7.5",
          "8",
          "8.5",
          "9",
          "9.5",
          "10"
         ],
         "y": [
          40,
          10.02,
          0.02,
          0.02,
          0,
          0.02,
          0.02,
          0.02,
          0.02,
          0,
          0,
          0,
          0,
          0,
          0,
          0,
          0,
          0,
          0
         ]
        },
        {
         "line": {
          "color": "red",
          "width": 4
         },
         "marker": {
          "symbol": "circle-open"
         },
         "name": "Discriminated",
         "type": "scatter",
         "uid": "cdf739cf-9ce7-11e8-bbc9-c8f733c0a0e9",
         "x": [
          "1",
          "1.5",
          "2",
          "2.5",
          "3",
          "3.5",
          "4",
          "4.5",
          "5",
          "5.5",
          "6",
          "6.5",
          "7",
          "7.5",
          "8",
          "8.5",
          "9",
          "9.5",
          "10"
         ],
         "y": [
          98.5,
          98.5,
          98.5,
          98.5,
          98.5,
          98.5,
          98.5,
          98.5,
          98.5,
          98.5,
          98.5,
          98.5,
          98.5,
          98.5,
          98.5,
          88.92,
          58.78,
          28.64,
          0
         ]
        }
       ],
       "layout": {
        "height": 2500,
        "legend": {
         "font": {
          "size": 18
         },
         "x": 1.01,
         "y": 0.5
        },
        "width": 2500,
        "xaxis": {
         "linewidth": 1,
         "mirror": "ticks",
         "showgrid": true,
         "showline": true,
         "showticklabels": true,
         "title": "Bottleneck (Mbps)",
         "titlefont": {
          "size": 21
         }
        },
        "yaxis": {
         "linewidth": 1,
         "mirror": "ticks",
         "range": [
          0,
          102
         ],
         "showgrid": true,
         "showline": true,
         "title": "Loss Rate (%)",
         "titlefont": {
          "size": 21
         }
        }
       }
      },
      "text/html": [
       "<div id=\"478531b1-0ffd-4c52-aec8-815f148e067b\" style=\"height: 2500px; width: 2500px;\" class=\"plotly-graph-div\"></div><script type=\"text/javascript\">require([\"plotly\"], function(Plotly) { window.PLOTLYENV=window.PLOTLYENV || {};window.PLOTLYENV.BASE_URL=\"https://plot.ly\";\n",
       "        Plotly.plot(\n",
       "            '478531b1-0ffd-4c52-aec8-815f148e067b',\n",
       "            [{\"line\": {\"color\": \"green\", \"width\": 4}, \"marker\": {\"symbol\": \"x\"}, \"name\": \"Base\", \"x\": [\"1\", \"1.5\", \"2\", \"2.5\", \"3\", \"3.5\", \"4\", \"4.5\", \"5\", \"5.5\", \"6\", \"6.5\", \"7\", \"7.5\", \"8\", \"8.5\", \"9\", \"9.5\", \"10\"], \"y\": [40.0, 10.02, 0.02, 0.02, 0.0, 0.02, 0.02, 0.02, 0.02, 0.0, 0.0, 0.0, 0.0, 0.0, 0.0, 0.0, 0.0, 0.0, 0.0], \"type\": \"scatter\", \"uid\": \"cdf739ce-9ce7-11e8-bbc9-c8f733c0a0e9\"}, {\"line\": {\"color\": \"red\", \"width\": 4}, \"marker\": {\"symbol\": \"circle-open\"}, \"name\": \"Discriminated\", \"x\": [\"1\", \"1.5\", \"2\", \"2.5\", \"3\", \"3.5\", \"4\", \"4.5\", \"5\", \"5.5\", \"6\", \"6.5\", \"7\", \"7.5\", \"8\", \"8.5\", \"9\", \"9.5\", \"10\"], \"y\": [98.5, 98.5, 98.5, 98.5, 98.5, 98.5, 98.5, 98.5, 98.5, 98.5, 98.5, 98.5, 98.5, 98.5, 98.5, 88.92, 58.78, 28.64, 0.0], \"type\": \"scatter\", \"uid\": \"cdf739cf-9ce7-11e8-bbc9-c8f733c0a0e9\"}],\n",
       "            {\"height\": 2500, \"legend\": {\"font\": {\"size\": 18}, \"x\": 1.01, \"y\": 0.5}, \"width\": 2500, \"xaxis\": {\"linewidth\": 1, \"mirror\": \"ticks\", \"showgrid\": true, \"showline\": true, \"showticklabels\": true, \"title\": \"Bottleneck (Mbps)\", \"titlefont\": {\"size\": 21}}, \"yaxis\": {\"linewidth\": 1, \"mirror\": \"ticks\", \"range\": [0, 102], \"showgrid\": true, \"showline\": true, \"title\": \"Loss Rate (%)\", \"titlefont\": {\"size\": 21}}},\n",
       "            {\"showLink\": true, \"linkText\": \"Export to plot.ly\"}\n",
       "        ).then(function () {return Plotly.addFrames('478531b1-0ffd-4c52-aec8-815f148e067b',{});}).then(function(){Plotly.animate('478531b1-0ffd-4c52-aec8-815f148e067b');})\n",
       "        });</script>"
      ],
      "text/vnd.plotly.v1+html": [
       "<div id=\"478531b1-0ffd-4c52-aec8-815f148e067b\" style=\"height: 2500px; width: 2500px;\" class=\"plotly-graph-div\"></div><script type=\"text/javascript\">require([\"plotly\"], function(Plotly) { window.PLOTLYENV=window.PLOTLYENV || {};window.PLOTLYENV.BASE_URL=\"https://plot.ly\";\n",
       "        Plotly.plot(\n",
       "            '478531b1-0ffd-4c52-aec8-815f148e067b',\n",
       "            [{\"line\": {\"color\": \"green\", \"width\": 4}, \"marker\": {\"symbol\": \"x\"}, \"name\": \"Base\", \"x\": [\"1\", \"1.5\", \"2\", \"2.5\", \"3\", \"3.5\", \"4\", \"4.5\", \"5\", \"5.5\", \"6\", \"6.5\", \"7\", \"7.5\", \"8\", \"8.5\", \"9\", \"9.5\", \"10\"], \"y\": [40.0, 10.02, 0.02, 0.02, 0.0, 0.02, 0.02, 0.02, 0.02, 0.0, 0.0, 0.0, 0.0, 0.0, 0.0, 0.0, 0.0, 0.0, 0.0], \"type\": \"scatter\", \"uid\": \"cdf739ce-9ce7-11e8-bbc9-c8f733c0a0e9\"}, {\"line\": {\"color\": \"red\", \"width\": 4}, \"marker\": {\"symbol\": \"circle-open\"}, \"name\": \"Discriminated\", \"x\": [\"1\", \"1.5\", \"2\", \"2.5\", \"3\", \"3.5\", \"4\", \"4.5\", \"5\", \"5.5\", \"6\", \"6.5\", \"7\", \"7.5\", \"8\", \"8.5\", \"9\", \"9.5\", \"10\"], \"y\": [98.5, 98.5, 98.5, 98.5, 98.5, 98.5, 98.5, 98.5, 98.5, 98.5, 98.5, 98.5, 98.5, 98.5, 98.5, 88.92, 58.78, 28.64, 0.0], \"type\": \"scatter\", \"uid\": \"cdf739cf-9ce7-11e8-bbc9-c8f733c0a0e9\"}],\n",
       "            {\"height\": 2500, \"legend\": {\"font\": {\"size\": 18}, \"x\": 1.01, \"y\": 0.5}, \"width\": 2500, \"xaxis\": {\"linewidth\": 1, \"mirror\": \"ticks\", \"showgrid\": true, \"showline\": true, \"showticklabels\": true, \"title\": \"Bottleneck (Mbps)\", \"titlefont\": {\"size\": 21}}, \"yaxis\": {\"linewidth\": 1, \"mirror\": \"ticks\", \"range\": [0, 102], \"showgrid\": true, \"showline\": true, \"title\": \"Loss Rate (%)\", \"titlefont\": {\"size\": 21}}},\n",
       "            {\"showLink\": true, \"linkText\": \"Export to plot.ly\"}\n",
       "        ).then(function () {return Plotly.addFrames('478531b1-0ffd-4c52-aec8-815f148e067b',{});}).then(function(){Plotly.animate('478531b1-0ffd-4c52-aec8-815f148e067b');})\n",
       "        });</script>"
      ]
     },
     "metadata": {},
     "output_type": "display_data"
    },
    {
     "data": {
      "text/html": [
       "<script>function downloadimage(format, height, width, filename) {var p = document.getElementById('478531b1-0ffd-4c52-aec8-815f148e067b');Plotly.downloadImage(p, {format: format, height: height, width: width, filename: filename});};if(document.readyState == 'complete') {{downloadimage('svg', 600, 800, 'Simulation/SPQNEW/spq_loss_rate_ratio_n_prime_5.csv');}}</script>"
      ],
      "text/plain": [
       "<IPython.core.display.HTML object>"
      ]
     },
     "metadata": {},
     "output_type": "display_data"
    },
    {
     "data": {
      "application/vnd.plotly.v1+json": {
       "data": [
        {
         "line": {
          "color": "green",
          "width": 4
         },
         "marker": {
          "symbol": "x"
         },
         "name": "Base",
         "type": "scatter",
         "uid": "cdf739d0-9ce7-11e8-bbc9-c8f733c0a0e9",
         "x": [
          "1",
          "1.5",
          "2",
          "2.5",
          "3",
          "3.5",
          "4",
          "4.5",
          "5",
          "5.5",
          "6",
          "6.5",
          "7",
          "7.5",
          "8",
          "8.5",
          "9",
          "9.5",
          "10"
         ],
         "y": [
          70,
          55,
          40,
          25.02,
          10,
          0.02,
          0.02,
          0.02,
          0.02,
          0,
          0,
          0,
          0,
          0,
          0,
          0,
          0,
          0,
          0
         ]
        },
        {
         "line": {
          "color": "red",
          "width": 4
         },
         "marker": {
          "symbol": "circle-open"
         },
         "name": "Discriminated",
         "type": "scatter",
         "uid": "cdf739d1-9ce7-11e8-bbc9-c8f733c0a0e9",
         "x": [
          "1",
          "1.5",
          "2",
          "2.5",
          "3",
          "3.5",
          "4",
          "4.5",
          "5",
          "5.5",
          "6",
          "6.5",
          "7",
          "7.5",
          "8",
          "8.5",
          "9",
          "9.5",
          "10"
         ],
         "y": [
          98.5,
          98.5,
          98.5,
          98.5,
          98.5,
          98.5,
          98.5,
          98.5,
          98.5,
          98.5,
          98.5,
          98.5,
          89.38,
          74.24,
          59.1,
          43.94,
          28.8,
          13.66,
          0
         ]
        }
       ],
       "layout": {
        "height": 2500,
        "legend": {
         "font": {
          "size": 18
         },
         "x": 1.01,
         "y": 0.5
        },
        "width": 2500,
        "xaxis": {
         "linewidth": 1,
         "mirror": "ticks",
         "showgrid": true,
         "showline": true,
         "showticklabels": true,
         "title": "Bottleneck (Mbps)",
         "titlefont": {
          "size": 21
         }
        },
        "yaxis": {
         "linewidth": 1,
         "mirror": "ticks",
         "range": [
          0,
          102
         ],
         "showgrid": true,
         "showline": true,
         "title": "Loss Rate (%)",
         "titlefont": {
          "size": 21
         }
        }
       }
      },
      "text/html": [
       "<div id=\"c3b8f032-247e-4126-a5f7-b290462efd2e\" style=\"height: 2500px; width: 2500px;\" class=\"plotly-graph-div\"></div><script type=\"text/javascript\">require([\"plotly\"], function(Plotly) { window.PLOTLYENV=window.PLOTLYENV || {};window.PLOTLYENV.BASE_URL=\"https://plot.ly\";\n",
       "        Plotly.plot(\n",
       "            'c3b8f032-247e-4126-a5f7-b290462efd2e',\n",
       "            [{\"line\": {\"color\": \"green\", \"width\": 4}, \"marker\": {\"symbol\": \"x\"}, \"name\": \"Base\", \"x\": [\"1\", \"1.5\", \"2\", \"2.5\", \"3\", \"3.5\", \"4\", \"4.5\", \"5\", \"5.5\", \"6\", \"6.5\", \"7\", \"7.5\", \"8\", \"8.5\", \"9\", \"9.5\", \"10\"], \"y\": [70.0, 55.0, 40.0, 25.02, 10.0, 0.02, 0.02, 0.02, 0.02, 0.0, 0.0, 0.0, 0.0, 0.0, 0.0, 0.0, 0.0, 0.0, 0.0], \"type\": \"scatter\", \"uid\": \"cdf739d0-9ce7-11e8-bbc9-c8f733c0a0e9\"}, {\"line\": {\"color\": \"red\", \"width\": 4}, \"marker\": {\"symbol\": \"circle-open\"}, \"name\": \"Discriminated\", \"x\": [\"1\", \"1.5\", \"2\", \"2.5\", \"3\", \"3.5\", \"4\", \"4.5\", \"5\", \"5.5\", \"6\", \"6.5\", \"7\", \"7.5\", \"8\", \"8.5\", \"9\", \"9.5\", \"10\"], \"y\": [98.5, 98.5, 98.5, 98.5, 98.5, 98.5, 98.5, 98.5, 98.5, 98.5, 98.5, 98.5, 89.38, 74.24, 59.1, 43.94, 28.8, 13.66, 0.0], \"type\": \"scatter\", \"uid\": \"cdf739d1-9ce7-11e8-bbc9-c8f733c0a0e9\"}],\n",
       "            {\"height\": 2500, \"legend\": {\"font\": {\"size\": 18}, \"x\": 1.01, \"y\": 0.5}, \"width\": 2500, \"xaxis\": {\"linewidth\": 1, \"mirror\": \"ticks\", \"showgrid\": true, \"showline\": true, \"showticklabels\": true, \"title\": \"Bottleneck (Mbps)\", \"titlefont\": {\"size\": 21}}, \"yaxis\": {\"linewidth\": 1, \"mirror\": \"ticks\", \"range\": [0, 102], \"showgrid\": true, \"showline\": true, \"title\": \"Loss Rate (%)\", \"titlefont\": {\"size\": 21}}},\n",
       "            {\"showLink\": true, \"linkText\": \"Export to plot.ly\"}\n",
       "        ).then(function () {return Plotly.addFrames('c3b8f032-247e-4126-a5f7-b290462efd2e',{});}).then(function(){Plotly.animate('c3b8f032-247e-4126-a5f7-b290462efd2e');})\n",
       "        });</script>"
      ],
      "text/vnd.plotly.v1+html": [
       "<div id=\"c3b8f032-247e-4126-a5f7-b290462efd2e\" style=\"height: 2500px; width: 2500px;\" class=\"plotly-graph-div\"></div><script type=\"text/javascript\">require([\"plotly\"], function(Plotly) { window.PLOTLYENV=window.PLOTLYENV || {};window.PLOTLYENV.BASE_URL=\"https://plot.ly\";\n",
       "        Plotly.plot(\n",
       "            'c3b8f032-247e-4126-a5f7-b290462efd2e',\n",
       "            [{\"line\": {\"color\": \"green\", \"width\": 4}, \"marker\": {\"symbol\": \"x\"}, \"name\": \"Base\", \"x\": [\"1\", \"1.5\", \"2\", \"2.5\", \"3\", \"3.5\", \"4\", \"4.5\", \"5\", \"5.5\", \"6\", \"6.5\", \"7\", \"7.5\", \"8\", \"8.5\", \"9\", \"9.5\", \"10\"], \"y\": [70.0, 55.0, 40.0, 25.02, 10.0, 0.02, 0.02, 0.02, 0.02, 0.0, 0.0, 0.0, 0.0, 0.0, 0.0, 0.0, 0.0, 0.0, 0.0], \"type\": \"scatter\", \"uid\": \"cdf739d0-9ce7-11e8-bbc9-c8f733c0a0e9\"}, {\"line\": {\"color\": \"red\", \"width\": 4}, \"marker\": {\"symbol\": \"circle-open\"}, \"name\": \"Discriminated\", \"x\": [\"1\", \"1.5\", \"2\", \"2.5\", \"3\", \"3.5\", \"4\", \"4.5\", \"5\", \"5.5\", \"6\", \"6.5\", \"7\", \"7.5\", \"8\", \"8.5\", \"9\", \"9.5\", \"10\"], \"y\": [98.5, 98.5, 98.5, 98.5, 98.5, 98.5, 98.5, 98.5, 98.5, 98.5, 98.5, 98.5, 89.38, 74.24, 59.1, 43.94, 28.8, 13.66, 0.0], \"type\": \"scatter\", \"uid\": \"cdf739d1-9ce7-11e8-bbc9-c8f733c0a0e9\"}],\n",
       "            {\"height\": 2500, \"legend\": {\"font\": {\"size\": 18}, \"x\": 1.01, \"y\": 0.5}, \"width\": 2500, \"xaxis\": {\"linewidth\": 1, \"mirror\": \"ticks\", \"showgrid\": true, \"showline\": true, \"showticklabels\": true, \"title\": \"Bottleneck (Mbps)\", \"titlefont\": {\"size\": 21}}, \"yaxis\": {\"linewidth\": 1, \"mirror\": \"ticks\", \"range\": [0, 102], \"showgrid\": true, \"showline\": true, \"title\": \"Loss Rate (%)\", \"titlefont\": {\"size\": 21}}},\n",
       "            {\"showLink\": true, \"linkText\": \"Export to plot.ly\"}\n",
       "        ).then(function () {return Plotly.addFrames('c3b8f032-247e-4126-a5f7-b290462efd2e',{});}).then(function(){Plotly.animate('c3b8f032-247e-4126-a5f7-b290462efd2e');})\n",
       "        });</script>"
      ]
     },
     "metadata": {},
     "output_type": "display_data"
    },
    {
     "data": {
      "text/html": [
       "<script>function downloadimage(format, height, width, filename) {var p = document.getElementById('c3b8f032-247e-4126-a5f7-b290462efd2e');Plotly.downloadImage(p, {format: format, height: height, width: width, filename: filename});};if(document.readyState == 'complete') {{downloadimage('svg', 600, 800, 'Simulation/SPQNEW/spq_loss_rate_ratio_n_prime_2.csv');}}</script>"
      ],
      "text/plain": [
       "<IPython.core.display.HTML object>"
      ]
     },
     "metadata": {},
     "output_type": "display_data"
    },
    {
     "data": {
      "application/vnd.plotly.v1+json": {
       "data": [
        {
         "line": {
          "color": "green",
          "width": 4
         },
         "marker": {
          "symbol": "x"
         },
         "name": "Base",
         "type": "scatter",
         "uid": "cf47a8ea-9ce7-11e8-bbc9-c8f733c0a0e9",
         "x": [
          "1",
          "1.5",
          "2",
          "2.5",
          "3",
          "3.5",
          "4",
          "4.5",
          "5",
          "5.5",
          "6",
          "6.5",
          "7",
          "7.5",
          "8",
          "8.5",
          "9",
          "9.5",
          "10"
         ],
         "y": [
          30,
          0.02,
          0.02,
          0.02,
          0,
          0.02,
          0.02,
          0.02,
          0.02,
          0,
          0,
          0,
          0,
          0,
          0,
          0,
          0,
          0,
          0
         ]
        },
        {
         "line": {
          "color": "red",
          "width": 4
         },
         "marker": {
          "symbol": "circle-open"
         },
         "name": "Discriminated",
         "type": "scatter",
         "uid": "cf47a8eb-9ce7-11e8-bbc9-c8f733c0a0e9",
         "x": [
          "1",
          "1.5",
          "2",
          "2.5",
          "3",
          "3.5",
          "4",
          "4.5",
          "5",
          "5.5",
          "6",
          "6.5",
          "7",
          "7.5",
          "8",
          "8.5",
          "9",
          "9.5",
          "10"
         ],
         "y": [
          98.5,
          98.5,
          98.5,
          98.5,
          98.5,
          98.5,
          98.5,
          98.5,
          98.5,
          98.5,
          98.5,
          98.5,
          98.5,
          98.5,
          98.5,
          98.5,
          68.78,
          33.64,
          0
         ]
        }
       ],
       "layout": {
        "height": 2500,
        "legend": {
         "font": {
          "size": 18
         },
         "x": 1.01,
         "y": 0.5
        },
        "width": 2500,
        "xaxis": {
         "linewidth": 1,
         "mirror": "ticks",
         "showgrid": true,
         "showline": true,
         "showticklabels": true,
         "title": "Bottleneck (Mbps)",
         "titlefont": {
          "size": 21
         }
        },
        "yaxis": {
         "linewidth": 1,
         "mirror": "ticks",
         "range": [
          0,
          102
         ],
         "showgrid": true,
         "showline": true,
         "title": "Loss Rate (%)",
         "titlefont": {
          "size": 21
         }
        }
       }
      },
      "text/html": [
       "<div id=\"f5059dec-ca47-4fc9-87a7-2a290a5c74ea\" style=\"height: 2500px; width: 2500px;\" class=\"plotly-graph-div\"></div><script type=\"text/javascript\">require([\"plotly\"], function(Plotly) { window.PLOTLYENV=window.PLOTLYENV || {};window.PLOTLYENV.BASE_URL=\"https://plot.ly\";\n",
       "        Plotly.plot(\n",
       "            'f5059dec-ca47-4fc9-87a7-2a290a5c74ea',\n",
       "            [{\"line\": {\"color\": \"green\", \"width\": 4}, \"marker\": {\"symbol\": \"x\"}, \"name\": \"Base\", \"x\": [\"1\", \"1.5\", \"2\", \"2.5\", \"3\", \"3.5\", \"4\", \"4.5\", \"5\", \"5.5\", \"6\", \"6.5\", \"7\", \"7.5\", \"8\", \"8.5\", \"9\", \"9.5\", \"10\"], \"y\": [30.0, 0.02, 0.02, 0.02, 0.0, 0.02, 0.02, 0.02, 0.02, 0.0, 0.0, 0.0, 0.0, 0.0, 0.0, 0.0, 0.0, 0.0, 0.0], \"type\": \"scatter\", \"uid\": \"cf47a8ea-9ce7-11e8-bbc9-c8f733c0a0e9\"}, {\"line\": {\"color\": \"red\", \"width\": 4}, \"marker\": {\"symbol\": \"circle-open\"}, \"name\": \"Discriminated\", \"x\": [\"1\", \"1.5\", \"2\", \"2.5\", \"3\", \"3.5\", \"4\", \"4.5\", \"5\", \"5.5\", \"6\", \"6.5\", \"7\", \"7.5\", \"8\", \"8.5\", \"9\", \"9.5\", \"10\"], \"y\": [98.5, 98.5, 98.5, 98.5, 98.5, 98.5, 98.5, 98.5, 98.5, 98.5, 98.5, 98.5, 98.5, 98.5, 98.5, 98.5, 68.78, 33.64, 0.0], \"type\": \"scatter\", \"uid\": \"cf47a8eb-9ce7-11e8-bbc9-c8f733c0a0e9\"}],\n",
       "            {\"height\": 2500, \"legend\": {\"font\": {\"size\": 18}, \"x\": 1.01, \"y\": 0.5}, \"width\": 2500, \"xaxis\": {\"linewidth\": 1, \"mirror\": \"ticks\", \"showgrid\": true, \"showline\": true, \"showticklabels\": true, \"title\": \"Bottleneck (Mbps)\", \"titlefont\": {\"size\": 21}}, \"yaxis\": {\"linewidth\": 1, \"mirror\": \"ticks\", \"range\": [0, 102], \"showgrid\": true, \"showline\": true, \"title\": \"Loss Rate (%)\", \"titlefont\": {\"size\": 21}}},\n",
       "            {\"showLink\": true, \"linkText\": \"Export to plot.ly\"}\n",
       "        ).then(function () {return Plotly.addFrames('f5059dec-ca47-4fc9-87a7-2a290a5c74ea',{});}).then(function(){Plotly.animate('f5059dec-ca47-4fc9-87a7-2a290a5c74ea');})\n",
       "        });</script>"
      ],
      "text/vnd.plotly.v1+html": [
       "<div id=\"f5059dec-ca47-4fc9-87a7-2a290a5c74ea\" style=\"height: 2500px; width: 2500px;\" class=\"plotly-graph-div\"></div><script type=\"text/javascript\">require([\"plotly\"], function(Plotly) { window.PLOTLYENV=window.PLOTLYENV || {};window.PLOTLYENV.BASE_URL=\"https://plot.ly\";\n",
       "        Plotly.plot(\n",
       "            'f5059dec-ca47-4fc9-87a7-2a290a5c74ea',\n",
       "            [{\"line\": {\"color\": \"green\", \"width\": 4}, \"marker\": {\"symbol\": \"x\"}, \"name\": \"Base\", \"x\": [\"1\", \"1.5\", \"2\", \"2.5\", \"3\", \"3.5\", \"4\", \"4.5\", \"5\", \"5.5\", \"6\", \"6.5\", \"7\", \"7.5\", \"8\", \"8.5\", \"9\", \"9.5\", \"10\"], \"y\": [30.0, 0.02, 0.02, 0.02, 0.0, 0.02, 0.02, 0.02, 0.02, 0.0, 0.0, 0.0, 0.0, 0.0, 0.0, 0.0, 0.0, 0.0, 0.0], \"type\": \"scatter\", \"uid\": \"cf47a8ea-9ce7-11e8-bbc9-c8f733c0a0e9\"}, {\"line\": {\"color\": \"red\", \"width\": 4}, \"marker\": {\"symbol\": \"circle-open\"}, \"name\": \"Discriminated\", \"x\": [\"1\", \"1.5\", \"2\", \"2.5\", \"3\", \"3.5\", \"4\", \"4.5\", \"5\", \"5.5\", \"6\", \"6.5\", \"7\", \"7.5\", \"8\", \"8.5\", \"9\", \"9.5\", \"10\"], \"y\": [98.5, 98.5, 98.5, 98.5, 98.5, 98.5, 98.5, 98.5, 98.5, 98.5, 98.5, 98.5, 98.5, 98.5, 98.5, 98.5, 68.78, 33.64, 0.0], \"type\": \"scatter\", \"uid\": \"cf47a8eb-9ce7-11e8-bbc9-c8f733c0a0e9\"}],\n",
       "            {\"height\": 2500, \"legend\": {\"font\": {\"size\": 18}, \"x\": 1.01, \"y\": 0.5}, \"width\": 2500, \"xaxis\": {\"linewidth\": 1, \"mirror\": \"ticks\", \"showgrid\": true, \"showline\": true, \"showticklabels\": true, \"title\": \"Bottleneck (Mbps)\", \"titlefont\": {\"size\": 21}}, \"yaxis\": {\"linewidth\": 1, \"mirror\": \"ticks\", \"range\": [0, 102], \"showgrid\": true, \"showline\": true, \"title\": \"Loss Rate (%)\", \"titlefont\": {\"size\": 21}}},\n",
       "            {\"showLink\": true, \"linkText\": \"Export to plot.ly\"}\n",
       "        ).then(function () {return Plotly.addFrames('f5059dec-ca47-4fc9-87a7-2a290a5c74ea',{});}).then(function(){Plotly.animate('f5059dec-ca47-4fc9-87a7-2a290a5c74ea');})\n",
       "        });</script>"
      ]
     },
     "metadata": {},
     "output_type": "display_data"
    },
    {
     "data": {
      "text/html": [
       "<script>function downloadimage(format, height, width, filename) {var p = document.getElementById('f5059dec-ca47-4fc9-87a7-2a290a5c74ea');Plotly.downloadImage(p, {format: format, height: height, width: width, filename: filename});};if(document.readyState == 'complete') {{downloadimage('svg', 600, 800, 'Simulation/SPQNEW/spq_loss_rate_ratio_n_prime_6.csv');}}</script>"
      ],
      "text/plain": [
       "<IPython.core.display.HTML object>"
      ]
     },
     "metadata": {},
     "output_type": "display_data"
    }
   ],
   "source": [
    "for root, dirs, filenames in os.walk(\"Simulation/SPQNEW\"):\n",
    "    for file in filenames:\n",
    "        drawSimDash('Simulation/SPQNEW/'+file,False)\n",
    "\n",
    "# df = pd.read_csv('Simulation/SPQNEW/spq_loss_rate_ratio_n_prime_2.csv')\n",
    "# columnNames = list(df.head(0))\n",
    "# print(columnNames)\n"
   ]
  },
  {
   "cell_type": "markdown",
   "metadata": {},
   "source": [
    "# Delayer Graphs"
   ]
  },
  {
   "cell_type": "code",
   "execution_count": 36,
   "metadata": {},
   "outputs": [],
   "source": [
    "def drawdelayer(file):\n",
    "    \n",
    "    df = pd.read_csv(file)        \n",
    "    columnNames = list(df.head(0))\n",
    "\n",
    "#     trace1 = go.Scatter(\n",
    "#     x = df[columnNames[0]],\n",
    "#     y = df[columnNames[2]],\n",
    "#     name = 'Discriminated', \n",
    "#     marker={\"symbol\":\"x\"},\n",
    "#     line = dict(\n",
    "#         color = ('red'),\n",
    "#         width = 4,\n",
    "#         dash = 'dash')\n",
    "#     )\n",
    "\n",
    "#     trace2 = go.Scatter(\n",
    "#     x = df[columnNames[0]],\n",
    "#     y = df[columnNames[1]],\n",
    "#     name = 'Base', \n",
    "#     marker={\"symbol\":\"circle\"},    \n",
    "#     line = dict(\n",
    "#         color = ('green'),\n",
    "#         width = 4,\n",
    "#         dash = 'dash')    \n",
    "#     )\n",
    "\n",
    "#     if not isDelayer:\n",
    "#         trace3 = go.Scatter( \n",
    "#         x = df[columnNames[0]],\n",
    "#         y = df[columnNames[3]],\n",
    "#         marker={\"symbol\":\"triangle-up\"},        \n",
    "#         name = chr(9651),\n",
    "#         line = dict(\n",
    "#             color = ('blue'),\n",
    "#             width = 4,\n",
    "#             dash = 'dash')   \n",
    "#         )        \n",
    "\n",
    "    trace1 = {\"x\":df[columnNames[0]], \"y\":df[columnNames[2]], \"marker\": {\"color\": \"red\", \"size\": 8, \"symbol\":\"x\"},\n",
    "              \"mode\": \"markers\",\n",
    "              \"name\": str(columnNames[2]),\n",
    "              \"type\": \"scatter\",\n",
    "              \"mode\":\"markers\"\n",
    "              }\n",
    "\n",
    "    trace2 = {\"x\":df[columnNames[0]], \"y\":df[columnNames[1]], \"marker\": {\"color\": \"green\", \"size\": 8, \"symbol\":\"triangle-up\"},\n",
    "              \"mode\": \"markers\",\n",
    "              \"name\": str(columnNames[1]),\n",
    "              \"type\": \"scatter\",\n",
    "              \"mode\":\"markers\"\n",
    "             }\n",
    "    \n",
    "    trace3 = {\"x\":df[columnNames[0]], \"y\":df[columnNames[3]], \"marker\": {\"color\": \"blue\", \"size\": 8, \"symbol\":\"diamond\"},\n",
    "              \"mode\": \"markers\",\n",
    "              \"name\": str(columnNames[3]),\n",
    "              \"type\": \"scatter\",\n",
    "              \"mode\":\"markers\"\n",
    "             }\n",
    "    trace4 = {\"x\":df[columnNames[0]], \"y\":df[columnNames[4]], \"marker\": {\"color\": \"yello\", \"size\": 8, \"symbol\":\"circle\"},\n",
    "              \"mode\": \"markers\",\n",
    "              \"name\": str(columnNames[4]),\n",
    "              \"type\": \"scatter\",\n",
    "              \"mode\":\"markers\"\n",
    "             }    \n",
    "\n",
    "\n",
    "#     trace3 = {\"x\":df[columnNames[0]], \"y\":df[columnNames[0]], \"marker\": {\"color\": \"blue\", \"size\": 8},\n",
    "#               \"mode\": \"markers\",\n",
    "#               \"name\": chr(9651),\n",
    "#               \"type\": \"scatter\",\n",
    "#               \"mode\":\"markers\"\n",
    "#              }  \n",
    "        \n",
    "    data = [trace1,trace2,trace3,trace4]\n",
    "\n",
    "\n",
    "    layout = go.Layout(\n",
    "        width = 2500,   # width and height of the image it self\n",
    "        height = 2500 ,\n",
    "        legend=dict(\n",
    "            x=1.01,        # x position of legend\n",
    "            y=.5,          # y position of legend\n",
    "            font=dict(\n",
    "                size=18   # Size of legend\n",
    "            )        \n",
    "        ),\n",
    "        \n",
    "        # Cosmetics for X axis\n",
    "        xaxis=dict(\n",
    "            title = \"Number of Packets\",    #title\n",
    "            showgrid=True,              # turn grid on or off\n",
    "            showticklabels=True,\n",
    "            #tickangle=45,  # Angle\n",
    "            showline=True,\n",
    "            mirror='ticks',\n",
    "            linewidth=1,       # size of border, up and down\n",
    "            range=[0.5,5001.5], \n",
    "            titlefont=dict(\n",
    "                size=21           # size of xaxis title\n",
    "            )            \n",
    "            \n",
    "        ),\n",
    "        yaxis=dict(\n",
    "            title=\"Loss Rate (%)\",\n",
    "            range=[0,102],\n",
    "            showgrid=True,\n",
    "            showline=True,\n",
    "            mirror='ticks',\n",
    "            linewidth=1,      #size of border, left and right\n",
    "            titlefont=dict(\n",
    "                size=21        #size of yaxis title\n",
    "            )               \n",
    "        ),     \n",
    "\n",
    "        #title = t + ' (' + place + ')',           #graph title\n",
    "    )\n",
    "\n",
    "\n",
    "    fig = go.Figure(data=data, layout=layout)\n",
    "\n",
    "    py.iplot(fig, filename = file, image='svg')\n",
    "\n"
   ]
  },
  {
   "cell_type": "code",
   "execution_count": 37,
   "metadata": {},
   "outputs": [
    {
     "ename": "ValueError",
     "evalue": "\n    Invalid value of type 'builtins.str' received for the 'color' property of scatter.marker\n        Received value: 'yello'\n\n    The 'color' property is a color and may be specified as:\n      - A hex string (e.g. '#ff0000')\n      - An rgb/rgba string (e.g. 'rgb(255,0,0)')\n      - An hsl/hsla string (e.g. 'hsl(0,100%,50%)')\n      - An hsv/hsva string (e.g. 'hsv(0,100%,100%)')\n      - A named CSS color:\n            aliceblue, antiquewhite, aqua, aquamarine, azure,\n            beige, bisque, black, blanchedalmond, blue,\n            blueviolet, brown, burlywood, cadetblue,\n            chartreuse, chocolate, coral, cornflowerblue,\n            cornsilk, crimson, cyan, darkblue, darkcyan,\n            darkgoldenrod, darkgray, darkgrey, darkgreen,\n            darkkhaki, darkmagenta, darkolivegreen, darkorange,\n            darkorchid, darkred, darksalmon, darkseagreen,\n            darkslateblue, darkslategray, darkslategrey,\n            darkturquoise, darkviolet, deeppink, deepskyblue,\n            dimgray, dimgrey, dodgerblue, firebrick,\n            floralwhite, forestgreen, fuchsia, gainsboro,\n            ghostwhite, gold, goldenrod, gray, grey, green,\n            greenyellow, honeydew, hotpink, indianred, indigo,\n            ivory, khaki, lavender, lavenderblush, lawngreen,\n            lemonchiffon, lightblue, lightcoral, lightcyan,\n            lightgoldenrodyellow, lightgray, lightgrey,\n            lightgreen, lightpink, lightsalmon, lightseagreen,\n            lightskyblue, lightslategray, lightslategrey,\n            lightsteelblue, lightyellow, lime, limegreen,\n            linen, magenta, maroon, mediumaquamarine,\n            mediumblue, mediumorchid, mediumpurple,\n            mediumseagreen, mediumslateblue, mediumspringgreen,\n            mediumturquoise, mediumvioletred, midnightblue,\n            mintcream, mistyrose, moccasin, navajowhite, navy,\n            oldlace, olive, olivedrab, orange, orangered,\n            orchid, palegoldenrod, palegreen, paleturquoise,\n            palevioletred, papayawhip, peachpuff, peru, pink,\n            plum, powderblue, purple, red, rosybrown,\n            royalblue, saddlebrown, salmon, sandybrown,\n            seagreen, seashell, sienna, silver, skyblue,\n            slateblue, slategray, slategrey, snow, springgreen,\n            steelblue, tan, teal, thistle, tomato, turquoise,\n            violet, wheat, white, whitesmoke, yellow,\n            yellowgreen\n      - A number that will be interpreted as a color\n        according to scatter.marker.colorscale\n      - A list or array of any of the above",
     "output_type": "error",
     "traceback": [
      "\u001b[0;31m---------------------------------------------------------------------------\u001b[0m",
      "\u001b[0;31mValueError\u001b[0m                                Traceback (most recent call last)",
      "\u001b[0;32m<ipython-input-37-344f47d079bc>\u001b[0m in \u001b[0;36m<module>\u001b[0;34m()\u001b[0m\n\u001b[1;32m      1\u001b[0m \u001b[0;32mfor\u001b[0m \u001b[0mroot\u001b[0m\u001b[0;34m,\u001b[0m \u001b[0mdirs\u001b[0m\u001b[0;34m,\u001b[0m \u001b[0mfilenames\u001b[0m \u001b[0;32min\u001b[0m \u001b[0mos\u001b[0m\u001b[0;34m.\u001b[0m\u001b[0mwalk\u001b[0m\u001b[0;34m(\u001b[0m\u001b[0;34m\"Simulation/delayer\"\u001b[0m\u001b[0;34m)\u001b[0m\u001b[0;34m:\u001b[0m\u001b[0;34m\u001b[0m\u001b[0m\n\u001b[1;32m      2\u001b[0m     \u001b[0;32mfor\u001b[0m \u001b[0mfile\u001b[0m \u001b[0;32min\u001b[0m \u001b[0mfilenames\u001b[0m\u001b[0;34m:\u001b[0m\u001b[0;34m\u001b[0m\u001b[0m\n\u001b[0;32m----> 3\u001b[0;31m         \u001b[0mdrawdelayer\u001b[0m\u001b[0;34m(\u001b[0m\u001b[0;34m\"Simulation/delayer/\"\u001b[0m\u001b[0;34m+\u001b[0m\u001b[0mfile\u001b[0m\u001b[0;34m)\u001b[0m\u001b[0;34m\u001b[0m\u001b[0m\n\u001b[0m\u001b[1;32m      4\u001b[0m \u001b[0;34m\u001b[0m\u001b[0m\n\u001b[1;32m      5\u001b[0m \u001b[0;34m\u001b[0m\u001b[0m\n",
      "\u001b[0;32m<ipython-input-36-ba42a21798a1>\u001b[0m in \u001b[0;36mdrawdelayer\u001b[0;34m(file)\u001b[0m\n\u001b[1;32m    118\u001b[0m \u001b[0;34m\u001b[0m\u001b[0m\n\u001b[1;32m    119\u001b[0m \u001b[0;34m\u001b[0m\u001b[0m\n\u001b[0;32m--> 120\u001b[0;31m     \u001b[0mfig\u001b[0m \u001b[0;34m=\u001b[0m \u001b[0mgo\u001b[0m\u001b[0;34m.\u001b[0m\u001b[0mFigure\u001b[0m\u001b[0;34m(\u001b[0m\u001b[0mdata\u001b[0m\u001b[0;34m=\u001b[0m\u001b[0mdata\u001b[0m\u001b[0;34m,\u001b[0m \u001b[0mlayout\u001b[0m\u001b[0;34m=\u001b[0m\u001b[0mlayout\u001b[0m\u001b[0;34m)\u001b[0m\u001b[0;34m\u001b[0m\u001b[0m\n\u001b[0m\u001b[1;32m    121\u001b[0m \u001b[0;34m\u001b[0m\u001b[0m\n\u001b[1;32m    122\u001b[0m     \u001b[0mpy\u001b[0m\u001b[0;34m.\u001b[0m\u001b[0miplot\u001b[0m\u001b[0;34m(\u001b[0m\u001b[0mfig\u001b[0m\u001b[0;34m,\u001b[0m \u001b[0mfilename\u001b[0m \u001b[0;34m=\u001b[0m \u001b[0mfile\u001b[0m\u001b[0;34m,\u001b[0m \u001b[0mimage\u001b[0m\u001b[0;34m=\u001b[0m\u001b[0;34m'svg'\u001b[0m\u001b[0;34m)\u001b[0m\u001b[0;34m\u001b[0m\u001b[0m\n",
      "\u001b[0;32m~/anaconda3/lib/python3.6/site-packages/plotly/graph_objs/_figure.py\u001b[0m in \u001b[0;36m__init__\u001b[0;34m(self, data, layout, frames)\u001b[0m\n\u001b[1;32m    287\u001b[0m                         \u001b[0mrespective\u001b[0m \u001b[0mtraces\u001b[0m \u001b[0;32min\u001b[0m \u001b[0mthe\u001b[0m \u001b[0mdata\u001b[0m \u001b[0mattribute\u001b[0m\u001b[0;34m\u001b[0m\u001b[0m\n\u001b[1;32m    288\u001b[0m         \"\"\"\n\u001b[0;32m--> 289\u001b[0;31m         \u001b[0msuper\u001b[0m\u001b[0;34m(\u001b[0m\u001b[0mFigure\u001b[0m\u001b[0;34m,\u001b[0m \u001b[0mself\u001b[0m\u001b[0;34m)\u001b[0m\u001b[0;34m.\u001b[0m\u001b[0m__init__\u001b[0m\u001b[0;34m(\u001b[0m\u001b[0mdata\u001b[0m\u001b[0;34m,\u001b[0m \u001b[0mlayout\u001b[0m\u001b[0;34m,\u001b[0m \u001b[0mframes\u001b[0m\u001b[0;34m)\u001b[0m\u001b[0;34m\u001b[0m\u001b[0m\n\u001b[0m\u001b[1;32m    290\u001b[0m \u001b[0;34m\u001b[0m\u001b[0m\n\u001b[1;32m    291\u001b[0m     def add_area(\n",
      "\u001b[0;32m~/anaconda3/lib/python3.6/site-packages/plotly/basedatatypes.py\u001b[0m in \u001b[0;36m__init__\u001b[0;34m(self, data, layout_plotly, frames)\u001b[0m\n\u001b[1;32m    114\u001b[0m \u001b[0;34m\u001b[0m\u001b[0m\n\u001b[1;32m    115\u001b[0m         \u001b[0;31m# ### Import traces ###\u001b[0m\u001b[0;34m\u001b[0m\u001b[0;34m\u001b[0m\u001b[0m\n\u001b[0;32m--> 116\u001b[0;31m         \u001b[0mdata\u001b[0m \u001b[0;34m=\u001b[0m \u001b[0mself\u001b[0m\u001b[0;34m.\u001b[0m\u001b[0m_data_validator\u001b[0m\u001b[0;34m.\u001b[0m\u001b[0mvalidate_coerce\u001b[0m\u001b[0;34m(\u001b[0m\u001b[0mdata\u001b[0m\u001b[0;34m)\u001b[0m\u001b[0;34m\u001b[0m\u001b[0m\n\u001b[0m\u001b[1;32m    117\u001b[0m \u001b[0;34m\u001b[0m\u001b[0m\n\u001b[1;32m    118\u001b[0m         \u001b[0;31m# ### Save tuple of trace objects ###\u001b[0m\u001b[0;34m\u001b[0m\u001b[0;34m\u001b[0m\u001b[0m\n",
      "\u001b[0;32m~/anaconda3/lib/python3.6/site-packages/_plotly_utils/basevalidators.py\u001b[0m in \u001b[0;36mvalidate_coerce\u001b[0;34m(self, v)\u001b[0m\n\u001b[1;32m   1953\u001b[0m                         \u001b[0minvalid_els\u001b[0m\u001b[0;34m.\u001b[0m\u001b[0mappend\u001b[0m\u001b[0;34m(\u001b[0m\u001b[0mv_el\u001b[0m\u001b[0;34m)\u001b[0m\u001b[0;34m\u001b[0m\u001b[0m\n\u001b[1;32m   1954\u001b[0m                     \u001b[0;32melse\u001b[0m\u001b[0;34m:\u001b[0m\u001b[0;34m\u001b[0m\u001b[0m\n\u001b[0;32m-> 1955\u001b[0;31m                         \u001b[0mtrace\u001b[0m \u001b[0;34m=\u001b[0m \u001b[0mself\u001b[0m\u001b[0;34m.\u001b[0m\u001b[0mclass_map\u001b[0m\u001b[0;34m[\u001b[0m\u001b[0mtrace_type\u001b[0m\u001b[0;34m]\u001b[0m\u001b[0;34m(\u001b[0m\u001b[0;34m**\u001b[0m\u001b[0mv_copy\u001b[0m\u001b[0;34m)\u001b[0m\u001b[0;34m\u001b[0m\u001b[0m\n\u001b[0m\u001b[1;32m   1956\u001b[0m                         \u001b[0mres\u001b[0m\u001b[0;34m.\u001b[0m\u001b[0mappend\u001b[0m\u001b[0;34m(\u001b[0m\u001b[0mtrace\u001b[0m\u001b[0;34m)\u001b[0m\u001b[0;34m\u001b[0m\u001b[0m\n\u001b[1;32m   1957\u001b[0m                 \u001b[0;32melse\u001b[0m\u001b[0;34m:\u001b[0m\u001b[0;34m\u001b[0m\u001b[0m\n",
      "\u001b[0;32m~/anaconda3/lib/python3.6/site-packages/plotly/graph_objs/_scatter.py\u001b[0m in \u001b[0;36m__init__\u001b[0;34m(self, arg, cliponaxis, connectgaps, customdata, customdatasrc, dx, dy, error_x, error_y, fill, fillcolor, hoverinfo, hoverinfosrc, hoverlabel, hoveron, hovertext, hovertextsrc, ids, idssrc, legendgroup, line, marker, mode, name, opacity, r, rsrc, selected, selectedpoints, showlegend, stream, t, text, textfont, textposition, textpositionsrc, textsrc, tsrc, uid, unselected, visible, x, x0, xaxis, xcalendar, xsrc, y, y0, yaxis, ycalendar, ysrc, **kwargs)\u001b[0m\n\u001b[1;32m   2081\u001b[0m         \u001b[0mself\u001b[0m\u001b[0;34m.\u001b[0m\u001b[0mline\u001b[0m \u001b[0;34m=\u001b[0m \u001b[0mline\u001b[0m \u001b[0;32mif\u001b[0m \u001b[0mline\u001b[0m \u001b[0;32mis\u001b[0m \u001b[0;32mnot\u001b[0m \u001b[0;32mNone\u001b[0m \u001b[0;32melse\u001b[0m \u001b[0m_v\u001b[0m\u001b[0;34m\u001b[0m\u001b[0m\n\u001b[1;32m   2082\u001b[0m         \u001b[0m_v\u001b[0m \u001b[0;34m=\u001b[0m \u001b[0marg\u001b[0m\u001b[0;34m.\u001b[0m\u001b[0mpop\u001b[0m\u001b[0;34m(\u001b[0m\u001b[0;34m'marker'\u001b[0m\u001b[0;34m,\u001b[0m \u001b[0;32mNone\u001b[0m\u001b[0;34m)\u001b[0m\u001b[0;34m\u001b[0m\u001b[0m\n\u001b[0;32m-> 2083\u001b[0;31m         \u001b[0mself\u001b[0m\u001b[0;34m.\u001b[0m\u001b[0mmarker\u001b[0m \u001b[0;34m=\u001b[0m \u001b[0mmarker\u001b[0m \u001b[0;32mif\u001b[0m \u001b[0mmarker\u001b[0m \u001b[0;32mis\u001b[0m \u001b[0;32mnot\u001b[0m \u001b[0;32mNone\u001b[0m \u001b[0;32melse\u001b[0m \u001b[0m_v\u001b[0m\u001b[0;34m\u001b[0m\u001b[0m\n\u001b[0m\u001b[1;32m   2084\u001b[0m         \u001b[0m_v\u001b[0m \u001b[0;34m=\u001b[0m \u001b[0marg\u001b[0m\u001b[0;34m.\u001b[0m\u001b[0mpop\u001b[0m\u001b[0;34m(\u001b[0m\u001b[0;34m'mode'\u001b[0m\u001b[0;34m,\u001b[0m \u001b[0;32mNone\u001b[0m\u001b[0;34m)\u001b[0m\u001b[0;34m\u001b[0m\u001b[0m\n\u001b[1;32m   2085\u001b[0m         \u001b[0mself\u001b[0m\u001b[0;34m.\u001b[0m\u001b[0mmode\u001b[0m \u001b[0;34m=\u001b[0m \u001b[0mmode\u001b[0m \u001b[0;32mif\u001b[0m \u001b[0mmode\u001b[0m \u001b[0;32mis\u001b[0m \u001b[0;32mnot\u001b[0m \u001b[0;32mNone\u001b[0m \u001b[0;32melse\u001b[0m \u001b[0m_v\u001b[0m\u001b[0;34m\u001b[0m\u001b[0m\n",
      "\u001b[0;32m~/anaconda3/lib/python3.6/site-packages/plotly/basedatatypes.py\u001b[0m in \u001b[0;36m__setattr__\u001b[0;34m(self, prop, value)\u001b[0m\n\u001b[1;32m   2691\u001b[0m                 prop in self._validators):\n\u001b[1;32m   2692\u001b[0m             \u001b[0;31m# Let known properties and private properties through\u001b[0m\u001b[0;34m\u001b[0m\u001b[0;34m\u001b[0m\u001b[0m\n\u001b[0;32m-> 2693\u001b[0;31m             \u001b[0msuper\u001b[0m\u001b[0;34m(\u001b[0m\u001b[0mBasePlotlyType\u001b[0m\u001b[0;34m,\u001b[0m \u001b[0mself\u001b[0m\u001b[0;34m)\u001b[0m\u001b[0;34m.\u001b[0m\u001b[0m__setattr__\u001b[0m\u001b[0;34m(\u001b[0m\u001b[0mprop\u001b[0m\u001b[0;34m,\u001b[0m \u001b[0mvalue\u001b[0m\u001b[0;34m)\u001b[0m\u001b[0;34m\u001b[0m\u001b[0m\n\u001b[0m\u001b[1;32m   2694\u001b[0m         \u001b[0;32melse\u001b[0m\u001b[0;34m:\u001b[0m\u001b[0;34m\u001b[0m\u001b[0m\n\u001b[1;32m   2695\u001b[0m             \u001b[0;31m# Raise error on unknown public properties\u001b[0m\u001b[0;34m\u001b[0m\u001b[0;34m\u001b[0m\u001b[0m\n",
      "\u001b[0;32m~/anaconda3/lib/python3.6/site-packages/plotly/graph_objs/_scatter.py\u001b[0m in \u001b[0;36mmarker\u001b[0;34m(self, val)\u001b[0m\n\u001b[1;32m    801\u001b[0m     \u001b[0;34m@\u001b[0m\u001b[0mmarker\u001b[0m\u001b[0;34m.\u001b[0m\u001b[0msetter\u001b[0m\u001b[0;34m\u001b[0m\u001b[0m\n\u001b[1;32m    802\u001b[0m     \u001b[0;32mdef\u001b[0m \u001b[0mmarker\u001b[0m\u001b[0;34m(\u001b[0m\u001b[0mself\u001b[0m\u001b[0;34m,\u001b[0m \u001b[0mval\u001b[0m\u001b[0;34m)\u001b[0m\u001b[0;34m:\u001b[0m\u001b[0;34m\u001b[0m\u001b[0m\n\u001b[0;32m--> 803\u001b[0;31m         \u001b[0mself\u001b[0m\u001b[0;34m[\u001b[0m\u001b[0;34m'marker'\u001b[0m\u001b[0;34m]\u001b[0m \u001b[0;34m=\u001b[0m \u001b[0mval\u001b[0m\u001b[0;34m\u001b[0m\u001b[0m\n\u001b[0m\u001b[1;32m    804\u001b[0m \u001b[0;34m\u001b[0m\u001b[0m\n\u001b[1;32m    805\u001b[0m     \u001b[0;31m# mode\u001b[0m\u001b[0;34m\u001b[0m\u001b[0;34m\u001b[0m\u001b[0m\n",
      "\u001b[0;32m~/anaconda3/lib/python3.6/site-packages/plotly/basedatatypes.py\u001b[0m in \u001b[0;36m__setitem__\u001b[0;34m(self, prop, value)\u001b[0m\n\u001b[1;32m   2654\u001b[0m             \u001b[0;31m# ### Handle compound property ###\u001b[0m\u001b[0;34m\u001b[0m\u001b[0;34m\u001b[0m\u001b[0m\n\u001b[1;32m   2655\u001b[0m             \u001b[0;32mif\u001b[0m \u001b[0misinstance\u001b[0m\u001b[0;34m(\u001b[0m\u001b[0mvalidator\u001b[0m\u001b[0;34m,\u001b[0m \u001b[0mCompoundValidator\u001b[0m\u001b[0;34m)\u001b[0m\u001b[0;34m:\u001b[0m\u001b[0;34m\u001b[0m\u001b[0m\n\u001b[0;32m-> 2656\u001b[0;31m                 \u001b[0mself\u001b[0m\u001b[0;34m.\u001b[0m\u001b[0m_set_compound_prop\u001b[0m\u001b[0;34m(\u001b[0m\u001b[0mprop\u001b[0m\u001b[0;34m,\u001b[0m \u001b[0mvalue\u001b[0m\u001b[0;34m)\u001b[0m\u001b[0;34m\u001b[0m\u001b[0m\n\u001b[0m\u001b[1;32m   2657\u001b[0m \u001b[0;34m\u001b[0m\u001b[0m\n\u001b[1;32m   2658\u001b[0m             \u001b[0;31m# ### Handle compound array property ###\u001b[0m\u001b[0;34m\u001b[0m\u001b[0;34m\u001b[0m\u001b[0m\n",
      "\u001b[0;32m~/anaconda3/lib/python3.6/site-packages/plotly/basedatatypes.py\u001b[0m in \u001b[0;36m_set_compound_prop\u001b[0;34m(self, prop, val)\u001b[0m\n\u001b[1;32m   2952\u001b[0m         \u001b[0mvalidator\u001b[0m \u001b[0;34m=\u001b[0m \u001b[0mself\u001b[0m\u001b[0;34m.\u001b[0m\u001b[0m_validators\u001b[0m\u001b[0;34m.\u001b[0m\u001b[0mget\u001b[0m\u001b[0;34m(\u001b[0m\u001b[0mprop\u001b[0m\u001b[0;34m)\u001b[0m\u001b[0;34m\u001b[0m\u001b[0m\n\u001b[1;32m   2953\u001b[0m         \u001b[0;31m# type: BasePlotlyType\u001b[0m\u001b[0;34m\u001b[0m\u001b[0;34m\u001b[0m\u001b[0m\n\u001b[0;32m-> 2954\u001b[0;31m         \u001b[0mval\u001b[0m \u001b[0;34m=\u001b[0m \u001b[0mvalidator\u001b[0m\u001b[0;34m.\u001b[0m\u001b[0mvalidate_coerce\u001b[0m\u001b[0;34m(\u001b[0m\u001b[0mval\u001b[0m\u001b[0;34m)\u001b[0m\u001b[0;34m\u001b[0m\u001b[0m\n\u001b[0m\u001b[1;32m   2955\u001b[0m \u001b[0;34m\u001b[0m\u001b[0m\n\u001b[1;32m   2956\u001b[0m         \u001b[0;31m# Save deep copies of current and new states\u001b[0m\u001b[0;34m\u001b[0m\u001b[0;34m\u001b[0m\u001b[0m\n",
      "\u001b[0;32m~/anaconda3/lib/python3.6/site-packages/_plotly_utils/basevalidators.py\u001b[0m in \u001b[0;36mvalidate_coerce\u001b[0;34m(self, v)\u001b[0m\n\u001b[1;32m   1783\u001b[0m \u001b[0;34m\u001b[0m\u001b[0m\n\u001b[1;32m   1784\u001b[0m         \u001b[0;32melif\u001b[0m \u001b[0misinstance\u001b[0m\u001b[0;34m(\u001b[0m\u001b[0mv\u001b[0m\u001b[0;34m,\u001b[0m \u001b[0mdict\u001b[0m\u001b[0;34m)\u001b[0m\u001b[0;34m:\u001b[0m\u001b[0;34m\u001b[0m\u001b[0m\n\u001b[0;32m-> 1785\u001b[0;31m             \u001b[0mv\u001b[0m \u001b[0;34m=\u001b[0m \u001b[0mself\u001b[0m\u001b[0;34m.\u001b[0m\u001b[0mdata_class\u001b[0m\u001b[0;34m(\u001b[0m\u001b[0;34m**\u001b[0m\u001b[0mv\u001b[0m\u001b[0;34m)\u001b[0m\u001b[0;34m\u001b[0m\u001b[0m\n\u001b[0m\u001b[1;32m   1786\u001b[0m \u001b[0;34m\u001b[0m\u001b[0m\n\u001b[1;32m   1787\u001b[0m         \u001b[0;32melif\u001b[0m \u001b[0misinstance\u001b[0m\u001b[0;34m(\u001b[0m\u001b[0mv\u001b[0m\u001b[0;34m,\u001b[0m \u001b[0mself\u001b[0m\u001b[0;34m.\u001b[0m\u001b[0mdata_class\u001b[0m\u001b[0;34m)\u001b[0m\u001b[0;34m:\u001b[0m\u001b[0;34m\u001b[0m\u001b[0m\n",
      "\u001b[0;32m~/anaconda3/lib/python3.6/site-packages/plotly/graph_objs/scatter/_marker.py\u001b[0m in \u001b[0;36m__init__\u001b[0;34m(self, arg, autocolorscale, cauto, cmax, cmin, color, colorbar, colorscale, colorsrc, gradient, line, maxdisplayed, opacity, opacitysrc, reversescale, showscale, size, sizemin, sizemode, sizeref, sizesrc, symbol, symbolsrc, **kwargs)\u001b[0m\n\u001b[1;32m   1205\u001b[0m         \u001b[0mself\u001b[0m\u001b[0;34m.\u001b[0m\u001b[0mcmin\u001b[0m \u001b[0;34m=\u001b[0m \u001b[0mcmin\u001b[0m \u001b[0;32mif\u001b[0m \u001b[0mcmin\u001b[0m \u001b[0;32mis\u001b[0m \u001b[0;32mnot\u001b[0m \u001b[0;32mNone\u001b[0m \u001b[0;32melse\u001b[0m \u001b[0m_v\u001b[0m\u001b[0;34m\u001b[0m\u001b[0m\n\u001b[1;32m   1206\u001b[0m         \u001b[0m_v\u001b[0m \u001b[0;34m=\u001b[0m \u001b[0marg\u001b[0m\u001b[0;34m.\u001b[0m\u001b[0mpop\u001b[0m\u001b[0;34m(\u001b[0m\u001b[0;34m'color'\u001b[0m\u001b[0;34m,\u001b[0m \u001b[0;32mNone\u001b[0m\u001b[0;34m)\u001b[0m\u001b[0;34m\u001b[0m\u001b[0m\n\u001b[0;32m-> 1207\u001b[0;31m         \u001b[0mself\u001b[0m\u001b[0;34m.\u001b[0m\u001b[0mcolor\u001b[0m \u001b[0;34m=\u001b[0m \u001b[0mcolor\u001b[0m \u001b[0;32mif\u001b[0m \u001b[0mcolor\u001b[0m \u001b[0;32mis\u001b[0m \u001b[0;32mnot\u001b[0m \u001b[0;32mNone\u001b[0m \u001b[0;32melse\u001b[0m \u001b[0m_v\u001b[0m\u001b[0;34m\u001b[0m\u001b[0m\n\u001b[0m\u001b[1;32m   1208\u001b[0m         \u001b[0m_v\u001b[0m \u001b[0;34m=\u001b[0m \u001b[0marg\u001b[0m\u001b[0;34m.\u001b[0m\u001b[0mpop\u001b[0m\u001b[0;34m(\u001b[0m\u001b[0;34m'colorbar'\u001b[0m\u001b[0;34m,\u001b[0m \u001b[0;32mNone\u001b[0m\u001b[0;34m)\u001b[0m\u001b[0;34m\u001b[0m\u001b[0m\n\u001b[1;32m   1209\u001b[0m         \u001b[0mself\u001b[0m\u001b[0;34m.\u001b[0m\u001b[0mcolorbar\u001b[0m \u001b[0;34m=\u001b[0m \u001b[0mcolorbar\u001b[0m \u001b[0;32mif\u001b[0m \u001b[0mcolorbar\u001b[0m \u001b[0;32mis\u001b[0m \u001b[0;32mnot\u001b[0m \u001b[0;32mNone\u001b[0m \u001b[0;32melse\u001b[0m \u001b[0m_v\u001b[0m\u001b[0;34m\u001b[0m\u001b[0m\n",
      "\u001b[0;32m~/anaconda3/lib/python3.6/site-packages/plotly/basedatatypes.py\u001b[0m in \u001b[0;36m__setattr__\u001b[0;34m(self, prop, value)\u001b[0m\n\u001b[1;32m   2691\u001b[0m                 prop in self._validators):\n\u001b[1;32m   2692\u001b[0m             \u001b[0;31m# Let known properties and private properties through\u001b[0m\u001b[0;34m\u001b[0m\u001b[0;34m\u001b[0m\u001b[0m\n\u001b[0;32m-> 2693\u001b[0;31m             \u001b[0msuper\u001b[0m\u001b[0;34m(\u001b[0m\u001b[0mBasePlotlyType\u001b[0m\u001b[0;34m,\u001b[0m \u001b[0mself\u001b[0m\u001b[0;34m)\u001b[0m\u001b[0;34m.\u001b[0m\u001b[0m__setattr__\u001b[0m\u001b[0;34m(\u001b[0m\u001b[0mprop\u001b[0m\u001b[0;34m,\u001b[0m \u001b[0mvalue\u001b[0m\u001b[0;34m)\u001b[0m\u001b[0;34m\u001b[0m\u001b[0m\n\u001b[0m\u001b[1;32m   2694\u001b[0m         \u001b[0;32melse\u001b[0m\u001b[0;34m:\u001b[0m\u001b[0;34m\u001b[0m\u001b[0m\n\u001b[1;32m   2695\u001b[0m             \u001b[0;31m# Raise error on unknown public properties\u001b[0m\u001b[0;34m\u001b[0m\u001b[0;34m\u001b[0m\u001b[0m\n",
      "\u001b[0;32m~/anaconda3/lib/python3.6/site-packages/plotly/graph_objs/scatter/_marker.py\u001b[0m in \u001b[0;36mcolor\u001b[0;34m(self, val)\u001b[0m\n\u001b[1;32m    165\u001b[0m     \u001b[0;34m@\u001b[0m\u001b[0mcolor\u001b[0m\u001b[0;34m.\u001b[0m\u001b[0msetter\u001b[0m\u001b[0;34m\u001b[0m\u001b[0m\n\u001b[1;32m    166\u001b[0m     \u001b[0;32mdef\u001b[0m \u001b[0mcolor\u001b[0m\u001b[0;34m(\u001b[0m\u001b[0mself\u001b[0m\u001b[0;34m,\u001b[0m \u001b[0mval\u001b[0m\u001b[0;34m)\u001b[0m\u001b[0;34m:\u001b[0m\u001b[0;34m\u001b[0m\u001b[0m\n\u001b[0;32m--> 167\u001b[0;31m         \u001b[0mself\u001b[0m\u001b[0;34m[\u001b[0m\u001b[0;34m'color'\u001b[0m\u001b[0;34m]\u001b[0m \u001b[0;34m=\u001b[0m \u001b[0mval\u001b[0m\u001b[0;34m\u001b[0m\u001b[0m\n\u001b[0m\u001b[1;32m    168\u001b[0m \u001b[0;34m\u001b[0m\u001b[0m\n\u001b[1;32m    169\u001b[0m     \u001b[0;31m# colorbar\u001b[0m\u001b[0;34m\u001b[0m\u001b[0;34m\u001b[0m\u001b[0m\n",
      "\u001b[0;32m~/anaconda3/lib/python3.6/site-packages/plotly/basedatatypes.py\u001b[0m in \u001b[0;36m__setitem__\u001b[0;34m(self, prop, value)\u001b[0m\n\u001b[1;32m   2663\u001b[0m             \u001b[0;31m# ### Handle simple property ###\u001b[0m\u001b[0;34m\u001b[0m\u001b[0;34m\u001b[0m\u001b[0m\n\u001b[1;32m   2664\u001b[0m             \u001b[0;32melse\u001b[0m\u001b[0;34m:\u001b[0m\u001b[0;34m\u001b[0m\u001b[0m\n\u001b[0;32m-> 2665\u001b[0;31m                 \u001b[0mself\u001b[0m\u001b[0;34m.\u001b[0m\u001b[0m_set_prop\u001b[0m\u001b[0;34m(\u001b[0m\u001b[0mprop\u001b[0m\u001b[0;34m,\u001b[0m \u001b[0mvalue\u001b[0m\u001b[0;34m)\u001b[0m\u001b[0;34m\u001b[0m\u001b[0m\n\u001b[0m\u001b[1;32m   2666\u001b[0m \u001b[0;34m\u001b[0m\u001b[0m\n\u001b[1;32m   2667\u001b[0m         \u001b[0;31m# Handle non-scalar case\u001b[0m\u001b[0;34m\u001b[0m\u001b[0;34m\u001b[0m\u001b[0m\n",
      "\u001b[0;32m~/anaconda3/lib/python3.6/site-packages/plotly/basedatatypes.py\u001b[0m in \u001b[0;36m_set_prop\u001b[0;34m(self, prop, val)\u001b[0m\n\u001b[1;32m   2893\u001b[0m         \u001b[0;31m# ------------\u001b[0m\u001b[0;34m\u001b[0m\u001b[0;34m\u001b[0m\u001b[0m\n\u001b[1;32m   2894\u001b[0m         \u001b[0mvalidator\u001b[0m \u001b[0;34m=\u001b[0m \u001b[0mself\u001b[0m\u001b[0;34m.\u001b[0m\u001b[0m_validators\u001b[0m\u001b[0;34m.\u001b[0m\u001b[0mget\u001b[0m\u001b[0;34m(\u001b[0m\u001b[0mprop\u001b[0m\u001b[0;34m)\u001b[0m\u001b[0;34m\u001b[0m\u001b[0m\n\u001b[0;32m-> 2895\u001b[0;31m         \u001b[0mval\u001b[0m \u001b[0;34m=\u001b[0m \u001b[0mvalidator\u001b[0m\u001b[0;34m.\u001b[0m\u001b[0mvalidate_coerce\u001b[0m\u001b[0;34m(\u001b[0m\u001b[0mval\u001b[0m\u001b[0;34m)\u001b[0m\u001b[0;34m\u001b[0m\u001b[0m\n\u001b[0m\u001b[1;32m   2896\u001b[0m \u001b[0;34m\u001b[0m\u001b[0m\n\u001b[1;32m   2897\u001b[0m         \u001b[0;31m# val is None\u001b[0m\u001b[0;34m\u001b[0m\u001b[0;34m\u001b[0m\u001b[0m\n",
      "\u001b[0;32m~/anaconda3/lib/python3.6/site-packages/_plotly_utils/basevalidators.py\u001b[0m in \u001b[0;36mvalidate_coerce\u001b[0;34m(self, v, should_raise)\u001b[0m\n\u001b[1;32m   1068\u001b[0m             \u001b[0mvalidated_v\u001b[0m \u001b[0;34m=\u001b[0m \u001b[0mself\u001b[0m\u001b[0;34m.\u001b[0m\u001b[0mvc_scalar\u001b[0m\u001b[0;34m(\u001b[0m\u001b[0mv\u001b[0m\u001b[0;34m)\u001b[0m\u001b[0;34m\u001b[0m\u001b[0m\n\u001b[1;32m   1069\u001b[0m             \u001b[0;32mif\u001b[0m \u001b[0mvalidated_v\u001b[0m \u001b[0;32mis\u001b[0m \u001b[0;32mNone\u001b[0m \u001b[0;32mand\u001b[0m \u001b[0mshould_raise\u001b[0m\u001b[0;34m:\u001b[0m\u001b[0;34m\u001b[0m\u001b[0m\n\u001b[0;32m-> 1070\u001b[0;31m                 \u001b[0mself\u001b[0m\u001b[0;34m.\u001b[0m\u001b[0mraise_invalid_val\u001b[0m\u001b[0;34m(\u001b[0m\u001b[0mv\u001b[0m\u001b[0;34m)\u001b[0m\u001b[0;34m\u001b[0m\u001b[0m\n\u001b[0m\u001b[1;32m   1071\u001b[0m \u001b[0;34m\u001b[0m\u001b[0m\n\u001b[1;32m   1072\u001b[0m             \u001b[0mv\u001b[0m \u001b[0;34m=\u001b[0m \u001b[0mvalidated_v\u001b[0m\u001b[0;34m\u001b[0m\u001b[0m\n",
      "\u001b[0;32m~/anaconda3/lib/python3.6/site-packages/_plotly_utils/basevalidators.py\u001b[0m in \u001b[0;36mraise_invalid_val\u001b[0;34m(self, v)\u001b[0m\n\u001b[1;32m    214\u001b[0m             \u001b[0mtyp\u001b[0m\u001b[0;34m=\u001b[0m\u001b[0mtype_str\u001b[0m\u001b[0;34m(\u001b[0m\u001b[0mv\u001b[0m\u001b[0;34m)\u001b[0m\u001b[0;34m,\u001b[0m\u001b[0;34m\u001b[0m\u001b[0m\n\u001b[1;32m    215\u001b[0m             \u001b[0mv\u001b[0m\u001b[0;34m=\u001b[0m\u001b[0mrepr\u001b[0m\u001b[0;34m(\u001b[0m\u001b[0mv\u001b[0m\u001b[0;34m)\u001b[0m\u001b[0;34m,\u001b[0m\u001b[0;34m\u001b[0m\u001b[0m\n\u001b[0;32m--> 216\u001b[0;31m             valid_clr_desc=self.description()))\n\u001b[0m\u001b[1;32m    217\u001b[0m \u001b[0;34m\u001b[0m\u001b[0m\n\u001b[1;32m    218\u001b[0m     \u001b[0;32mdef\u001b[0m \u001b[0mraise_invalid_elements\u001b[0m\u001b[0;34m(\u001b[0m\u001b[0mself\u001b[0m\u001b[0;34m,\u001b[0m \u001b[0minvalid_els\u001b[0m\u001b[0;34m)\u001b[0m\u001b[0;34m:\u001b[0m\u001b[0;34m\u001b[0m\u001b[0m\n",
      "\u001b[0;31mValueError\u001b[0m: \n    Invalid value of type 'builtins.str' received for the 'color' property of scatter.marker\n        Received value: 'yello'\n\n    The 'color' property is a color and may be specified as:\n      - A hex string (e.g. '#ff0000')\n      - An rgb/rgba string (e.g. 'rgb(255,0,0)')\n      - An hsl/hsla string (e.g. 'hsl(0,100%,50%)')\n      - An hsv/hsva string (e.g. 'hsv(0,100%,100%)')\n      - A named CSS color:\n            aliceblue, antiquewhite, aqua, aquamarine, azure,\n            beige, bisque, black, blanchedalmond, blue,\n            blueviolet, brown, burlywood, cadetblue,\n            chartreuse, chocolate, coral, cornflowerblue,\n            cornsilk, crimson, cyan, darkblue, darkcyan,\n            darkgoldenrod, darkgray, darkgrey, darkgreen,\n            darkkhaki, darkmagenta, darkolivegreen, darkorange,\n            darkorchid, darkred, darksalmon, darkseagreen,\n            darkslateblue, darkslategray, darkslategrey,\n            darkturquoise, darkviolet, deeppink, deepskyblue,\n            dimgray, dimgrey, dodgerblue, firebrick,\n            floralwhite, forestgreen, fuchsia, gainsboro,\n            ghostwhite, gold, goldenrod, gray, grey, green,\n            greenyellow, honeydew, hotpink, indianred, indigo,\n            ivory, khaki, lavender, lavenderblush, lawngreen,\n            lemonchiffon, lightblue, lightcoral, lightcyan,\n            lightgoldenrodyellow, lightgray, lightgrey,\n            lightgreen, lightpink, lightsalmon, lightseagreen,\n            lightskyblue, lightslategray, lightslategrey,\n            lightsteelblue, lightyellow, lime, limegreen,\n            linen, magenta, maroon, mediumaquamarine,\n            mediumblue, mediumorchid, mediumpurple,\n            mediumseagreen, mediumslateblue, mediumspringgreen,\n            mediumturquoise, mediumvioletred, midnightblue,\n            mintcream, mistyrose, moccasin, navajowhite, navy,\n            oldlace, olive, olivedrab, orange, orangered,\n            orchid, palegoldenrod, palegreen, paleturquoise,\n            palevioletred, papayawhip, peachpuff, peru, pink,\n            plum, powderblue, purple, red, rosybrown,\n            royalblue, saddlebrown, salmon, sandybrown,\n            seagreen, seashell, sienna, silver, skyblue,\n            slateblue, slategray, slategrey, snow, springgreen,\n            steelblue, tan, teal, thistle, tomato, turquoise,\n            violet, wheat, white, whitesmoke, yellow,\n            yellowgreen\n      - A number that will be interpreted as a color\n        according to scatter.marker.colorscale\n      - A list or array of any of the above"
     ]
    }
   ],
   "source": [
    "for root, dirs, filenames in os.walk(\"Simulation/delayer\"):\n",
    "    for file in filenames:\n",
    "        drawdelayer(\"Simulation/delayer/\"+file)\n",
    "   \n",
    "        "
   ]
  },
  {
   "cell_type": "code",
   "execution_count": 100,
   "metadata": {},
   "outputs": [
    {
     "name": "stdout",
     "output_type": "stream",
     "text": [
      "['Bottleneck', 'Loss_Rate', 'Base', 'delta']\n"
     ]
    }
   ],
   "source": [
    "df = pd.read_csv(\"Simulation/shaper/shaper__bottleneck_loss_rate_ratio_with_ni_sp_3.csv\") \n",
    "columnNames = list(df.head(0))\n",
    "print(columnNames)"
   ]
  }
 ],
 "metadata": {
  "kernelspec": {
   "display_name": "Python 3",
   "language": "python",
   "name": "python3"
  },
  "language_info": {
   "codemirror_mode": {
    "name": "ipython",
    "version": 3
   },
   "file_extension": ".py",
   "mimetype": "text/x-python",
   "name": "python",
   "nbconvert_exporter": "python",
   "pygments_lexer": "ipython3",
   "version": "3.6.4"
  }
 },
 "nbformat": 4,
 "nbformat_minor": 2
}
